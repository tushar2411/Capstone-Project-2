{
  "cells": [
    {
      "cell_type": "markdown",
      "metadata": {
        "id": "view-in-github",
        "colab_type": "text"
      },
      "source": [
        "<a href=\"https://colab.research.google.com/github/tushar2411/Capstone-Project-2/blob/main/Rossmann_Retail_Sales_Prediction_Tushar_Khairnar.ipynb\" target=\"_parent\"><img src=\"https://colab.research.google.com/assets/colab-badge.svg\" alt=\"Open In Colab\"/></a>"
      ]
    },
    {
      "cell_type": "markdown",
      "metadata": {
        "id": "maGrijRUEJX-"
      },
      "source": [
        "#<b> Project Title :- Sales Prediction : Predicting sales of a major store chain Rossmann</b>\n",
        "\n",
        "\n",
        "---\n",
        "\n",
        "---\n",
        "\n"
      ]
    },
    {
      "cell_type": "markdown",
      "metadata": {
        "id": "Ug5RgqBcHI6n"
      },
      "source": [
        "## <b> Project Description </b>\n",
        "\n",
        "### Rossmann operates over 3,000 drug stores in 7 European countries. Currently, Rossmann store managers are tasked with predicting their daily sales for up to six weeks in advance. Store sales are influenced by many factors, including promotions, competition, school and state holidays, seasonality, and locality. With thousands of individual managers predicting sales based on their unique circumstances, the accuracy of results can be quite varied.\n",
        "\n",
        "### You are provided with historical sales data for 1,115 Rossmann stores. The task is to forecast the \"Sales\" column for the test set. Note that some stores in the dataset were temporarily closed for refurbishment."
      ]
    },
    {
      "cell_type": "markdown",
      "metadata": {
        "id": "o1MMdJJ9HebM"
      },
      "source": [
        "## <b> Data Description </b>\n",
        "\n",
        "### <b>Rossmann Stores Data.csv </b> - historical data including Sales\n",
        "### <b>store.csv </b> - supplemental information about the stores\n",
        "\n",
        "\n",
        "### <b><u>Data fields</u></b>\n",
        "### Most of the fields are self-explanatory. The following are descriptions for those that aren't.\n",
        "\n",
        "* #### Id - an Id that represents a (Store, Date) duple within the test set\n",
        "* #### Store - a unique Id for each store\n",
        "* #### Sales - the turnover for any given day (this is what you are predicting)\n",
        "* #### Customers - the number of customers on a given day\n",
        "* #### Open - an indicator for whether the store was open: 0 = closed, 1 = open\n",
        "* #### StateHoliday - indicates a state holiday. Normally all stores, with few exceptions, are closed on state holidays. Note that all schools are closed on public holidays and weekends. a = public holiday, b = Easter holiday, c = Christmas, 0 = None\n",
        "* #### SchoolHoliday - indicates if the (Store, Date) was affected by the closure of public schools\n",
        "* #### StoreType - differentiates between 4 different store models: a, b, c, d\n",
        "* #### Assortment - describes an assortment level: a = basic, b = extra, c = extended\n",
        "* #### CompetitionDistance - distance in meters to the nearest competitor store\n",
        "* #### CompetitionOpenSince[Month/Year] - gives the approximate year and month of the time the nearest competitor was opened\n",
        "* #### Promo - indicates whether a store is running a promo on that day\n",
        "* #### Promo2 - Promo2 is a continuing and consecutive promotion for some stores: 0 = store is not participating, 1 = store is participating\n",
        "* #### Promo2Since[Year/Week] - describes the year and calendar week when the store started participating in Promo2\n",
        "* #### PromoInterval - describes the consecutive intervals Promo2 is started, naming the months the promotion is started anew. E.g. \"Feb,May,Aug,Nov\" means each round starts in February, May, August, November of any given year for that store\n"
      ]
    },
    {
      "cell_type": "markdown",
      "metadata": {
        "id": "0X4ekDFUIijf"
      },
      "source": [
        "#**Following are the 7 major steps of building Machine Learning Model** :\n",
        "##1.   Collecting Data.\n",
        "##2.   Preparing the Data\n",
        "* ###  Exploratory Data Analysis.\n",
        "* ###  Feature engineering.\n",
        "\n",
        "##3.   Choosing a Model\n",
        "##4.   Training the Model.\n",
        "##5.   Evaluating the Model.\n",
        "##6.   Parameter Tuning.\n",
        "##7.   Making Predictions."
      ]
    },
    {
      "cell_type": "markdown",
      "metadata": {
        "id": "qzTg_SMgJJG6"
      },
      "source": [
        "##*First thing first importing the necessary libraries for EDA and Machine learning algorithim to train our model.*\n",
        "##*Following are the libraries:-*\n",
        "\n",
        "1.   NumPy\n",
        "2.   Pandas\n",
        "3.   Matplotlib\n",
        "4.   Seaborn\n",
        "5.   Scikit Learn\n",
        "\n",
        "\n"
      ]
    },
    {
      "cell_type": "code",
      "execution_count": null,
      "metadata": {
        "id": "Q1QzxpIQDbFE"
      },
      "outputs": [],
      "source": [
        "# Importing Essential Libraries\n",
        "import pandas as pd\n",
        "import numpy as np\n",
        "from pandas import datetime as dt\n",
        "from pandas import Series,DataFrame\n",
        "import datetime\n",
        "\n",
        "# Importing Libraries For Data Visualization\n",
        "import matplotlib.pyplot as plt\n",
        "%matplotlib inline\n",
        "import seaborn as sns\n",
        "from scipy.stats import norm\n",
        "from scipy import stats\n",
        "\n",
        "\n",
        "# Importing Matrics\n",
        "from sklearn.metrics import mean_absolute_error\n",
        "from sklearn.metrics import mean_squared_error\n",
        "from sklearn.metrics import accuracy_score\n",
        "from sklearn.metrics import r2_score\n",
        "\n",
        "\n",
        "# Importing Libraries For ML Model\n",
        "from sklearn.linear_model import LinearRegression\n",
        "from sklearn.linear_model import Ridge, Lasso\n",
        "from sklearn.model_selection import GridSearchCV\n",
        "from sklearn.preprocessing import PolynomialFeatures\n",
        "from sklearn.tree import DecisionTreeRegressor\n",
        "from sklearn.model_selection import train_test_split\n",
        "from sklearn.ensemble import GradientBoostingRegressor\n",
        "# from xgboost import XGBRegressor\n",
        "from sklearn.preprocessing import MinMaxScaler\n",
        "from sklearn.ensemble import RandomForestRegressor\n",
        "\n",
        "\n",
        "# Ignoring warnings\n",
        "import warnings\n",
        "warnings.filterwarnings('ignore')"
      ]
    },
    {
      "cell_type": "markdown",
      "metadata": {
        "id": "itW2MziQKpXB"
      },
      "source": [
        "##*Now we are ready to mount the google drive using following code*\n"
      ]
    },
    {
      "cell_type": "markdown",
      "metadata": {
        "id": "XBTEfFhsOP23"
      },
      "source": [
        "\n",
        "#**Step-1} Collecting Data**"
      ]
    },
    {
      "cell_type": "markdown",
      "metadata": {
        "id": "zvb0_kETOX7w"
      },
      "source": [
        "##*After mounting the gdrive we are ready to load our dataset.*\n",
        "we have two dataset.which is Rossmann Store data and Store data.In which we have diffrent store observations and its some information like sales store catagories etc.\n"
      ]
    },
    {
      "cell_type": "code",
      "execution_count": null,
      "metadata": {
        "id": "5U4hSKhlOEME"
      },
      "outputs": [],
      "source": [
        "rossmann_df = pd.read_csv(\"Rossmann Stores Data.csv\")\n",
        "\n",
        "store_df = pd.read_csv(\"store.csv\")"
      ]
    },
    {
      "cell_type": "markdown",
      "metadata": {
        "id": "MXyf5p8OP7WJ"
      },
      "source": [
        "#**Step-2} Preparing The Data**"
      ]
    },
    {
      "cell_type": "markdown",
      "metadata": {
        "id": "8YK9bEjqW_M-"
      },
      "source": [
        "##*Let's Take a Look On Datas*"
      ]
    },
    {
      "cell_type": "code",
      "execution_count": null,
      "metadata": {
        "colab": {
          "base_uri": "https://localhost:8080/",
          "height": 206
        },
        "id": "LdimfbRqWz16",
        "outputId": "799e3557-0eb8-4c68-c973-fdaa1f4fe9b2"
      },
      "outputs": [
        {
          "data": {
            "text/html": [
              "<div>\n",
              "<style scoped>\n",
              "    .dataframe tbody tr th:only-of-type {\n",
              "        vertical-align: middle;\n",
              "    }\n",
              "\n",
              "    .dataframe tbody tr th {\n",
              "        vertical-align: top;\n",
              "    }\n",
              "\n",
              "    .dataframe thead th {\n",
              "        text-align: right;\n",
              "    }\n",
              "</style>\n",
              "<table border=\"1\" class=\"dataframe\">\n",
              "  <thead>\n",
              "    <tr style=\"text-align: right;\">\n",
              "      <th></th>\n",
              "      <th>Store</th>\n",
              "      <th>DayOfWeek</th>\n",
              "      <th>Date</th>\n",
              "      <th>Sales</th>\n",
              "      <th>Customers</th>\n",
              "      <th>Open</th>\n",
              "      <th>Promo</th>\n",
              "      <th>StateHoliday</th>\n",
              "      <th>SchoolHoliday</th>\n",
              "    </tr>\n",
              "  </thead>\n",
              "  <tbody>\n",
              "    <tr>\n",
              "      <th>0</th>\n",
              "      <td>1</td>\n",
              "      <td>5</td>\n",
              "      <td>2015-07-31</td>\n",
              "      <td>5263</td>\n",
              "      <td>555</td>\n",
              "      <td>1</td>\n",
              "      <td>1</td>\n",
              "      <td>0</td>\n",
              "      <td>1</td>\n",
              "    </tr>\n",
              "    <tr>\n",
              "      <th>1</th>\n",
              "      <td>2</td>\n",
              "      <td>5</td>\n",
              "      <td>2015-07-31</td>\n",
              "      <td>6064</td>\n",
              "      <td>625</td>\n",
              "      <td>1</td>\n",
              "      <td>1</td>\n",
              "      <td>0</td>\n",
              "      <td>1</td>\n",
              "    </tr>\n",
              "    <tr>\n",
              "      <th>2</th>\n",
              "      <td>3</td>\n",
              "      <td>5</td>\n",
              "      <td>2015-07-31</td>\n",
              "      <td>8314</td>\n",
              "      <td>821</td>\n",
              "      <td>1</td>\n",
              "      <td>1</td>\n",
              "      <td>0</td>\n",
              "      <td>1</td>\n",
              "    </tr>\n",
              "    <tr>\n",
              "      <th>3</th>\n",
              "      <td>4</td>\n",
              "      <td>5</td>\n",
              "      <td>2015-07-31</td>\n",
              "      <td>13995</td>\n",
              "      <td>1498</td>\n",
              "      <td>1</td>\n",
              "      <td>1</td>\n",
              "      <td>0</td>\n",
              "      <td>1</td>\n",
              "    </tr>\n",
              "    <tr>\n",
              "      <th>4</th>\n",
              "      <td>5</td>\n",
              "      <td>5</td>\n",
              "      <td>2015-07-31</td>\n",
              "      <td>4822</td>\n",
              "      <td>559</td>\n",
              "      <td>1</td>\n",
              "      <td>1</td>\n",
              "      <td>0</td>\n",
              "      <td>1</td>\n",
              "    </tr>\n",
              "  </tbody>\n",
              "</table>\n",
              "</div>"
            ],
            "text/plain": [
              "   Store  DayOfWeek        Date  Sales  Customers  Open  Promo StateHoliday  \\\n",
              "0      1          5  2015-07-31   5263        555     1      1            0   \n",
              "1      2          5  2015-07-31   6064        625     1      1            0   \n",
              "2      3          5  2015-07-31   8314        821     1      1            0   \n",
              "3      4          5  2015-07-31  13995       1498     1      1            0   \n",
              "4      5          5  2015-07-31   4822        559     1      1            0   \n",
              "\n",
              "   SchoolHoliday  \n",
              "0              1  \n",
              "1              1  \n",
              "2              1  \n",
              "3              1  \n",
              "4              1  "
            ]
          },
          "execution_count": 112,
          "metadata": {},
          "output_type": "execute_result"
        }
      ],
      "source": [
        "rossmann_df.head()"
      ]
    },
    {
      "cell_type": "code",
      "execution_count": null,
      "metadata": {
        "colab": {
          "base_uri": "https://localhost:8080/",
          "height": 206
        },
        "id": "GTZnXSKCW4ad",
        "outputId": "88986a9a-ccce-4187-f6eb-31d4a83c2231"
      },
      "outputs": [
        {
          "data": {
            "text/html": [
              "<div>\n",
              "<style scoped>\n",
              "    .dataframe tbody tr th:only-of-type {\n",
              "        vertical-align: middle;\n",
              "    }\n",
              "\n",
              "    .dataframe tbody tr th {\n",
              "        vertical-align: top;\n",
              "    }\n",
              "\n",
              "    .dataframe thead th {\n",
              "        text-align: right;\n",
              "    }\n",
              "</style>\n",
              "<table border=\"1\" class=\"dataframe\">\n",
              "  <thead>\n",
              "    <tr style=\"text-align: right;\">\n",
              "      <th></th>\n",
              "      <th>Store</th>\n",
              "      <th>StoreType</th>\n",
              "      <th>Assortment</th>\n",
              "      <th>CompetitionDistance</th>\n",
              "      <th>CompetitionOpenSinceMonth</th>\n",
              "      <th>CompetitionOpenSinceYear</th>\n",
              "      <th>Promo2</th>\n",
              "      <th>Promo2SinceWeek</th>\n",
              "      <th>Promo2SinceYear</th>\n",
              "      <th>PromoInterval</th>\n",
              "    </tr>\n",
              "  </thead>\n",
              "  <tbody>\n",
              "    <tr>\n",
              "      <th>0</th>\n",
              "      <td>1</td>\n",
              "      <td>c</td>\n",
              "      <td>a</td>\n",
              "      <td>1270.0</td>\n",
              "      <td>9.0</td>\n",
              "      <td>2008.0</td>\n",
              "      <td>0</td>\n",
              "      <td>NaN</td>\n",
              "      <td>NaN</td>\n",
              "      <td>NaN</td>\n",
              "    </tr>\n",
              "    <tr>\n",
              "      <th>1</th>\n",
              "      <td>2</td>\n",
              "      <td>a</td>\n",
              "      <td>a</td>\n",
              "      <td>570.0</td>\n",
              "      <td>11.0</td>\n",
              "      <td>2007.0</td>\n",
              "      <td>1</td>\n",
              "      <td>13.0</td>\n",
              "      <td>2010.0</td>\n",
              "      <td>Jan,Apr,Jul,Oct</td>\n",
              "    </tr>\n",
              "    <tr>\n",
              "      <th>2</th>\n",
              "      <td>3</td>\n",
              "      <td>a</td>\n",
              "      <td>a</td>\n",
              "      <td>14130.0</td>\n",
              "      <td>12.0</td>\n",
              "      <td>2006.0</td>\n",
              "      <td>1</td>\n",
              "      <td>14.0</td>\n",
              "      <td>2011.0</td>\n",
              "      <td>Jan,Apr,Jul,Oct</td>\n",
              "    </tr>\n",
              "    <tr>\n",
              "      <th>3</th>\n",
              "      <td>4</td>\n",
              "      <td>c</td>\n",
              "      <td>c</td>\n",
              "      <td>620.0</td>\n",
              "      <td>9.0</td>\n",
              "      <td>2009.0</td>\n",
              "      <td>0</td>\n",
              "      <td>NaN</td>\n",
              "      <td>NaN</td>\n",
              "      <td>NaN</td>\n",
              "    </tr>\n",
              "    <tr>\n",
              "      <th>4</th>\n",
              "      <td>5</td>\n",
              "      <td>a</td>\n",
              "      <td>a</td>\n",
              "      <td>29910.0</td>\n",
              "      <td>4.0</td>\n",
              "      <td>2015.0</td>\n",
              "      <td>0</td>\n",
              "      <td>NaN</td>\n",
              "      <td>NaN</td>\n",
              "      <td>NaN</td>\n",
              "    </tr>\n",
              "  </tbody>\n",
              "</table>\n",
              "</div>"
            ],
            "text/plain": [
              "   Store StoreType Assortment  CompetitionDistance  CompetitionOpenSinceMonth  \\\n",
              "0      1         c          a               1270.0                        9.0   \n",
              "1      2         a          a                570.0                       11.0   \n",
              "2      3         a          a              14130.0                       12.0   \n",
              "3      4         c          c                620.0                        9.0   \n",
              "4      5         a          a              29910.0                        4.0   \n",
              "\n",
              "   CompetitionOpenSinceYear  Promo2  Promo2SinceWeek  Promo2SinceYear  \\\n",
              "0                    2008.0       0              NaN              NaN   \n",
              "1                    2007.0       1             13.0           2010.0   \n",
              "2                    2006.0       1             14.0           2011.0   \n",
              "3                    2009.0       0              NaN              NaN   \n",
              "4                    2015.0       0              NaN              NaN   \n",
              "\n",
              "     PromoInterval  \n",
              "0              NaN  \n",
              "1  Jan,Apr,Jul,Oct  \n",
              "2  Jan,Apr,Jul,Oct  \n",
              "3              NaN  \n",
              "4              NaN  "
            ]
          },
          "execution_count": 113,
          "metadata": {},
          "output_type": "execute_result"
        }
      ],
      "source": [
        "store_df.head()"
      ]
    },
    {
      "cell_type": "markdown",
      "metadata": {
        "id": "yiJNJcrxQjq_"
      },
      "source": [
        "##*Now checking the shape of our DataFrames which helps to get an idea to know the number of rows and columns present in our both DataFrames.*"
      ]
    },
    {
      "cell_type": "code",
      "execution_count": null,
      "metadata": {
        "colab": {
          "base_uri": "https://localhost:8080/"
        },
        "id": "SVvme1c0PUHg",
        "outputId": "399a0d9b-b029-4762-8af2-dcd0a64af17c"
      },
      "outputs": [
        {
          "data": {
            "text/plain": [
              "((1017209, 9), (1115, 10))"
            ]
          },
          "execution_count": 114,
          "metadata": {},
          "output_type": "execute_result"
        }
      ],
      "source": [
        "rossmann_df.shape, store_df.shape"
      ]
    },
    {
      "cell_type": "markdown",
      "metadata": {
        "id": "aj9DQzCQQ6TT"
      },
      "source": [
        "##The `rossmann_df` has `1017209` Rows and `9` Columns\n",
        "\n",
        "## The `store_df` has `1115` Rows and `10` Columns"
      ]
    },
    {
      "cell_type": "markdown",
      "metadata": {
        "id": "4HDY3waORj0l"
      },
      "source": [
        "##*Using info() method we can easily get the idea of what kind of data type and null values inside our both dataframes we have.*"
      ]
    },
    {
      "cell_type": "code",
      "execution_count": null,
      "metadata": {
        "colab": {
          "base_uri": "https://localhost:8080/"
        },
        "id": "Y2Q8Jv2zQtlH",
        "outputId": "201ee100-342b-4fcf-c0d6-063f36b0c5d8"
      },
      "outputs": [
        {
          "name": "stdout",
          "output_type": "stream",
          "text": [
            "<class 'pandas.core.frame.DataFrame'>\n",
            "RangeIndex: 1017209 entries, 0 to 1017208\n",
            "Data columns (total 9 columns):\n",
            " #   Column         Non-Null Count    Dtype \n",
            "---  ------         --------------    ----- \n",
            " 0   Store          1017209 non-null  int64 \n",
            " 1   DayOfWeek      1017209 non-null  int64 \n",
            " 2   Date           1017209 non-null  object\n",
            " 3   Sales          1017209 non-null  int64 \n",
            " 4   Customers      1017209 non-null  int64 \n",
            " 5   Open           1017209 non-null  int64 \n",
            " 6   Promo          1017209 non-null  int64 \n",
            " 7   StateHoliday   1017209 non-null  object\n",
            " 8   SchoolHoliday  1017209 non-null  int64 \n",
            "dtypes: int64(7), object(2)\n",
            "memory usage: 69.8+ MB\n",
            "<class 'pandas.core.frame.DataFrame'>\n",
            "RangeIndex: 1115 entries, 0 to 1114\n",
            "Data columns (total 10 columns):\n",
            " #   Column                     Non-Null Count  Dtype  \n",
            "---  ------                     --------------  -----  \n",
            " 0   Store                      1115 non-null   int64  \n",
            " 1   StoreType                  1115 non-null   object \n",
            " 2   Assortment                 1115 non-null   object \n",
            " 3   CompetitionDistance        1112 non-null   float64\n",
            " 4   CompetitionOpenSinceMonth  761 non-null    float64\n",
            " 5   CompetitionOpenSinceYear   761 non-null    float64\n",
            " 6   Promo2                     1115 non-null   int64  \n",
            " 7   Promo2SinceWeek            571 non-null    float64\n",
            " 8   Promo2SinceYear            571 non-null    float64\n",
            " 9   PromoInterval              571 non-null    object \n",
            "dtypes: float64(5), int64(2), object(3)\n",
            "memory usage: 87.2+ KB\n"
          ]
        },
        {
          "data": {
            "text/plain": [
              "(None, None)"
            ]
          },
          "execution_count": 115,
          "metadata": {},
          "output_type": "execute_result"
        }
      ],
      "source": [
        "#checking the info \n",
        "rossmann_df.info(), store_df.info()"
      ]
    },
    {
      "cell_type": "markdown",
      "metadata": {
        "id": "_-tXvJqfSROR"
      },
      "source": [
        "##*as we can see that in our `rossmann_df` we have zero null values and in our `store_df` we have too many null values.*"
      ]
    },
    {
      "cell_type": "markdown",
      "metadata": {
        "id": "6JG6ysYUSofq"
      },
      "source": [
        "###*geting the total sum of null values present in each columns in our `store_df` using `isnull()` function present in pandas library.*"
      ]
    },
    {
      "cell_type": "code",
      "execution_count": null,
      "metadata": {
        "colab": {
          "base_uri": "https://localhost:8080/"
        },
        "id": "xAJpICiTR8LA",
        "outputId": "0bcd5445-9cb0-4187-8400-68afcb826c9f"
      },
      "outputs": [
        {
          "data": {
            "text/plain": [
              "Store                          0\n",
              "StoreType                      0\n",
              "Assortment                     0\n",
              "CompetitionDistance            3\n",
              "CompetitionOpenSinceMonth    354\n",
              "CompetitionOpenSinceYear     354\n",
              "Promo2                         0\n",
              "Promo2SinceWeek              544\n",
              "Promo2SinceYear              544\n",
              "PromoInterval                544\n",
              "dtype: int64"
            ]
          },
          "execution_count": 116,
          "metadata": {},
          "output_type": "execute_result"
        }
      ],
      "source": [
        "#calculating totall null values in our store dataframe\n",
        "\n",
        "store_df.isnull().sum()"
      ]
    },
    {
      "cell_type": "code",
      "execution_count": null,
      "metadata": {
        "colab": {
          "base_uri": "https://localhost:8080/"
        },
        "id": "atKHX2cRVoPC",
        "outputId": "304fd9fc-b6ad-4f2f-f7f0-5963243d2b71"
      },
      "outputs": [
        {
          "data": {
            "text/plain": [
              "Store                         0.00\n",
              "StoreType                     0.00\n",
              "Assortment                    0.00\n",
              "CompetitionDistance           0.27\n",
              "CompetitionOpenSinceMonth    31.75\n",
              "CompetitionOpenSinceYear     31.75\n",
              "Promo2                        0.00\n",
              "Promo2SinceWeek              48.79\n",
              "Promo2SinceYear              48.79\n",
              "PromoInterval                48.79\n",
              "dtype: float64"
            ]
          },
          "execution_count": 117,
          "metadata": {},
          "output_type": "execute_result"
        }
      ],
      "source": [
        "# Calculating null values percentages present in Data\n",
        "store_df.isnull().mean().round(4) * 100"
      ]
    },
    {
      "cell_type": "markdown",
      "metadata": {
        "id": "MeiSHj_XTAdR"
      },
      "source": [
        "###*we can see that we have `6` columns in which we have null values. so we have to find correct way to fill these null values.*"
      ]
    },
    {
      "cell_type": "markdown",
      "metadata": {
        "id": "gqp8zuZZYTO7"
      },
      "source": [
        "We can see that in 3 columns `CompetitionDistance`, `CompetitionOpenSinceMonth`, `CompetitionOpenSinceYear` having less percentage of nulls. So we will fill these values by mode and median as per column requirements."
      ]
    },
    {
      "cell_type": "code",
      "execution_count": null,
      "metadata": {
        "colab": {
          "base_uri": "https://localhost:8080/",
          "height": 388
        },
        "id": "2SEDZ1a23fet",
        "outputId": "9a2f8e07-cad3-4660-b744-de15a20809ff"
      },
      "outputs": [
        {
          "data": {
            "image/png": "[encoded data removed]",
            "text/plain": [
              "<Figure size 720x432 with 1 Axes>"
            ]
          },
          "metadata": {
            "needs_background": "light"
          },
          "output_type": "display_data"
        }
      ],
      "source": [
        "#checking the disribution of CompetitionDistance column\n",
        "plt.figure(figsize=(10,6))\n",
        "sns.distplot(store_df['CompetitionDistance'], color = 'r')\n",
        "plt.show()"
      ]
    },
    {
      "cell_type": "markdown",
      "metadata": {
        "id": "1_VZIjYW3sA7"
      },
      "source": [
        "###*as we can see that the distribution look like right skewed distribution. so we dicided to fill null values with median*"
      ]
    },
    {
      "cell_type": "code",
      "execution_count": null,
      "metadata": {
        "id": "r7A_toLwSkQg"
      },
      "outputs": [],
      "source": [
        "store_df['CompetitionOpenSinceMonth'].fillna(store_df['CompetitionOpenSinceMonth'].mode()[0], inplace = True)\n",
        "\n",
        "store_df['CompetitionDistance'].fillna(store_df['CompetitionDistance'].median(), inplace = True)\n",
        "\n",
        "store_df['CompetitionOpenSinceYear'].fillna(store_df['CompetitionOpenSinceYear'].mode()[0], inplace = True)"
      ]
    },
    {
      "cell_type": "markdown",
      "metadata": {
        "id": "tz4rlXNCcHPX"
      },
      "source": [
        "We have simply filled these below 3 Columns by 0 "
      ]
    },
    {
      "cell_type": "code",
      "execution_count": null,
      "metadata": {
        "id": "IE_XEBD6bR9I"
      },
      "outputs": [],
      "source": [
        "store_df['Promo2SinceWeek'].fillna(0, inplace = True)\n",
        "\n",
        "store_df['Promo2SinceYear'].fillna(0, inplace = True)\n",
        "\n",
        "store_df['PromoInterval'].fillna(0, inplace = True)"
      ]
    },
    {
      "cell_type": "code",
      "execution_count": null,
      "metadata": {
        "colab": {
          "base_uri": "https://localhost:8080/"
        },
        "id": "kR8uJIprcfWo",
        "outputId": "bdb54cde-f338-4a23-fad3-7f3d0fb54631"
      },
      "outputs": [
        {
          "name": "stdout",
          "output_type": "stream",
          "text": [
            "Store                        0.0\n",
            "StoreType                    0.0\n",
            "Assortment                   0.0\n",
            "CompetitionDistance          0.0\n",
            "CompetitionOpenSinceMonth    0.0\n",
            "CompetitionOpenSinceYear     0.0\n",
            "Promo2                       0.0\n",
            "Promo2SinceWeek              0.0\n",
            "Promo2SinceYear              0.0\n",
            "PromoInterval                0.0\n",
            "dtype: float64\n"
          ]
        }
      ],
      "source": [
        "# Again Checking the Null Values\n",
        "\n",
        "print(store_df.isnull().mean().round(4) * 100)"
      ]
    },
    {
      "cell_type": "markdown",
      "metadata": {
        "id": "v3FhfxoJjnVf"
      },
      "source": [
        "###*As we can see that many columns having object datatype so we have to check the datatype of thses column because our machine learning algorithms only takes numberical values.*"
      ]
    },
    {
      "cell_type": "markdown",
      "metadata": {
        "id": "ETSTMRkbkG6_"
      },
      "source": [
        "###*first we have date column we have to separate the date, month and year from that.*"
      ]
    },
    {
      "cell_type": "code",
      "execution_count": null,
      "metadata": {
        "id": "8JH5eKKLglsV"
      },
      "outputs": [],
      "source": [
        "rossmann_df[\"Date\"]=pd.to_datetime(rossmann_df[\"Date\"])\n",
        "rossmann_df[\"Year\"]=rossmann_df[\"Date\"].dt.year\n",
        "rossmann_df[\"Month\"]=rossmann_df[\"Date\"].dt.month\n",
        "rossmann_df[\"Day\"]=rossmann_df[\"Date\"].dt.day\n",
        "rossmann_df[\"Week\"]=rossmann_df[\"Date\"].dt.week%4\n",
        "rossmann_df[\"WeekOfYear\"]=rossmann_df[\"Date\"].dt.week"
      ]
    },
    {
      "cell_type": "code",
      "execution_count": null,
      "metadata": {
        "colab": {
          "base_uri": "https://localhost:8080/",
          "height": 206
        },
        "id": "BSWq9K09gwjO",
        "outputId": "99d31133-f468-4d23-84d5-34eb6d64215b"
      },
      "outputs": [
        {
          "data": {
            "text/html": [
              "<div>\n",
              "<style scoped>\n",
              "    .dataframe tbody tr th:only-of-type {\n",
              "        vertical-align: middle;\n",
              "    }\n",
              "\n",
              "    .dataframe tbody tr th {\n",
              "        vertical-align: top;\n",
              "    }\n",
              "\n",
              "    .dataframe thead th {\n",
              "        text-align: right;\n",
              "    }\n",
              "</style>\n",
              "<table border=\"1\" class=\"dataframe\">\n",
              "  <thead>\n",
              "    <tr style=\"text-align: right;\">\n",
              "      <th></th>\n",
              "      <th>Store</th>\n",
              "      <th>DayOfWeek</th>\n",
              "      <th>Date</th>\n",
              "      <th>Sales</th>\n",
              "      <th>Customers</th>\n",
              "      <th>Open</th>\n",
              "      <th>Promo</th>\n",
              "      <th>StateHoliday</th>\n",
              "      <th>SchoolHoliday</th>\n",
              "      <th>Year</th>\n",
              "      <th>Month</th>\n",
              "      <th>Day</th>\n",
              "      <th>Week</th>\n",
              "      <th>WeekOfYear</th>\n",
              "    </tr>\n",
              "  </thead>\n",
              "  <tbody>\n",
              "    <tr>\n",
              "      <th>0</th>\n",
              "      <td>1</td>\n",
              "      <td>5</td>\n",
              "      <td>2015-07-31</td>\n",
              "      <td>5263</td>\n",
              "      <td>555</td>\n",
              "      <td>1</td>\n",
              "      <td>1</td>\n",
              "      <td>0</td>\n",
              "      <td>1</td>\n",
              "      <td>2015</td>\n",
              "      <td>7</td>\n",
              "      <td>31</td>\n",
              "      <td>3</td>\n",
              "      <td>31</td>\n",
              "    </tr>\n",
              "    <tr>\n",
              "      <th>1</th>\n",
              "      <td>2</td>\n",
              "      <td>5</td>\n",
              "      <td>2015-07-31</td>\n",
              "      <td>6064</td>\n",
              "      <td>625</td>\n",
              "      <td>1</td>\n",
              "      <td>1</td>\n",
              "      <td>0</td>\n",
              "      <td>1</td>\n",
              "      <td>2015</td>\n",
              "      <td>7</td>\n",
              "      <td>31</td>\n",
              "      <td>3</td>\n",
              "      <td>31</td>\n",
              "    </tr>\n",
              "    <tr>\n",
              "      <th>2</th>\n",
              "      <td>3</td>\n",
              "      <td>5</td>\n",
              "      <td>2015-07-31</td>\n",
              "      <td>8314</td>\n",
              "      <td>821</td>\n",
              "      <td>1</td>\n",
              "      <td>1</td>\n",
              "      <td>0</td>\n",
              "      <td>1</td>\n",
              "      <td>2015</td>\n",
              "      <td>7</td>\n",
              "      <td>31</td>\n",
              "      <td>3</td>\n",
              "      <td>31</td>\n",
              "    </tr>\n",
              "    <tr>\n",
              "      <th>3</th>\n",
              "      <td>4</td>\n",
              "      <td>5</td>\n",
              "      <td>2015-07-31</td>\n",
              "      <td>13995</td>\n",
              "      <td>1498</td>\n",
              "      <td>1</td>\n",
              "      <td>1</td>\n",
              "      <td>0</td>\n",
              "      <td>1</td>\n",
              "      <td>2015</td>\n",
              "      <td>7</td>\n",
              "      <td>31</td>\n",
              "      <td>3</td>\n",
              "      <td>31</td>\n",
              "    </tr>\n",
              "    <tr>\n",
              "      <th>4</th>\n",
              "      <td>5</td>\n",
              "      <td>5</td>\n",
              "      <td>2015-07-31</td>\n",
              "      <td>4822</td>\n",
              "      <td>559</td>\n",
              "      <td>1</td>\n",
              "      <td>1</td>\n",
              "      <td>0</td>\n",
              "      <td>1</td>\n",
              "      <td>2015</td>\n",
              "      <td>7</td>\n",
              "      <td>31</td>\n",
              "      <td>3</td>\n",
              "      <td>31</td>\n",
              "    </tr>\n",
              "  </tbody>\n",
              "</table>\n",
              "</div>"
            ],
            "text/plain": [
              "   Store  DayOfWeek       Date  Sales  Customers  Open  Promo StateHoliday  \\\n",
              "0      1          5 2015-07-31   5263        555     1      1            0   \n",
              "1      2          5 2015-07-31   6064        625     1      1            0   \n",
              "2      3          5 2015-07-31   8314        821     1      1            0   \n",
              "3      4          5 2015-07-31  13995       1498     1      1            0   \n",
              "4      5          5 2015-07-31   4822        559     1      1            0   \n",
              "\n",
              "   SchoolHoliday  Year  Month  Day  Week  WeekOfYear  \n",
              "0              1  2015      7   31     3          31  \n",
              "1              1  2015      7   31     3          31  \n",
              "2              1  2015      7   31     3          31  \n",
              "3              1  2015      7   31     3          31  \n",
              "4              1  2015      7   31     3          31  "
            ]
          },
          "execution_count": 123,
          "metadata": {},
          "output_type": "execute_result"
        }
      ],
      "source": [
        "rossmann_df.head()"
      ]
    },
    {
      "cell_type": "markdown",
      "metadata": {
        "id": "EoVW5SbleRd-"
      },
      "source": [
        "###*Let's Check the description of the data in the DataFrame*"
      ]
    },
    {
      "cell_type": "code",
      "execution_count": null,
      "metadata": {
        "id": "6migrYhjoayR"
      },
      "outputs": [],
      "source": []
    },
    {
      "cell_type": "code",
      "execution_count": null,
      "metadata": {
        "colab": {
          "base_uri": "https://localhost:8080/",
          "height": 300
        },
        "id": "KGc9qHTjeDw8",
        "outputId": "66b5ef64-815a-474a-f0cc-e9b0d7fb5a90"
      },
      "outputs": [
        {
          "data": {
            "text/html": [
              "<div>\n",
              "<style scoped>\n",
              "    .dataframe tbody tr th:only-of-type {\n",
              "        vertical-align: middle;\n",
              "    }\n",
              "\n",
              "    .dataframe tbody tr th {\n",
              "        vertical-align: top;\n",
              "    }\n",
              "\n",
              "    .dataframe thead th {\n",
              "        text-align: right;\n",
              "    }\n",
              "</style>\n",
              "<table border=\"1\" class=\"dataframe\">\n",
              "  <thead>\n",
              "    <tr style=\"text-align: right;\">\n",
              "      <th></th>\n",
              "      <th>Store</th>\n",
              "      <th>DayOfWeek</th>\n",
              "      <th>Sales</th>\n",
              "      <th>Customers</th>\n",
              "      <th>Open</th>\n",
              "      <th>Promo</th>\n",
              "      <th>SchoolHoliday</th>\n",
              "      <th>Year</th>\n",
              "      <th>Month</th>\n",
              "      <th>Day</th>\n",
              "      <th>Week</th>\n",
              "      <th>WeekOfYear</th>\n",
              "    </tr>\n",
              "  </thead>\n",
              "  <tbody>\n",
              "    <tr>\n",
              "      <th>count</th>\n",
              "      <td>1.017209e+06</td>\n",
              "      <td>1.017209e+06</td>\n",
              "      <td>1.017209e+06</td>\n",
              "      <td>1.017209e+06</td>\n",
              "      <td>1.017209e+06</td>\n",
              "      <td>1.017209e+06</td>\n",
              "      <td>1.017209e+06</td>\n",
              "      <td>1.017209e+06</td>\n",
              "      <td>1.017209e+06</td>\n",
              "      <td>1.017209e+06</td>\n",
              "      <td>1.017209e+06</td>\n",
              "      <td>1.017209e+06</td>\n",
              "    </tr>\n",
              "    <tr>\n",
              "      <th>mean</th>\n",
              "      <td>5.584297e+02</td>\n",
              "      <td>3.998341e+00</td>\n",
              "      <td>5.773819e+03</td>\n",
              "      <td>6.331459e+02</td>\n",
              "      <td>8.301067e-01</td>\n",
              "      <td>3.815145e-01</td>\n",
              "      <td>1.786467e-01</td>\n",
              "      <td>2.013832e+03</td>\n",
              "      <td>5.846762e+00</td>\n",
              "      <td>1.570279e+01</td>\n",
              "      <td>1.509300e+00</td>\n",
              "      <td>2.361551e+01</td>\n",
              "    </tr>\n",
              "    <tr>\n",
              "      <th>std</th>\n",
              "      <td>3.219087e+02</td>\n",
              "      <td>1.997391e+00</td>\n",
              "      <td>3.849926e+03</td>\n",
              "      <td>4.644117e+02</td>\n",
              "      <td>3.755392e-01</td>\n",
              "      <td>4.857586e-01</td>\n",
              "      <td>3.830564e-01</td>\n",
              "      <td>7.773960e-01</td>\n",
              "      <td>3.326097e+00</td>\n",
              "      <td>8.787638e+00</td>\n",
              "      <td>1.113273e+00</td>\n",
              "      <td>1.443338e+01</td>\n",
              "    </tr>\n",
              "    <tr>\n",
              "      <th>min</th>\n",
              "      <td>1.000000e+00</td>\n",
              "      <td>1.000000e+00</td>\n",
              "      <td>0.000000e+00</td>\n",
              "      <td>0.000000e+00</td>\n",
              "      <td>0.000000e+00</td>\n",
              "      <td>0.000000e+00</td>\n",
              "      <td>0.000000e+00</td>\n",
              "      <td>2.013000e+03</td>\n",
              "      <td>1.000000e+00</td>\n",
              "      <td>1.000000e+00</td>\n",
              "      <td>0.000000e+00</td>\n",
              "      <td>1.000000e+00</td>\n",
              "    </tr>\n",
              "    <tr>\n",
              "      <th>25%</th>\n",
              "      <td>2.800000e+02</td>\n",
              "      <td>2.000000e+00</td>\n",
              "      <td>3.727000e+03</td>\n",
              "      <td>4.050000e+02</td>\n",
              "      <td>1.000000e+00</td>\n",
              "      <td>0.000000e+00</td>\n",
              "      <td>0.000000e+00</td>\n",
              "      <td>2.013000e+03</td>\n",
              "      <td>3.000000e+00</td>\n",
              "      <td>8.000000e+00</td>\n",
              "      <td>1.000000e+00</td>\n",
              "      <td>1.100000e+01</td>\n",
              "    </tr>\n",
              "    <tr>\n",
              "      <th>50%</th>\n",
              "      <td>5.580000e+02</td>\n",
              "      <td>4.000000e+00</td>\n",
              "      <td>5.744000e+03</td>\n",
              "      <td>6.090000e+02</td>\n",
              "      <td>1.000000e+00</td>\n",
              "      <td>0.000000e+00</td>\n",
              "      <td>0.000000e+00</td>\n",
              "      <td>2.014000e+03</td>\n",
              "      <td>6.000000e+00</td>\n",
              "      <td>1.600000e+01</td>\n",
              "      <td>2.000000e+00</td>\n",
              "      <td>2.200000e+01</td>\n",
              "    </tr>\n",
              "    <tr>\n",
              "      <th>75%</th>\n",
              "      <td>8.380000e+02</td>\n",
              "      <td>6.000000e+00</td>\n",
              "      <td>7.856000e+03</td>\n",
              "      <td>8.370000e+02</td>\n",
              "      <td>1.000000e+00</td>\n",
              "      <td>1.000000e+00</td>\n",
              "      <td>0.000000e+00</td>\n",
              "      <td>2.014000e+03</td>\n",
              "      <td>8.000000e+00</td>\n",
              "      <td>2.300000e+01</td>\n",
              "      <td>3.000000e+00</td>\n",
              "      <td>3.500000e+01</td>\n",
              "    </tr>\n",
              "    <tr>\n",
              "      <th>max</th>\n",
              "      <td>1.115000e+03</td>\n",
              "      <td>7.000000e+00</td>\n",
              "      <td>4.155100e+04</td>\n",
              "      <td>7.388000e+03</td>\n",
              "      <td>1.000000e+00</td>\n",
              "      <td>1.000000e+00</td>\n",
              "      <td>1.000000e+00</td>\n",
              "      <td>2.015000e+03</td>\n",
              "      <td>1.200000e+01</td>\n",
              "      <td>3.100000e+01</td>\n",
              "      <td>3.000000e+00</td>\n",
              "      <td>5.200000e+01</td>\n",
              "    </tr>\n",
              "  </tbody>\n",
              "</table>\n",
              "</div>"
            ],
            "text/plain": [
              "              Store     DayOfWeek         Sales     Customers          Open  \\\n",
              "count  1.017209e+06  1.017209e+06  1.017209e+06  1.017209e+06  1.017209e+06   \n",
              "mean   5.584297e+02  3.998341e+00  5.773819e+03  6.331459e+02  8.301067e-01   \n",
              "std    3.219087e+02  1.997391e+00  3.849926e+03  4.644117e+02  3.755392e-01   \n",
              "min    1.000000e+00  1.000000e+00  0.000000e+00  0.000000e+00  0.000000e+00   \n",
              "25%    2.800000e+02  2.000000e+00  3.727000e+03  4.050000e+02  1.000000e+00   \n",
              "50%    5.580000e+02  4.000000e+00  5.744000e+03  6.090000e+02  1.000000e+00   \n",
              "75%    8.380000e+02  6.000000e+00  7.856000e+03  8.370000e+02  1.000000e+00   \n",
              "max    1.115000e+03  7.000000e+00  4.155100e+04  7.388000e+03  1.000000e+00   \n",
              "\n",
              "              Promo  SchoolHoliday          Year         Month           Day  \\\n",
              "count  1.017209e+06   1.017209e+06  1.017209e+06  1.017209e+06  1.017209e+06   \n",
              "mean   3.815145e-01   1.786467e-01  2.013832e+03  5.846762e+00  1.570279e+01   \n",
              "std    4.857586e-01   3.830564e-01  7.773960e-01  3.326097e+00  8.787638e+00   \n",
              "min    0.000000e+00   0.000000e+00  2.013000e+03  1.000000e+00  1.000000e+00   \n",
              "25%    0.000000e+00   0.000000e+00  2.013000e+03  3.000000e+00  8.000000e+00   \n",
              "50%    0.000000e+00   0.000000e+00  2.014000e+03  6.000000e+00  1.600000e+01   \n",
              "75%    1.000000e+00   0.000000e+00  2.014000e+03  8.000000e+00  2.300000e+01   \n",
              "max    1.000000e+00   1.000000e+00  2.015000e+03  1.200000e+01  3.100000e+01   \n",
              "\n",
              "               Week    WeekOfYear  \n",
              "count  1.017209e+06  1.017209e+06  \n",
              "mean   1.509300e+00  2.361551e+01  \n",
              "std    1.113273e+00  1.443338e+01  \n",
              "min    0.000000e+00  1.000000e+00  \n",
              "25%    1.000000e+00  1.100000e+01  \n",
              "50%    2.000000e+00  2.200000e+01  \n",
              "75%    3.000000e+00  3.500000e+01  \n",
              "max    3.000000e+00  5.200000e+01  "
            ]
          },
          "execution_count": 124,
          "metadata": {},
          "output_type": "execute_result"
        }
      ],
      "source": [
        "rossmann_df.describe()"
      ]
    },
    {
      "cell_type": "code",
      "execution_count": null,
      "metadata": {
        "colab": {
          "base_uri": "https://localhost:8080/",
          "height": 300
        },
        "id": "HgKz0c9sdJA6",
        "outputId": "baca351b-7260-420f-9ffd-b94230ffc6a9"
      },
      "outputs": [
        {
          "data": {
            "text/html": [
              "<div>\n",
              "<style scoped>\n",
              "    .dataframe tbody tr th:only-of-type {\n",
              "        vertical-align: middle;\n",
              "    }\n",
              "\n",
              "    .dataframe tbody tr th {\n",
              "        vertical-align: top;\n",
              "    }\n",
              "\n",
              "    .dataframe thead th {\n",
              "        text-align: right;\n",
              "    }\n",
              "</style>\n",
              "<table border=\"1\" class=\"dataframe\">\n",
              "  <thead>\n",
              "    <tr style=\"text-align: right;\">\n",
              "      <th></th>\n",
              "      <th>Store</th>\n",
              "      <th>CompetitionDistance</th>\n",
              "      <th>CompetitionOpenSinceMonth</th>\n",
              "      <th>CompetitionOpenSinceYear</th>\n",
              "      <th>Promo2</th>\n",
              "      <th>Promo2SinceWeek</th>\n",
              "      <th>Promo2SinceYear</th>\n",
              "    </tr>\n",
              "  </thead>\n",
              "  <tbody>\n",
              "    <tr>\n",
              "      <th>count</th>\n",
              "      <td>1115.00000</td>\n",
              "      <td>1115.000000</td>\n",
              "      <td>1115.000000</td>\n",
              "      <td>1115.000000</td>\n",
              "      <td>1115.000000</td>\n",
              "      <td>1115.000000</td>\n",
              "      <td>1115.000000</td>\n",
              "    </tr>\n",
              "    <tr>\n",
              "      <th>mean</th>\n",
              "      <td>558.00000</td>\n",
              "      <td>5396.614350</td>\n",
              "      <td>7.788341</td>\n",
              "      <td>2010.043946</td>\n",
              "      <td>0.512108</td>\n",
              "      <td>12.083408</td>\n",
              "      <td>1030.239462</td>\n",
              "    </tr>\n",
              "    <tr>\n",
              "      <th>std</th>\n",
              "      <td>322.01708</td>\n",
              "      <td>7654.513635</td>\n",
              "      <td>2.779130</td>\n",
              "      <td>5.500844</td>\n",
              "      <td>0.500078</td>\n",
              "      <td>15.542241</td>\n",
              "      <td>1006.038782</td>\n",
              "    </tr>\n",
              "    <tr>\n",
              "      <th>min</th>\n",
              "      <td>1.00000</td>\n",
              "      <td>20.000000</td>\n",
              "      <td>1.000000</td>\n",
              "      <td>1900.000000</td>\n",
              "      <td>0.000000</td>\n",
              "      <td>0.000000</td>\n",
              "      <td>0.000000</td>\n",
              "    </tr>\n",
              "    <tr>\n",
              "      <th>25%</th>\n",
              "      <td>279.50000</td>\n",
              "      <td>720.000000</td>\n",
              "      <td>6.000000</td>\n",
              "      <td>2008.000000</td>\n",
              "      <td>0.000000</td>\n",
              "      <td>0.000000</td>\n",
              "      <td>0.000000</td>\n",
              "    </tr>\n",
              "    <tr>\n",
              "      <th>50%</th>\n",
              "      <td>558.00000</td>\n",
              "      <td>2325.000000</td>\n",
              "      <td>9.000000</td>\n",
              "      <td>2012.000000</td>\n",
              "      <td>1.000000</td>\n",
              "      <td>1.000000</td>\n",
              "      <td>2009.000000</td>\n",
              "    </tr>\n",
              "    <tr>\n",
              "      <th>75%</th>\n",
              "      <td>836.50000</td>\n",
              "      <td>6875.000000</td>\n",
              "      <td>9.000000</td>\n",
              "      <td>2013.000000</td>\n",
              "      <td>1.000000</td>\n",
              "      <td>22.000000</td>\n",
              "      <td>2012.000000</td>\n",
              "    </tr>\n",
              "    <tr>\n",
              "      <th>max</th>\n",
              "      <td>1115.00000</td>\n",
              "      <td>75860.000000</td>\n",
              "      <td>12.000000</td>\n",
              "      <td>2015.000000</td>\n",
              "      <td>1.000000</td>\n",
              "      <td>50.000000</td>\n",
              "      <td>2015.000000</td>\n",
              "    </tr>\n",
              "  </tbody>\n",
              "</table>\n",
              "</div>"
            ],
            "text/plain": [
              "            Store  CompetitionDistance  CompetitionOpenSinceMonth  \\\n",
              "count  1115.00000          1115.000000                1115.000000   \n",
              "mean    558.00000          5396.614350                   7.788341   \n",
              "std     322.01708          7654.513635                   2.779130   \n",
              "min       1.00000            20.000000                   1.000000   \n",
              "25%     279.50000           720.000000                   6.000000   \n",
              "50%     558.00000          2325.000000                   9.000000   \n",
              "75%     836.50000          6875.000000                   9.000000   \n",
              "max    1115.00000         75860.000000                  12.000000   \n",
              "\n",
              "       CompetitionOpenSinceYear       Promo2  Promo2SinceWeek  Promo2SinceYear  \n",
              "count               1115.000000  1115.000000      1115.000000      1115.000000  \n",
              "mean                2010.043946     0.512108        12.083408      1030.239462  \n",
              "std                    5.500844     0.500078        15.542241      1006.038782  \n",
              "min                 1900.000000     0.000000         0.000000         0.000000  \n",
              "25%                 2008.000000     0.000000         0.000000         0.000000  \n",
              "50%                 2012.000000     1.000000         1.000000      2009.000000  \n",
              "75%                 2013.000000     1.000000        22.000000      2012.000000  \n",
              "max                 2015.000000     1.000000        50.000000      2015.000000  "
            ]
          },
          "execution_count": 125,
          "metadata": {},
          "output_type": "execute_result"
        }
      ],
      "source": [
        "store_df.describe()"
      ]
    },
    {
      "cell_type": "markdown",
      "metadata": {
        "id": "ga2yXYVZhA3p"
      },
      "source": [
        "## Let's Merge the `Rossmann_df` and `Store_df` by column '`Store`' as in both csv `Store` column is common."
      ]
    },
    {
      "cell_type": "code",
      "execution_count": null,
      "metadata": {
        "colab": {
          "base_uri": "https://localhost:8080/",
          "height": 386
        },
        "id": "hgKtB0hugcqS",
        "outputId": "7c76e7ee-ac29-400e-b4d9-a2eb1e138e30"
      },
      "outputs": [
        {
          "data": {
            "text/html": [
              "<div>\n",
              "<style scoped>\n",
              "    .dataframe tbody tr th:only-of-type {\n",
              "        vertical-align: middle;\n",
              "    }\n",
              "\n",
              "    .dataframe tbody tr th {\n",
              "        vertical-align: top;\n",
              "    }\n",
              "\n",
              "    .dataframe thead th {\n",
              "        text-align: right;\n",
              "    }\n",
              "</style>\n",
              "<table border=\"1\" class=\"dataframe\">\n",
              "  <thead>\n",
              "    <tr style=\"text-align: right;\">\n",
              "      <th></th>\n",
              "      <th>Store</th>\n",
              "      <th>DayOfWeek</th>\n",
              "      <th>Date</th>\n",
              "      <th>Sales</th>\n",
              "      <th>Customers</th>\n",
              "      <th>Open</th>\n",
              "      <th>Promo</th>\n",
              "      <th>StateHoliday</th>\n",
              "      <th>SchoolHoliday</th>\n",
              "      <th>Year</th>\n",
              "      <th>...</th>\n",
              "      <th>WeekOfYear</th>\n",
              "      <th>StoreType</th>\n",
              "      <th>Assortment</th>\n",
              "      <th>CompetitionDistance</th>\n",
              "      <th>CompetitionOpenSinceMonth</th>\n",
              "      <th>CompetitionOpenSinceYear</th>\n",
              "      <th>Promo2</th>\n",
              "      <th>Promo2SinceWeek</th>\n",
              "      <th>Promo2SinceYear</th>\n",
              "      <th>PromoInterval</th>\n",
              "    </tr>\n",
              "  </thead>\n",
              "  <tbody>\n",
              "    <tr>\n",
              "      <th>0</th>\n",
              "      <td>1</td>\n",
              "      <td>5</td>\n",
              "      <td>2015-07-31</td>\n",
              "      <td>5263</td>\n",
              "      <td>555</td>\n",
              "      <td>1</td>\n",
              "      <td>1</td>\n",
              "      <td>0</td>\n",
              "      <td>1</td>\n",
              "      <td>2015</td>\n",
              "      <td>...</td>\n",
              "      <td>31</td>\n",
              "      <td>c</td>\n",
              "      <td>a</td>\n",
              "      <td>1270.0</td>\n",
              "      <td>9.0</td>\n",
              "      <td>2008.0</td>\n",
              "      <td>0</td>\n",
              "      <td>0.0</td>\n",
              "      <td>0.0</td>\n",
              "      <td>0</td>\n",
              "    </tr>\n",
              "    <tr>\n",
              "      <th>1</th>\n",
              "      <td>1</td>\n",
              "      <td>4</td>\n",
              "      <td>2015-07-30</td>\n",
              "      <td>5020</td>\n",
              "      <td>546</td>\n",
              "      <td>1</td>\n",
              "      <td>1</td>\n",
              "      <td>0</td>\n",
              "      <td>1</td>\n",
              "      <td>2015</td>\n",
              "      <td>...</td>\n",
              "      <td>31</td>\n",
              "      <td>c</td>\n",
              "      <td>a</td>\n",
              "      <td>1270.0</td>\n",
              "      <td>9.0</td>\n",
              "      <td>2008.0</td>\n",
              "      <td>0</td>\n",
              "      <td>0.0</td>\n",
              "      <td>0.0</td>\n",
              "      <td>0</td>\n",
              "    </tr>\n",
              "    <tr>\n",
              "      <th>2</th>\n",
              "      <td>1</td>\n",
              "      <td>3</td>\n",
              "      <td>2015-07-29</td>\n",
              "      <td>4782</td>\n",
              "      <td>523</td>\n",
              "      <td>1</td>\n",
              "      <td>1</td>\n",
              "      <td>0</td>\n",
              "      <td>1</td>\n",
              "      <td>2015</td>\n",
              "      <td>...</td>\n",
              "      <td>31</td>\n",
              "      <td>c</td>\n",
              "      <td>a</td>\n",
              "      <td>1270.0</td>\n",
              "      <td>9.0</td>\n",
              "      <td>2008.0</td>\n",
              "      <td>0</td>\n",
              "      <td>0.0</td>\n",
              "      <td>0.0</td>\n",
              "      <td>0</td>\n",
              "    </tr>\n",
              "    <tr>\n",
              "      <th>3</th>\n",
              "      <td>1</td>\n",
              "      <td>2</td>\n",
              "      <td>2015-07-28</td>\n",
              "      <td>5011</td>\n",
              "      <td>560</td>\n",
              "      <td>1</td>\n",
              "      <td>1</td>\n",
              "      <td>0</td>\n",
              "      <td>1</td>\n",
              "      <td>2015</td>\n",
              "      <td>...</td>\n",
              "      <td>31</td>\n",
              "      <td>c</td>\n",
              "      <td>a</td>\n",
              "      <td>1270.0</td>\n",
              "      <td>9.0</td>\n",
              "      <td>2008.0</td>\n",
              "      <td>0</td>\n",
              "      <td>0.0</td>\n",
              "      <td>0.0</td>\n",
              "      <td>0</td>\n",
              "    </tr>\n",
              "    <tr>\n",
              "      <th>4</th>\n",
              "      <td>1</td>\n",
              "      <td>1</td>\n",
              "      <td>2015-07-27</td>\n",
              "      <td>6102</td>\n",
              "      <td>612</td>\n",
              "      <td>1</td>\n",
              "      <td>1</td>\n",
              "      <td>0</td>\n",
              "      <td>1</td>\n",
              "      <td>2015</td>\n",
              "      <td>...</td>\n",
              "      <td>31</td>\n",
              "      <td>c</td>\n",
              "      <td>a</td>\n",
              "      <td>1270.0</td>\n",
              "      <td>9.0</td>\n",
              "      <td>2008.0</td>\n",
              "      <td>0</td>\n",
              "      <td>0.0</td>\n",
              "      <td>0.0</td>\n",
              "      <td>0</td>\n",
              "    </tr>\n",
              "  </tbody>\n",
              "</table>\n",
              "<p>5 rows × 23 columns</p>\n",
              "</div>"
            ],
            "text/plain": [
              "   Store  DayOfWeek       Date  Sales  Customers  Open  Promo StateHoliday  \\\n",
              "0      1          5 2015-07-31   5263        555     1      1            0   \n",
              "1      1          4 2015-07-30   5020        546     1      1            0   \n",
              "2      1          3 2015-07-29   4782        523     1      1            0   \n",
              "3      1          2 2015-07-28   5011        560     1      1            0   \n",
              "4      1          1 2015-07-27   6102        612     1      1            0   \n",
              "\n",
              "   SchoolHoliday  Year  ...  WeekOfYear  StoreType  Assortment  \\\n",
              "0              1  2015  ...          31          c           a   \n",
              "1              1  2015  ...          31          c           a   \n",
              "2              1  2015  ...          31          c           a   \n",
              "3              1  2015  ...          31          c           a   \n",
              "4              1  2015  ...          31          c           a   \n",
              "\n",
              "   CompetitionDistance CompetitionOpenSinceMonth CompetitionOpenSinceYear  \\\n",
              "0               1270.0                       9.0                   2008.0   \n",
              "1               1270.0                       9.0                   2008.0   \n",
              "2               1270.0                       9.0                   2008.0   \n",
              "3               1270.0                       9.0                   2008.0   \n",
              "4               1270.0                       9.0                   2008.0   \n",
              "\n",
              "   Promo2  Promo2SinceWeek  Promo2SinceYear  PromoInterval  \n",
              "0       0              0.0              0.0              0  \n",
              "1       0              0.0              0.0              0  \n",
              "2       0              0.0              0.0              0  \n",
              "3       0              0.0              0.0              0  \n",
              "4       0              0.0              0.0              0  \n",
              "\n",
              "[5 rows x 23 columns]"
            ]
          },
          "execution_count": 126,
          "metadata": {},
          "output_type": "execute_result"
        }
      ],
      "source": [
        "# Merging the Column\n",
        "\n",
        "merge_df = pd.merge(rossmann_df, store_df, on = 'Store', how = 'outer')\n",
        "\n",
        "merge_df.head()"
      ]
    },
    {
      "cell_type": "code",
      "execution_count": null,
      "metadata": {
        "colab": {
          "base_uri": "https://localhost:8080/"
        },
        "id": "6zd9orj3ivxf",
        "outputId": "218f1630-de16-4359-b37e-ebe6cc6ea250"
      },
      "outputs": [
        {
          "data": {
            "text/plain": [
              "(1017209, 23)"
            ]
          },
          "execution_count": 127,
          "metadata": {},
          "output_type": "execute_result"
        }
      ],
      "source": [
        "merge_df.shape"
      ]
    },
    {
      "cell_type": "markdown",
      "metadata": {
        "id": "nu3oB2TFjM7K"
      },
      "source": [
        "##Now we have `1017209` numner of rows and `18` columns."
      ]
    },
    {
      "cell_type": "code",
      "execution_count": null,
      "metadata": {
        "colab": {
          "base_uri": "https://localhost:8080/"
        },
        "id": "ECeVviFIi3yQ",
        "outputId": "9c7a3538-95fc-444e-a80b-35d43fd06a79"
      },
      "outputs": [
        {
          "name": "stdout",
          "output_type": "stream",
          "text": [
            "<class 'pandas.core.frame.DataFrame'>\n",
            "Int64Index: 1017209 entries, 0 to 1017208\n",
            "Data columns (total 23 columns):\n",
            " #   Column                     Non-Null Count    Dtype         \n",
            "---  ------                     --------------    -----         \n",
            " 0   Store                      1017209 non-null  int64         \n",
            " 1   DayOfWeek                  1017209 non-null  int64         \n",
            " 2   Date                       1017209 non-null  datetime64[ns]\n",
            " 3   Sales                      1017209 non-null  int64         \n",
            " 4   Customers                  1017209 non-null  int64         \n",
            " 5   Open                       1017209 non-null  int64         \n",
            " 6   Promo                      1017209 non-null  int64         \n",
            " 7   StateHoliday               1017209 non-null  object        \n",
            " 8   SchoolHoliday              1017209 non-null  int64         \n",
            " 9   Year                       1017209 non-null  int64         \n",
            " 10  Month                      1017209 non-null  int64         \n",
            " 11  Day                        1017209 non-null  int64         \n",
            " 12  Week                       1017209 non-null  int64         \n",
            " 13  WeekOfYear                 1017209 non-null  int64         \n",
            " 14  StoreType                  1017209 non-null  object        \n",
            " 15  Assortment                 1017209 non-null  object        \n",
            " 16  CompetitionDistance        1017209 non-null  float64       \n",
            " 17  CompetitionOpenSinceMonth  1017209 non-null  float64       \n",
            " 18  CompetitionOpenSinceYear   1017209 non-null  float64       \n",
            " 19  Promo2                     1017209 non-null  int64         \n",
            " 20  Promo2SinceWeek            1017209 non-null  float64       \n",
            " 21  Promo2SinceYear            1017209 non-null  float64       \n",
            " 22  PromoInterval              1017209 non-null  object        \n",
            "dtypes: datetime64[ns](1), float64(5), int64(13), object(4)\n",
            "memory usage: 186.3+ MB\n"
          ]
        }
      ],
      "source": [
        "merge_df.info()"
      ]
    },
    {
      "cell_type": "markdown",
      "metadata": {
        "id": "v2rMN3Jv96KY"
      },
      "source": [
        "###*Making a copy of our processed dataset to prevent that if we mistakenly do some change via code like inplace = true.*"
      ]
    },
    {
      "cell_type": "code",
      "execution_count": null,
      "metadata": {
        "id": "6ygAmuWtjawi"
      },
      "outputs": [],
      "source": [
        "final_df = merge_df.copy()"
      ]
    },
    {
      "cell_type": "code",
      "execution_count": null,
      "metadata": {
        "id": "S-11BMbz_mTJ"
      },
      "outputs": [],
      "source": [
        "final_df.drop(['Date'], axis = 1, inplace = True)"
      ]
    },
    {
      "cell_type": "code",
      "execution_count": null,
      "metadata": {
        "id": "ilKWU9Ii_vPf"
      },
      "outputs": [],
      "source": [
        "final_df['CompetitionOpen'] = 0\n",
        "final_df['PromoOpen'] = 0"
      ]
    },
    {
      "cell_type": "markdown",
      "metadata": {
        "id": "Nw3r4hm8DAiK"
      },
      "source": [
        "We Can identify that since when compition was open in number of years till current year\n",
        "\n",
        "Same as well as for how many number of Promo2 are opened till date"
      ]
    },
    {
      "cell_type": "code",
      "execution_count": null,
      "metadata": {
        "id": "SMykmRaUApiR"
      },
      "outputs": [],
      "source": [
        "final_df['CompetitionOpen'] = (final_df['CompetitionOpen'].where(final_df['CompetitionOpenSinceYear'] == 0, other= (12 * (final_df['Year'] - final_df['CompetitionOpenSinceYear'])) + (final_df['Month'] - final_df['CompetitionOpenSinceMonth'])))\n",
        "final_df['PromoOpen'] = ( 12 * (final_df['Year'] - final_df['Promo2SinceYear'])) + final_df['Month'] - ((final_df['Promo2SinceWeek']/4))"
      ]
    },
    {
      "cell_type": "code",
      "execution_count": null,
      "metadata": {
        "colab": {
          "base_uri": "https://localhost:8080/",
          "height": 299
        },
        "id": "56WqLftvDhOO",
        "outputId": "17649258-4837-42ce-cc04-e55f776a5027"
      },
      "outputs": [
        {
          "data": {
            "text/html": [
              "<div>\n",
              "<style scoped>\n",
              "    .dataframe tbody tr th:only-of-type {\n",
              "        vertical-align: middle;\n",
              "    }\n",
              "\n",
              "    .dataframe tbody tr th {\n",
              "        vertical-align: top;\n",
              "    }\n",
              "\n",
              "    .dataframe thead th {\n",
              "        text-align: right;\n",
              "    }\n",
              "</style>\n",
              "<table border=\"1\" class=\"dataframe\">\n",
              "  <thead>\n",
              "    <tr style=\"text-align: right;\">\n",
              "      <th></th>\n",
              "      <th>Store</th>\n",
              "      <th>DayOfWeek</th>\n",
              "      <th>Sales</th>\n",
              "      <th>Customers</th>\n",
              "      <th>Open</th>\n",
              "      <th>Promo</th>\n",
              "      <th>StateHoliday</th>\n",
              "      <th>SchoolHoliday</th>\n",
              "      <th>Year</th>\n",
              "      <th>Month</th>\n",
              "      <th>...</th>\n",
              "      <th>Assortment</th>\n",
              "      <th>CompetitionDistance</th>\n",
              "      <th>CompetitionOpenSinceMonth</th>\n",
              "      <th>CompetitionOpenSinceYear</th>\n",
              "      <th>Promo2</th>\n",
              "      <th>Promo2SinceWeek</th>\n",
              "      <th>Promo2SinceYear</th>\n",
              "      <th>PromoInterval</th>\n",
              "      <th>CompetitionOpen</th>\n",
              "      <th>PromoOpen</th>\n",
              "    </tr>\n",
              "  </thead>\n",
              "  <tbody>\n",
              "    <tr>\n",
              "      <th>0</th>\n",
              "      <td>1</td>\n",
              "      <td>5</td>\n",
              "      <td>5263</td>\n",
              "      <td>555</td>\n",
              "      <td>1</td>\n",
              "      <td>1</td>\n",
              "      <td>0</td>\n",
              "      <td>1</td>\n",
              "      <td>2015</td>\n",
              "      <td>7</td>\n",
              "      <td>...</td>\n",
              "      <td>a</td>\n",
              "      <td>1270.0</td>\n",
              "      <td>9.0</td>\n",
              "      <td>2008.0</td>\n",
              "      <td>0</td>\n",
              "      <td>0.0</td>\n",
              "      <td>0.0</td>\n",
              "      <td>0</td>\n",
              "      <td>82.0</td>\n",
              "      <td>24187.0</td>\n",
              "    </tr>\n",
              "    <tr>\n",
              "      <th>1</th>\n",
              "      <td>1</td>\n",
              "      <td>4</td>\n",
              "      <td>5020</td>\n",
              "      <td>546</td>\n",
              "      <td>1</td>\n",
              "      <td>1</td>\n",
              "      <td>0</td>\n",
              "      <td>1</td>\n",
              "      <td>2015</td>\n",
              "      <td>7</td>\n",
              "      <td>...</td>\n",
              "      <td>a</td>\n",
              "      <td>1270.0</td>\n",
              "      <td>9.0</td>\n",
              "      <td>2008.0</td>\n",
              "      <td>0</td>\n",
              "      <td>0.0</td>\n",
              "      <td>0.0</td>\n",
              "      <td>0</td>\n",
              "      <td>82.0</td>\n",
              "      <td>24187.0</td>\n",
              "    </tr>\n",
              "    <tr>\n",
              "      <th>2</th>\n",
              "      <td>1</td>\n",
              "      <td>3</td>\n",
              "      <td>4782</td>\n",
              "      <td>523</td>\n",
              "      <td>1</td>\n",
              "      <td>1</td>\n",
              "      <td>0</td>\n",
              "      <td>1</td>\n",
              "      <td>2015</td>\n",
              "      <td>7</td>\n",
              "      <td>...</td>\n",
              "      <td>a</td>\n",
              "      <td>1270.0</td>\n",
              "      <td>9.0</td>\n",
              "      <td>2008.0</td>\n",
              "      <td>0</td>\n",
              "      <td>0.0</td>\n",
              "      <td>0.0</td>\n",
              "      <td>0</td>\n",
              "      <td>82.0</td>\n",
              "      <td>24187.0</td>\n",
              "    </tr>\n",
              "    <tr>\n",
              "      <th>3</th>\n",
              "      <td>1</td>\n",
              "      <td>2</td>\n",
              "      <td>5011</td>\n",
              "      <td>560</td>\n",
              "      <td>1</td>\n",
              "      <td>1</td>\n",
              "      <td>0</td>\n",
              "      <td>1</td>\n",
              "      <td>2015</td>\n",
              "      <td>7</td>\n",
              "      <td>...</td>\n",
              "      <td>a</td>\n",
              "      <td>1270.0</td>\n",
              "      <td>9.0</td>\n",
              "      <td>2008.0</td>\n",
              "      <td>0</td>\n",
              "      <td>0.0</td>\n",
              "      <td>0.0</td>\n",
              "      <td>0</td>\n",
              "      <td>82.0</td>\n",
              "      <td>24187.0</td>\n",
              "    </tr>\n",
              "    <tr>\n",
              "      <th>4</th>\n",
              "      <td>1</td>\n",
              "      <td>1</td>\n",
              "      <td>6102</td>\n",
              "      <td>612</td>\n",
              "      <td>1</td>\n",
              "      <td>1</td>\n",
              "      <td>0</td>\n",
              "      <td>1</td>\n",
              "      <td>2015</td>\n",
              "      <td>7</td>\n",
              "      <td>...</td>\n",
              "      <td>a</td>\n",
              "      <td>1270.0</td>\n",
              "      <td>9.0</td>\n",
              "      <td>2008.0</td>\n",
              "      <td>0</td>\n",
              "      <td>0.0</td>\n",
              "      <td>0.0</td>\n",
              "      <td>0</td>\n",
              "      <td>82.0</td>\n",
              "      <td>24187.0</td>\n",
              "    </tr>\n",
              "  </tbody>\n",
              "</table>\n",
              "<p>5 rows × 24 columns</p>\n",
              "</div>"
            ],
            "text/plain": [
              "   Store  DayOfWeek  Sales  Customers  Open  Promo StateHoliday  \\\n",
              "0      1          5   5263        555     1      1            0   \n",
              "1      1          4   5020        546     1      1            0   \n",
              "2      1          3   4782        523     1      1            0   \n",
              "3      1          2   5011        560     1      1            0   \n",
              "4      1          1   6102        612     1      1            0   \n",
              "\n",
              "   SchoolHoliday  Year  Month  ...  Assortment  CompetitionDistance  \\\n",
              "0              1  2015      7  ...           a               1270.0   \n",
              "1              1  2015      7  ...           a               1270.0   \n",
              "2              1  2015      7  ...           a               1270.0   \n",
              "3              1  2015      7  ...           a               1270.0   \n",
              "4              1  2015      7  ...           a               1270.0   \n",
              "\n",
              "   CompetitionOpenSinceMonth CompetitionOpenSinceYear Promo2  Promo2SinceWeek  \\\n",
              "0                        9.0                   2008.0      0              0.0   \n",
              "1                        9.0                   2008.0      0              0.0   \n",
              "2                        9.0                   2008.0      0              0.0   \n",
              "3                        9.0                   2008.0      0              0.0   \n",
              "4                        9.0                   2008.0      0              0.0   \n",
              "\n",
              "   Promo2SinceYear  PromoInterval  CompetitionOpen  PromoOpen  \n",
              "0              0.0              0             82.0    24187.0  \n",
              "1              0.0              0             82.0    24187.0  \n",
              "2              0.0              0             82.0    24187.0  \n",
              "3              0.0              0             82.0    24187.0  \n",
              "4              0.0              0             82.0    24187.0  \n",
              "\n",
              "[5 rows x 24 columns]"
            ]
          },
          "execution_count": 133,
          "metadata": {},
          "output_type": "execute_result"
        }
      ],
      "source": [
        "final_df.head()"
      ]
    },
    {
      "cell_type": "markdown",
      "metadata": {
        "id": "_YGFUMasEKGm"
      },
      "source": [
        "We will check if `PromoOpen` got any Negative Values"
      ]
    },
    {
      "cell_type": "code",
      "execution_count": null,
      "metadata": {
        "colab": {
          "base_uri": "https://localhost:8080/",
          "height": 488
        },
        "id": "D913PoC9Ay1W",
        "outputId": "57bfc963-cb84-49ea-a8d6-cd61bf978271"
      },
      "outputs": [
        {
          "data": {
            "text/html": [
              "<div>\n",
              "<style scoped>\n",
              "    .dataframe tbody tr th:only-of-type {\n",
              "        vertical-align: middle;\n",
              "    }\n",
              "\n",
              "    .dataframe tbody tr th {\n",
              "        vertical-align: top;\n",
              "    }\n",
              "\n",
              "    .dataframe thead th {\n",
              "        text-align: right;\n",
              "    }\n",
              "</style>\n",
              "<table border=\"1\" class=\"dataframe\">\n",
              "  <thead>\n",
              "    <tr style=\"text-align: right;\">\n",
              "      <th></th>\n",
              "      <th>Store</th>\n",
              "      <th>DayOfWeek</th>\n",
              "      <th>Sales</th>\n",
              "      <th>Customers</th>\n",
              "      <th>Open</th>\n",
              "      <th>Promo</th>\n",
              "      <th>StateHoliday</th>\n",
              "      <th>SchoolHoliday</th>\n",
              "      <th>Year</th>\n",
              "      <th>Month</th>\n",
              "      <th>...</th>\n",
              "      <th>Assortment</th>\n",
              "      <th>CompetitionDistance</th>\n",
              "      <th>CompetitionOpenSinceMonth</th>\n",
              "      <th>CompetitionOpenSinceYear</th>\n",
              "      <th>Promo2</th>\n",
              "      <th>Promo2SinceWeek</th>\n",
              "      <th>Promo2SinceYear</th>\n",
              "      <th>PromoInterval</th>\n",
              "      <th>CompetitionOpen</th>\n",
              "      <th>PromoOpen</th>\n",
              "    </tr>\n",
              "  </thead>\n",
              "  <tbody>\n",
              "    <tr>\n",
              "      <th>17926</th>\n",
              "      <td>20</td>\n",
              "      <td>1</td>\n",
              "      <td>9229</td>\n",
              "      <td>954</td>\n",
              "      <td>1</td>\n",
              "      <td>1</td>\n",
              "      <td>0</td>\n",
              "      <td>0</td>\n",
              "      <td>2014</td>\n",
              "      <td>6</td>\n",
              "      <td>...</td>\n",
              "      <td>a</td>\n",
              "      <td>2340.0</td>\n",
              "      <td>5.0</td>\n",
              "      <td>2009.0</td>\n",
              "      <td>1</td>\n",
              "      <td>40.0</td>\n",
              "      <td>2014.0</td>\n",
              "      <td>Jan,Apr,Jul,Oct</td>\n",
              "      <td>61.0</td>\n",
              "      <td>-4.00</td>\n",
              "    </tr>\n",
              "    <tr>\n",
              "      <th>17927</th>\n",
              "      <td>20</td>\n",
              "      <td>7</td>\n",
              "      <td>0</td>\n",
              "      <td>0</td>\n",
              "      <td>0</td>\n",
              "      <td>0</td>\n",
              "      <td>0</td>\n",
              "      <td>0</td>\n",
              "      <td>2014</td>\n",
              "      <td>6</td>\n",
              "      <td>...</td>\n",
              "      <td>a</td>\n",
              "      <td>2340.0</td>\n",
              "      <td>5.0</td>\n",
              "      <td>2009.0</td>\n",
              "      <td>1</td>\n",
              "      <td>40.0</td>\n",
              "      <td>2014.0</td>\n",
              "      <td>Jan,Apr,Jul,Oct</td>\n",
              "      <td>61.0</td>\n",
              "      <td>-4.00</td>\n",
              "    </tr>\n",
              "    <tr>\n",
              "      <th>17928</th>\n",
              "      <td>20</td>\n",
              "      <td>6</td>\n",
              "      <td>5572</td>\n",
              "      <td>566</td>\n",
              "      <td>1</td>\n",
              "      <td>0</td>\n",
              "      <td>0</td>\n",
              "      <td>0</td>\n",
              "      <td>2014</td>\n",
              "      <td>6</td>\n",
              "      <td>...</td>\n",
              "      <td>a</td>\n",
              "      <td>2340.0</td>\n",
              "      <td>5.0</td>\n",
              "      <td>2009.0</td>\n",
              "      <td>1</td>\n",
              "      <td>40.0</td>\n",
              "      <td>2014.0</td>\n",
              "      <td>Jan,Apr,Jul,Oct</td>\n",
              "      <td>61.0</td>\n",
              "      <td>-4.00</td>\n",
              "    </tr>\n",
              "    <tr>\n",
              "      <th>17929</th>\n",
              "      <td>20</td>\n",
              "      <td>5</td>\n",
              "      <td>7149</td>\n",
              "      <td>839</td>\n",
              "      <td>1</td>\n",
              "      <td>0</td>\n",
              "      <td>0</td>\n",
              "      <td>0</td>\n",
              "      <td>2014</td>\n",
              "      <td>6</td>\n",
              "      <td>...</td>\n",
              "      <td>a</td>\n",
              "      <td>2340.0</td>\n",
              "      <td>5.0</td>\n",
              "      <td>2009.0</td>\n",
              "      <td>1</td>\n",
              "      <td>40.0</td>\n",
              "      <td>2014.0</td>\n",
              "      <td>Jan,Apr,Jul,Oct</td>\n",
              "      <td>61.0</td>\n",
              "      <td>-4.00</td>\n",
              "    </tr>\n",
              "    <tr>\n",
              "      <th>17930</th>\n",
              "      <td>20</td>\n",
              "      <td>4</td>\n",
              "      <td>8118</td>\n",
              "      <td>997</td>\n",
              "      <td>1</td>\n",
              "      <td>0</td>\n",
              "      <td>0</td>\n",
              "      <td>0</td>\n",
              "      <td>2014</td>\n",
              "      <td>6</td>\n",
              "      <td>...</td>\n",
              "      <td>a</td>\n",
              "      <td>2340.0</td>\n",
              "      <td>5.0</td>\n",
              "      <td>2009.0</td>\n",
              "      <td>1</td>\n",
              "      <td>40.0</td>\n",
              "      <td>2014.0</td>\n",
              "      <td>Jan,Apr,Jul,Oct</td>\n",
              "      <td>61.0</td>\n",
              "      <td>-4.00</td>\n",
              "    </tr>\n",
              "    <tr>\n",
              "      <th>...</th>\n",
              "      <td>...</td>\n",
              "      <td>...</td>\n",
              "      <td>...</td>\n",
              "      <td>...</td>\n",
              "      <td>...</td>\n",
              "      <td>...</td>\n",
              "      <td>...</td>\n",
              "      <td>...</td>\n",
              "      <td>...</td>\n",
              "      <td>...</td>\n",
              "      <td>...</td>\n",
              "      <td>...</td>\n",
              "      <td>...</td>\n",
              "      <td>...</td>\n",
              "      <td>...</td>\n",
              "      <td>...</td>\n",
              "      <td>...</td>\n",
              "      <td>...</td>\n",
              "      <td>...</td>\n",
              "      <td>...</td>\n",
              "      <td>...</td>\n",
              "    </tr>\n",
              "    <tr>\n",
              "      <th>1013436</th>\n",
              "      <td>1111</td>\n",
              "      <td>6</td>\n",
              "      <td>3325</td>\n",
              "      <td>291</td>\n",
              "      <td>1</td>\n",
              "      <td>0</td>\n",
              "      <td>0</td>\n",
              "      <td>0</td>\n",
              "      <td>2013</td>\n",
              "      <td>1</td>\n",
              "      <td>...</td>\n",
              "      <td>a</td>\n",
              "      <td>1900.0</td>\n",
              "      <td>6.0</td>\n",
              "      <td>2014.0</td>\n",
              "      <td>1</td>\n",
              "      <td>31.0</td>\n",
              "      <td>2013.0</td>\n",
              "      <td>Jan,Apr,Jul,Oct</td>\n",
              "      <td>-17.0</td>\n",
              "      <td>-6.75</td>\n",
              "    </tr>\n",
              "    <tr>\n",
              "      <th>1013437</th>\n",
              "      <td>1111</td>\n",
              "      <td>5</td>\n",
              "      <td>4640</td>\n",
              "      <td>453</td>\n",
              "      <td>1</td>\n",
              "      <td>0</td>\n",
              "      <td>0</td>\n",
              "      <td>1</td>\n",
              "      <td>2013</td>\n",
              "      <td>1</td>\n",
              "      <td>...</td>\n",
              "      <td>a</td>\n",
              "      <td>1900.0</td>\n",
              "      <td>6.0</td>\n",
              "      <td>2014.0</td>\n",
              "      <td>1</td>\n",
              "      <td>31.0</td>\n",
              "      <td>2013.0</td>\n",
              "      <td>Jan,Apr,Jul,Oct</td>\n",
              "      <td>-17.0</td>\n",
              "      <td>-6.75</td>\n",
              "    </tr>\n",
              "    <tr>\n",
              "      <th>1013438</th>\n",
              "      <td>1111</td>\n",
              "      <td>4</td>\n",
              "      <td>4579</td>\n",
              "      <td>444</td>\n",
              "      <td>1</td>\n",
              "      <td>0</td>\n",
              "      <td>0</td>\n",
              "      <td>1</td>\n",
              "      <td>2013</td>\n",
              "      <td>1</td>\n",
              "      <td>...</td>\n",
              "      <td>a</td>\n",
              "      <td>1900.0</td>\n",
              "      <td>6.0</td>\n",
              "      <td>2014.0</td>\n",
              "      <td>1</td>\n",
              "      <td>31.0</td>\n",
              "      <td>2013.0</td>\n",
              "      <td>Jan,Apr,Jul,Oct</td>\n",
              "      <td>-17.0</td>\n",
              "      <td>-6.75</td>\n",
              "    </tr>\n",
              "    <tr>\n",
              "      <th>1013439</th>\n",
              "      <td>1111</td>\n",
              "      <td>3</td>\n",
              "      <td>5097</td>\n",
              "      <td>505</td>\n",
              "      <td>1</td>\n",
              "      <td>0</td>\n",
              "      <td>0</td>\n",
              "      <td>1</td>\n",
              "      <td>2013</td>\n",
              "      <td>1</td>\n",
              "      <td>...</td>\n",
              "      <td>a</td>\n",
              "      <td>1900.0</td>\n",
              "      <td>6.0</td>\n",
              "      <td>2014.0</td>\n",
              "      <td>1</td>\n",
              "      <td>31.0</td>\n",
              "      <td>2013.0</td>\n",
              "      <td>Jan,Apr,Jul,Oct</td>\n",
              "      <td>-17.0</td>\n",
              "      <td>-6.75</td>\n",
              "    </tr>\n",
              "    <tr>\n",
              "      <th>1013440</th>\n",
              "      <td>1111</td>\n",
              "      <td>2</td>\n",
              "      <td>0</td>\n",
              "      <td>0</td>\n",
              "      <td>0</td>\n",
              "      <td>0</td>\n",
              "      <td>a</td>\n",
              "      <td>1</td>\n",
              "      <td>2013</td>\n",
              "      <td>1</td>\n",
              "      <td>...</td>\n",
              "      <td>a</td>\n",
              "      <td>1900.0</td>\n",
              "      <td>6.0</td>\n",
              "      <td>2014.0</td>\n",
              "      <td>1</td>\n",
              "      <td>31.0</td>\n",
              "      <td>2013.0</td>\n",
              "      <td>Jan,Apr,Jul,Oct</td>\n",
              "      <td>-17.0</td>\n",
              "      <td>-6.75</td>\n",
              "    </tr>\n",
              "  </tbody>\n",
              "</table>\n",
              "<p>69923 rows × 24 columns</p>\n",
              "</div>"
            ],
            "text/plain": [
              "         Store  DayOfWeek  Sales  Customers  Open  Promo StateHoliday  \\\n",
              "17926       20          1   9229        954     1      1            0   \n",
              "17927       20          7      0          0     0      0            0   \n",
              "17928       20          6   5572        566     1      0            0   \n",
              "17929       20          5   7149        839     1      0            0   \n",
              "17930       20          4   8118        997     1      0            0   \n",
              "...        ...        ...    ...        ...   ...    ...          ...   \n",
              "1013436   1111          6   3325        291     1      0            0   \n",
              "1013437   1111          5   4640        453     1      0            0   \n",
              "1013438   1111          4   4579        444     1      0            0   \n",
              "1013439   1111          3   5097        505     1      0            0   \n",
              "1013440   1111          2      0          0     0      0            a   \n",
              "\n",
              "         SchoolHoliday  Year  Month  ...  Assortment  CompetitionDistance  \\\n",
              "17926                0  2014      6  ...           a               2340.0   \n",
              "17927                0  2014      6  ...           a               2340.0   \n",
              "17928                0  2014      6  ...           a               2340.0   \n",
              "17929                0  2014      6  ...           a               2340.0   \n",
              "17930                0  2014      6  ...           a               2340.0   \n",
              "...                ...   ...    ...  ...         ...                  ...   \n",
              "1013436              0  2013      1  ...           a               1900.0   \n",
              "1013437              1  2013      1  ...           a               1900.0   \n",
              "1013438              1  2013      1  ...           a               1900.0   \n",
              "1013439              1  2013      1  ...           a               1900.0   \n",
              "1013440              1  2013      1  ...           a               1900.0   \n",
              "\n",
              "         CompetitionOpenSinceMonth CompetitionOpenSinceYear Promo2  \\\n",
              "17926                          5.0                   2009.0      1   \n",
              "17927                          5.0                   2009.0      1   \n",
              "17928                          5.0                   2009.0      1   \n",
              "17929                          5.0                   2009.0      1   \n",
              "17930                          5.0                   2009.0      1   \n",
              "...                            ...                      ...    ...   \n",
              "1013436                        6.0                   2014.0      1   \n",
              "1013437                        6.0                   2014.0      1   \n",
              "1013438                        6.0                   2014.0      1   \n",
              "1013439                        6.0                   2014.0      1   \n",
              "1013440                        6.0                   2014.0      1   \n",
              "\n",
              "         Promo2SinceWeek  Promo2SinceYear    PromoInterval  CompetitionOpen  \\\n",
              "17926               40.0           2014.0  Jan,Apr,Jul,Oct             61.0   \n",
              "17927               40.0           2014.0  Jan,Apr,Jul,Oct             61.0   \n",
              "17928               40.0           2014.0  Jan,Apr,Jul,Oct             61.0   \n",
              "17929               40.0           2014.0  Jan,Apr,Jul,Oct             61.0   \n",
              "17930               40.0           2014.0  Jan,Apr,Jul,Oct             61.0   \n",
              "...                  ...              ...              ...              ...   \n",
              "1013436             31.0           2013.0  Jan,Apr,Jul,Oct            -17.0   \n",
              "1013437             31.0           2013.0  Jan,Apr,Jul,Oct            -17.0   \n",
              "1013438             31.0           2013.0  Jan,Apr,Jul,Oct            -17.0   \n",
              "1013439             31.0           2013.0  Jan,Apr,Jul,Oct            -17.0   \n",
              "1013440             31.0           2013.0  Jan,Apr,Jul,Oct            -17.0   \n",
              "\n",
              "         PromoOpen  \n",
              "17926        -4.00  \n",
              "17927        -4.00  \n",
              "17928        -4.00  \n",
              "17929        -4.00  \n",
              "17930        -4.00  \n",
              "...            ...  \n",
              "1013436      -6.75  \n",
              "1013437      -6.75  \n",
              "1013438      -6.75  \n",
              "1013439      -6.75  \n",
              "1013440      -6.75  \n",
              "\n",
              "[69923 rows x 24 columns]"
            ]
          },
          "execution_count": 134,
          "metadata": {},
          "output_type": "execute_result"
        }
      ],
      "source": [
        "final_df[final_df['PromoOpen']<0]"
      ]
    },
    {
      "cell_type": "markdown",
      "metadata": {
        "id": "6vSo6-GAEuqY"
      },
      "source": [
        "##*we can make these PromoOpen negative values to zeros, because they have not started the promos at that time*\n"
      ]
    },
    {
      "cell_type": "code",
      "execution_count": null,
      "metadata": {
        "id": "BztgvbYHEckr"
      },
      "outputs": [],
      "source": [
        "final_df.loc[final_df['PromoOpen'] < 0, 'PromoOpen'] = 0"
      ]
    },
    {
      "cell_type": "code",
      "execution_count": null,
      "metadata": {
        "colab": {
          "base_uri": "https://localhost:8080/",
          "height": 143
        },
        "id": "MT45iDUgFJji",
        "outputId": "f47b73e5-7593-4f8a-863c-e073160ade41"
      },
      "outputs": [
        {
          "data": {
            "text/html": [
              "<div>\n",
              "<style scoped>\n",
              "    .dataframe tbody tr th:only-of-type {\n",
              "        vertical-align: middle;\n",
              "    }\n",
              "\n",
              "    .dataframe tbody tr th {\n",
              "        vertical-align: top;\n",
              "    }\n",
              "\n",
              "    .dataframe thead th {\n",
              "        text-align: right;\n",
              "    }\n",
              "</style>\n",
              "<table border=\"1\" class=\"dataframe\">\n",
              "  <thead>\n",
              "    <tr style=\"text-align: right;\">\n",
              "      <th></th>\n",
              "      <th>Store</th>\n",
              "      <th>DayOfWeek</th>\n",
              "      <th>Sales</th>\n",
              "      <th>Customers</th>\n",
              "      <th>Open</th>\n",
              "      <th>Promo</th>\n",
              "      <th>StateHoliday</th>\n",
              "      <th>SchoolHoliday</th>\n",
              "      <th>Year</th>\n",
              "      <th>Month</th>\n",
              "      <th>...</th>\n",
              "      <th>Assortment</th>\n",
              "      <th>CompetitionDistance</th>\n",
              "      <th>CompetitionOpenSinceMonth</th>\n",
              "      <th>CompetitionOpenSinceYear</th>\n",
              "      <th>Promo2</th>\n",
              "      <th>Promo2SinceWeek</th>\n",
              "      <th>Promo2SinceYear</th>\n",
              "      <th>PromoInterval</th>\n",
              "      <th>CompetitionOpen</th>\n",
              "      <th>PromoOpen</th>\n",
              "    </tr>\n",
              "  </thead>\n",
              "  <tbody>\n",
              "  </tbody>\n",
              "</table>\n",
              "<p>0 rows × 24 columns</p>\n",
              "</div>"
            ],
            "text/plain": [
              "Empty DataFrame\n",
              "Columns: [Store, DayOfWeek, Sales, Customers, Open, Promo, StateHoliday, SchoolHoliday, Year, Month, Day, Week, WeekOfYear, StoreType, Assortment, CompetitionDistance, CompetitionOpenSinceMonth, CompetitionOpenSinceYear, Promo2, Promo2SinceWeek, Promo2SinceYear, PromoInterval, CompetitionOpen, PromoOpen]\n",
              "Index: []\n",
              "\n",
              "[0 rows x 24 columns]"
            ]
          },
          "execution_count": 136,
          "metadata": {},
          "output_type": "execute_result"
        }
      ],
      "source": [
        "final_df[final_df['PromoOpen'] < 0]"
      ]
    },
    {
      "cell_type": "markdown",
      "metadata": {
        "id": "XACuRKsUFudR"
      },
      "source": [
        "##*we can also make these CompetitionOpen negative values to zeros, because they have not opened the competition at that time*\n"
      ]
    },
    {
      "cell_type": "code",
      "execution_count": null,
      "metadata": {
        "id": "X8Q1K-1UFdmv"
      },
      "outputs": [],
      "source": [
        "final_df.loc[final_df['CompetitionOpen']<0, 'CompetitionOpen'] = 0"
      ]
    },
    {
      "cell_type": "code",
      "execution_count": null,
      "metadata": {
        "colab": {
          "base_uri": "https://localhost:8080/",
          "height": 143
        },
        "id": "VRiHq-s3aiEh",
        "outputId": "8b67eaec-4940-4ac8-9b97-83f3ebfc6111"
      },
      "outputs": [
        {
          "data": {
            "text/html": [
              "<div>\n",
              "<style scoped>\n",
              "    .dataframe tbody tr th:only-of-type {\n",
              "        vertical-align: middle;\n",
              "    }\n",
              "\n",
              "    .dataframe tbody tr th {\n",
              "        vertical-align: top;\n",
              "    }\n",
              "\n",
              "    .dataframe thead th {\n",
              "        text-align: right;\n",
              "    }\n",
              "</style>\n",
              "<table border=\"1\" class=\"dataframe\">\n",
              "  <thead>\n",
              "    <tr style=\"text-align: right;\">\n",
              "      <th></th>\n",
              "      <th>Store</th>\n",
              "      <th>DayOfWeek</th>\n",
              "      <th>Sales</th>\n",
              "      <th>Customers</th>\n",
              "      <th>Open</th>\n",
              "      <th>Promo</th>\n",
              "      <th>StateHoliday</th>\n",
              "      <th>SchoolHoliday</th>\n",
              "      <th>Year</th>\n",
              "      <th>Month</th>\n",
              "      <th>...</th>\n",
              "      <th>Assortment</th>\n",
              "      <th>CompetitionDistance</th>\n",
              "      <th>CompetitionOpenSinceMonth</th>\n",
              "      <th>CompetitionOpenSinceYear</th>\n",
              "      <th>Promo2</th>\n",
              "      <th>Promo2SinceWeek</th>\n",
              "      <th>Promo2SinceYear</th>\n",
              "      <th>PromoInterval</th>\n",
              "      <th>CompetitionOpen</th>\n",
              "      <th>PromoOpen</th>\n",
              "    </tr>\n",
              "  </thead>\n",
              "  <tbody>\n",
              "  </tbody>\n",
              "</table>\n",
              "<p>0 rows × 24 columns</p>\n",
              "</div>"
            ],
            "text/plain": [
              "Empty DataFrame\n",
              "Columns: [Store, DayOfWeek, Sales, Customers, Open, Promo, StateHoliday, SchoolHoliday, Year, Month, Day, Week, WeekOfYear, StoreType, Assortment, CompetitionDistance, CompetitionOpenSinceMonth, CompetitionOpenSinceYear, Promo2, Promo2SinceWeek, Promo2SinceYear, PromoInterval, CompetitionOpen, PromoOpen]\n",
              "Index: []\n",
              "\n",
              "[0 rows x 24 columns]"
            ]
          },
          "execution_count": 138,
          "metadata": {},
          "output_type": "execute_result"
        }
      ],
      "source": [
        "final_df[final_df['CompetitionOpen'] < 0]"
      ]
    },
    {
      "cell_type": "code",
      "execution_count": null,
      "metadata": {
        "colab": {
          "base_uri": "https://localhost:8080/",
          "height": 299
        },
        "id": "dsswzmY3d_wk",
        "outputId": "f68a6fb5-c263-4d47-8c6b-17b73a9be0ec"
      },
      "outputs": [
        {
          "data": {
            "text/html": [
              "<div>\n",
              "<style scoped>\n",
              "    .dataframe tbody tr th:only-of-type {\n",
              "        vertical-align: middle;\n",
              "    }\n",
              "\n",
              "    .dataframe tbody tr th {\n",
              "        vertical-align: top;\n",
              "    }\n",
              "\n",
              "    .dataframe thead th {\n",
              "        text-align: right;\n",
              "    }\n",
              "</style>\n",
              "<table border=\"1\" class=\"dataframe\">\n",
              "  <thead>\n",
              "    <tr style=\"text-align: right;\">\n",
              "      <th></th>\n",
              "      <th>Store</th>\n",
              "      <th>DayOfWeek</th>\n",
              "      <th>Sales</th>\n",
              "      <th>Customers</th>\n",
              "      <th>Open</th>\n",
              "      <th>Promo</th>\n",
              "      <th>StateHoliday</th>\n",
              "      <th>SchoolHoliday</th>\n",
              "      <th>Year</th>\n",
              "      <th>Month</th>\n",
              "      <th>...</th>\n",
              "      <th>Assortment</th>\n",
              "      <th>CompetitionDistance</th>\n",
              "      <th>CompetitionOpenSinceMonth</th>\n",
              "      <th>CompetitionOpenSinceYear</th>\n",
              "      <th>Promo2</th>\n",
              "      <th>Promo2SinceWeek</th>\n",
              "      <th>Promo2SinceYear</th>\n",
              "      <th>PromoInterval</th>\n",
              "      <th>CompetitionOpen</th>\n",
              "      <th>PromoOpen</th>\n",
              "    </tr>\n",
              "  </thead>\n",
              "  <tbody>\n",
              "    <tr>\n",
              "      <th>0</th>\n",
              "      <td>1</td>\n",
              "      <td>5</td>\n",
              "      <td>5263</td>\n",
              "      <td>555</td>\n",
              "      <td>1</td>\n",
              "      <td>1</td>\n",
              "      <td>0</td>\n",
              "      <td>1</td>\n",
              "      <td>2015</td>\n",
              "      <td>7</td>\n",
              "      <td>...</td>\n",
              "      <td>a</td>\n",
              "      <td>1270.0</td>\n",
              "      <td>9.0</td>\n",
              "      <td>2008.0</td>\n",
              "      <td>0</td>\n",
              "      <td>0.0</td>\n",
              "      <td>0.0</td>\n",
              "      <td>0</td>\n",
              "      <td>82.0</td>\n",
              "      <td>24187.0</td>\n",
              "    </tr>\n",
              "    <tr>\n",
              "      <th>1</th>\n",
              "      <td>1</td>\n",
              "      <td>4</td>\n",
              "      <td>5020</td>\n",
              "      <td>546</td>\n",
              "      <td>1</td>\n",
              "      <td>1</td>\n",
              "      <td>0</td>\n",
              "      <td>1</td>\n",
              "      <td>2015</td>\n",
              "      <td>7</td>\n",
              "      <td>...</td>\n",
              "      <td>a</td>\n",
              "      <td>1270.0</td>\n",
              "      <td>9.0</td>\n",
              "      <td>2008.0</td>\n",
              "      <td>0</td>\n",
              "      <td>0.0</td>\n",
              "      <td>0.0</td>\n",
              "      <td>0</td>\n",
              "      <td>82.0</td>\n",
              "      <td>24187.0</td>\n",
              "    </tr>\n",
              "    <tr>\n",
              "      <th>2</th>\n",
              "      <td>1</td>\n",
              "      <td>3</td>\n",
              "      <td>4782</td>\n",
              "      <td>523</td>\n",
              "      <td>1</td>\n",
              "      <td>1</td>\n",
              "      <td>0</td>\n",
              "      <td>1</td>\n",
              "      <td>2015</td>\n",
              "      <td>7</td>\n",
              "      <td>...</td>\n",
              "      <td>a</td>\n",
              "      <td>1270.0</td>\n",
              "      <td>9.0</td>\n",
              "      <td>2008.0</td>\n",
              "      <td>0</td>\n",
              "      <td>0.0</td>\n",
              "      <td>0.0</td>\n",
              "      <td>0</td>\n",
              "      <td>82.0</td>\n",
              "      <td>24187.0</td>\n",
              "    </tr>\n",
              "    <tr>\n",
              "      <th>3</th>\n",
              "      <td>1</td>\n",
              "      <td>2</td>\n",
              "      <td>5011</td>\n",
              "      <td>560</td>\n",
              "      <td>1</td>\n",
              "      <td>1</td>\n",
              "      <td>0</td>\n",
              "      <td>1</td>\n",
              "      <td>2015</td>\n",
              "      <td>7</td>\n",
              "      <td>...</td>\n",
              "      <td>a</td>\n",
              "      <td>1270.0</td>\n",
              "      <td>9.0</td>\n",
              "      <td>2008.0</td>\n",
              "      <td>0</td>\n",
              "      <td>0.0</td>\n",
              "      <td>0.0</td>\n",
              "      <td>0</td>\n",
              "      <td>82.0</td>\n",
              "      <td>24187.0</td>\n",
              "    </tr>\n",
              "    <tr>\n",
              "      <th>4</th>\n",
              "      <td>1</td>\n",
              "      <td>1</td>\n",
              "      <td>6102</td>\n",
              "      <td>612</td>\n",
              "      <td>1</td>\n",
              "      <td>1</td>\n",
              "      <td>0</td>\n",
              "      <td>1</td>\n",
              "      <td>2015</td>\n",
              "      <td>7</td>\n",
              "      <td>...</td>\n",
              "      <td>a</td>\n",
              "      <td>1270.0</td>\n",
              "      <td>9.0</td>\n",
              "      <td>2008.0</td>\n",
              "      <td>0</td>\n",
              "      <td>0.0</td>\n",
              "      <td>0.0</td>\n",
              "      <td>0</td>\n",
              "      <td>82.0</td>\n",
              "      <td>24187.0</td>\n",
              "    </tr>\n",
              "  </tbody>\n",
              "</table>\n",
              "<p>5 rows × 24 columns</p>\n",
              "</div>"
            ],
            "text/plain": [
              "   Store  DayOfWeek  Sales  Customers  Open  Promo StateHoliday  \\\n",
              "0      1          5   5263        555     1      1            0   \n",
              "1      1          4   5020        546     1      1            0   \n",
              "2      1          3   4782        523     1      1            0   \n",
              "3      1          2   5011        560     1      1            0   \n",
              "4      1          1   6102        612     1      1            0   \n",
              "\n",
              "   SchoolHoliday  Year  Month  ...  Assortment  CompetitionDistance  \\\n",
              "0              1  2015      7  ...           a               1270.0   \n",
              "1              1  2015      7  ...           a               1270.0   \n",
              "2              1  2015      7  ...           a               1270.0   \n",
              "3              1  2015      7  ...           a               1270.0   \n",
              "4              1  2015      7  ...           a               1270.0   \n",
              "\n",
              "   CompetitionOpenSinceMonth CompetitionOpenSinceYear Promo2  Promo2SinceWeek  \\\n",
              "0                        9.0                   2008.0      0              0.0   \n",
              "1                        9.0                   2008.0      0              0.0   \n",
              "2                        9.0                   2008.0      0              0.0   \n",
              "3                        9.0                   2008.0      0              0.0   \n",
              "4                        9.0                   2008.0      0              0.0   \n",
              "\n",
              "   Promo2SinceYear  PromoInterval  CompetitionOpen  PromoOpen  \n",
              "0              0.0              0             82.0    24187.0  \n",
              "1              0.0              0             82.0    24187.0  \n",
              "2              0.0              0             82.0    24187.0  \n",
              "3              0.0              0             82.0    24187.0  \n",
              "4              0.0              0             82.0    24187.0  \n",
              "\n",
              "[5 rows x 24 columns]"
            ]
          },
          "execution_count": 139,
          "metadata": {},
          "output_type": "execute_result"
        }
      ],
      "source": [
        "final_df.head()"
      ]
    },
    {
      "cell_type": "code",
      "execution_count": null,
      "metadata": {
        "colab": {
          "base_uri": "https://localhost:8080/"
        },
        "id": "_EL0FfhaeyG2",
        "outputId": "6946e682-6d55-4639-ca17-fbb9642291bd"
      },
      "outputs": [
        {
          "data": {
            "text/plain": [
              "0.0        70285\n",
              "24187.0    16864\n",
              "24173.0    16864\n",
              "24159.0    16864\n",
              "24161.0    16864\n",
              "           ...  \n",
              "56.0          31\n",
              "49.0          31\n",
              "48.0          31\n",
              "46.0          31\n",
              "47.0          30\n",
              "Name: PromoOpen, Length: 293, dtype: int64"
            ]
          },
          "execution_count": 140,
          "metadata": {},
          "output_type": "execute_result"
        }
      ],
      "source": [
        "final_df['PromoOpen'].value_counts()"
      ]
    },
    {
      "cell_type": "code",
      "execution_count": null,
      "metadata": {
        "colab": {
          "base_uri": "https://localhost:8080/"
        },
        "id": "rpDMi7Nhj3HL",
        "outputId": "a3ae4097-2651-4391-a841-f6301bfcaef1"
      },
      "outputs": [
        {
          "data": {
            "text/plain": [
              "24187.0"
            ]
          },
          "execution_count": 141,
          "metadata": {},
          "output_type": "execute_result"
        }
      ],
      "source": [
        "final_df['PromoOpen'].max()"
      ]
    },
    {
      "cell_type": "code",
      "execution_count": null,
      "metadata": {
        "colab": {
          "base_uri": "https://localhost:8080/"
        },
        "id": "uXDRnEm_krxN",
        "outputId": "c36b3c29-35f1-4696-ecee-d16df8a23ef8"
      },
      "outputs": [
        {
          "data": {
            "text/plain": [
              "0.0"
            ]
          },
          "execution_count": 142,
          "metadata": {},
          "output_type": "execute_result"
        }
      ],
      "source": [
        "final_df['PromoOpen'].min()"
      ]
    },
    {
      "cell_type": "markdown",
      "metadata": {
        "id": "pCJ2Cf9glKxm"
      },
      "source": [
        "###*some negative and some huge values are there*\n",
        "###*first I will convert the values to zero in PromoOpen which is having Promo2 = 0, because they have not started any promo so no open promo.*"
      ]
    },
    {
      "cell_type": "code",
      "execution_count": null,
      "metadata": {
        "colab": {
          "base_uri": "https://localhost:8080/",
          "height": 488
        },
        "id": "VEdE3J3fl34C",
        "outputId": "f543fd59-c74b-43e8-90cd-612eb019faed"
      },
      "outputs": [
        {
          "data": {
            "text/html": [
              "<div>\n",
              "<style scoped>\n",
              "    .dataframe tbody tr th:only-of-type {\n",
              "        vertical-align: middle;\n",
              "    }\n",
              "\n",
              "    .dataframe tbody tr th {\n",
              "        vertical-align: top;\n",
              "    }\n",
              "\n",
              "    .dataframe thead th {\n",
              "        text-align: right;\n",
              "    }\n",
              "</style>\n",
              "<table border=\"1\" class=\"dataframe\">\n",
              "  <thead>\n",
              "    <tr style=\"text-align: right;\">\n",
              "      <th></th>\n",
              "      <th>Store</th>\n",
              "      <th>DayOfWeek</th>\n",
              "      <th>Sales</th>\n",
              "      <th>Customers</th>\n",
              "      <th>Open</th>\n",
              "      <th>Promo</th>\n",
              "      <th>StateHoliday</th>\n",
              "      <th>SchoolHoliday</th>\n",
              "      <th>Year</th>\n",
              "      <th>Month</th>\n",
              "      <th>...</th>\n",
              "      <th>Assortment</th>\n",
              "      <th>CompetitionDistance</th>\n",
              "      <th>CompetitionOpenSinceMonth</th>\n",
              "      <th>CompetitionOpenSinceYear</th>\n",
              "      <th>Promo2</th>\n",
              "      <th>Promo2SinceWeek</th>\n",
              "      <th>Promo2SinceYear</th>\n",
              "      <th>PromoInterval</th>\n",
              "      <th>CompetitionOpen</th>\n",
              "      <th>PromoOpen</th>\n",
              "    </tr>\n",
              "  </thead>\n",
              "  <tbody>\n",
              "    <tr>\n",
              "      <th>5</th>\n",
              "      <td>1</td>\n",
              "      <td>7</td>\n",
              "      <td>0</td>\n",
              "      <td>0</td>\n",
              "      <td>0</td>\n",
              "      <td>0</td>\n",
              "      <td>0</td>\n",
              "      <td>0</td>\n",
              "      <td>2015</td>\n",
              "      <td>7</td>\n",
              "      <td>...</td>\n",
              "      <td>a</td>\n",
              "      <td>1270.0</td>\n",
              "      <td>9.0</td>\n",
              "      <td>2008.0</td>\n",
              "      <td>0</td>\n",
              "      <td>0.0</td>\n",
              "      <td>0.0</td>\n",
              "      <td>0</td>\n",
              "      <td>82.0</td>\n",
              "      <td>24187.0</td>\n",
              "    </tr>\n",
              "    <tr>\n",
              "      <th>6</th>\n",
              "      <td>1</td>\n",
              "      <td>6</td>\n",
              "      <td>4364</td>\n",
              "      <td>500</td>\n",
              "      <td>1</td>\n",
              "      <td>0</td>\n",
              "      <td>0</td>\n",
              "      <td>0</td>\n",
              "      <td>2015</td>\n",
              "      <td>7</td>\n",
              "      <td>...</td>\n",
              "      <td>a</td>\n",
              "      <td>1270.0</td>\n",
              "      <td>9.0</td>\n",
              "      <td>2008.0</td>\n",
              "      <td>0</td>\n",
              "      <td>0.0</td>\n",
              "      <td>0.0</td>\n",
              "      <td>0</td>\n",
              "      <td>82.0</td>\n",
              "      <td>24187.0</td>\n",
              "    </tr>\n",
              "    <tr>\n",
              "      <th>7</th>\n",
              "      <td>1</td>\n",
              "      <td>5</td>\n",
              "      <td>3706</td>\n",
              "      <td>459</td>\n",
              "      <td>1</td>\n",
              "      <td>0</td>\n",
              "      <td>0</td>\n",
              "      <td>0</td>\n",
              "      <td>2015</td>\n",
              "      <td>7</td>\n",
              "      <td>...</td>\n",
              "      <td>a</td>\n",
              "      <td>1270.0</td>\n",
              "      <td>9.0</td>\n",
              "      <td>2008.0</td>\n",
              "      <td>0</td>\n",
              "      <td>0.0</td>\n",
              "      <td>0.0</td>\n",
              "      <td>0</td>\n",
              "      <td>82.0</td>\n",
              "      <td>24187.0</td>\n",
              "    </tr>\n",
              "    <tr>\n",
              "      <th>8</th>\n",
              "      <td>1</td>\n",
              "      <td>4</td>\n",
              "      <td>3769</td>\n",
              "      <td>503</td>\n",
              "      <td>1</td>\n",
              "      <td>0</td>\n",
              "      <td>0</td>\n",
              "      <td>0</td>\n",
              "      <td>2015</td>\n",
              "      <td>7</td>\n",
              "      <td>...</td>\n",
              "      <td>a</td>\n",
              "      <td>1270.0</td>\n",
              "      <td>9.0</td>\n",
              "      <td>2008.0</td>\n",
              "      <td>0</td>\n",
              "      <td>0.0</td>\n",
              "      <td>0.0</td>\n",
              "      <td>0</td>\n",
              "      <td>82.0</td>\n",
              "      <td>24187.0</td>\n",
              "    </tr>\n",
              "    <tr>\n",
              "      <th>9</th>\n",
              "      <td>1</td>\n",
              "      <td>3</td>\n",
              "      <td>3464</td>\n",
              "      <td>463</td>\n",
              "      <td>1</td>\n",
              "      <td>0</td>\n",
              "      <td>0</td>\n",
              "      <td>0</td>\n",
              "      <td>2015</td>\n",
              "      <td>7</td>\n",
              "      <td>...</td>\n",
              "      <td>a</td>\n",
              "      <td>1270.0</td>\n",
              "      <td>9.0</td>\n",
              "      <td>2008.0</td>\n",
              "      <td>0</td>\n",
              "      <td>0.0</td>\n",
              "      <td>0.0</td>\n",
              "      <td>0</td>\n",
              "      <td>82.0</td>\n",
              "      <td>24187.0</td>\n",
              "    </tr>\n",
              "    <tr>\n",
              "      <th>...</th>\n",
              "      <td>...</td>\n",
              "      <td>...</td>\n",
              "      <td>...</td>\n",
              "      <td>...</td>\n",
              "      <td>...</td>\n",
              "      <td>...</td>\n",
              "      <td>...</td>\n",
              "      <td>...</td>\n",
              "      <td>...</td>\n",
              "      <td>...</td>\n",
              "      <td>...</td>\n",
              "      <td>...</td>\n",
              "      <td>...</td>\n",
              "      <td>...</td>\n",
              "      <td>...</td>\n",
              "      <td>...</td>\n",
              "      <td>...</td>\n",
              "      <td>...</td>\n",
              "      <td>...</td>\n",
              "      <td>...</td>\n",
              "      <td>...</td>\n",
              "    </tr>\n",
              "    <tr>\n",
              "      <th>1017204</th>\n",
              "      <td>1115</td>\n",
              "      <td>6</td>\n",
              "      <td>4771</td>\n",
              "      <td>339</td>\n",
              "      <td>1</td>\n",
              "      <td>0</td>\n",
              "      <td>0</td>\n",
              "      <td>1</td>\n",
              "      <td>2013</td>\n",
              "      <td>1</td>\n",
              "      <td>...</td>\n",
              "      <td>c</td>\n",
              "      <td>5350.0</td>\n",
              "      <td>9.0</td>\n",
              "      <td>2013.0</td>\n",
              "      <td>1</td>\n",
              "      <td>22.0</td>\n",
              "      <td>2012.0</td>\n",
              "      <td>Mar,Jun,Sept,Dec</td>\n",
              "      <td>0.0</td>\n",
              "      <td>7.5</td>\n",
              "    </tr>\n",
              "    <tr>\n",
              "      <th>1017205</th>\n",
              "      <td>1115</td>\n",
              "      <td>5</td>\n",
              "      <td>4540</td>\n",
              "      <td>326</td>\n",
              "      <td>1</td>\n",
              "      <td>0</td>\n",
              "      <td>0</td>\n",
              "      <td>1</td>\n",
              "      <td>2013</td>\n",
              "      <td>1</td>\n",
              "      <td>...</td>\n",
              "      <td>c</td>\n",
              "      <td>5350.0</td>\n",
              "      <td>9.0</td>\n",
              "      <td>2013.0</td>\n",
              "      <td>1</td>\n",
              "      <td>22.0</td>\n",
              "      <td>2012.0</td>\n",
              "      <td>Mar,Jun,Sept,Dec</td>\n",
              "      <td>0.0</td>\n",
              "      <td>7.5</td>\n",
              "    </tr>\n",
              "    <tr>\n",
              "      <th>1017206</th>\n",
              "      <td>1115</td>\n",
              "      <td>4</td>\n",
              "      <td>4297</td>\n",
              "      <td>300</td>\n",
              "      <td>1</td>\n",
              "      <td>0</td>\n",
              "      <td>0</td>\n",
              "      <td>1</td>\n",
              "      <td>2013</td>\n",
              "      <td>1</td>\n",
              "      <td>...</td>\n",
              "      <td>c</td>\n",
              "      <td>5350.0</td>\n",
              "      <td>9.0</td>\n",
              "      <td>2013.0</td>\n",
              "      <td>1</td>\n",
              "      <td>22.0</td>\n",
              "      <td>2012.0</td>\n",
              "      <td>Mar,Jun,Sept,Dec</td>\n",
              "      <td>0.0</td>\n",
              "      <td>7.5</td>\n",
              "    </tr>\n",
              "    <tr>\n",
              "      <th>1017207</th>\n",
              "      <td>1115</td>\n",
              "      <td>3</td>\n",
              "      <td>3697</td>\n",
              "      <td>305</td>\n",
              "      <td>1</td>\n",
              "      <td>0</td>\n",
              "      <td>0</td>\n",
              "      <td>1</td>\n",
              "      <td>2013</td>\n",
              "      <td>1</td>\n",
              "      <td>...</td>\n",
              "      <td>c</td>\n",
              "      <td>5350.0</td>\n",
              "      <td>9.0</td>\n",
              "      <td>2013.0</td>\n",
              "      <td>1</td>\n",
              "      <td>22.0</td>\n",
              "      <td>2012.0</td>\n",
              "      <td>Mar,Jun,Sept,Dec</td>\n",
              "      <td>0.0</td>\n",
              "      <td>7.5</td>\n",
              "    </tr>\n",
              "    <tr>\n",
              "      <th>1017208</th>\n",
              "      <td>1115</td>\n",
              "      <td>2</td>\n",
              "      <td>0</td>\n",
              "      <td>0</td>\n",
              "      <td>0</td>\n",
              "      <td>0</td>\n",
              "      <td>a</td>\n",
              "      <td>1</td>\n",
              "      <td>2013</td>\n",
              "      <td>1</td>\n",
              "      <td>...</td>\n",
              "      <td>c</td>\n",
              "      <td>5350.0</td>\n",
              "      <td>9.0</td>\n",
              "      <td>2013.0</td>\n",
              "      <td>1</td>\n",
              "      <td>22.0</td>\n",
              "      <td>2012.0</td>\n",
              "      <td>Mar,Jun,Sept,Dec</td>\n",
              "      <td>0.0</td>\n",
              "      <td>7.5</td>\n",
              "    </tr>\n",
              "  </tbody>\n",
              "</table>\n",
              "<p>629129 rows × 24 columns</p>\n",
              "</div>"
            ],
            "text/plain": [
              "         Store  DayOfWeek  Sales  Customers  Open  Promo StateHoliday  \\\n",
              "5            1          7      0          0     0      0            0   \n",
              "6            1          6   4364        500     1      0            0   \n",
              "7            1          5   3706        459     1      0            0   \n",
              "8            1          4   3769        503     1      0            0   \n",
              "9            1          3   3464        463     1      0            0   \n",
              "...        ...        ...    ...        ...   ...    ...          ...   \n",
              "1017204   1115          6   4771        339     1      0            0   \n",
              "1017205   1115          5   4540        326     1      0            0   \n",
              "1017206   1115          4   4297        300     1      0            0   \n",
              "1017207   1115          3   3697        305     1      0            0   \n",
              "1017208   1115          2      0          0     0      0            a   \n",
              "\n",
              "         SchoolHoliday  Year  Month  ...  Assortment  CompetitionDistance  \\\n",
              "5                    0  2015      7  ...           a               1270.0   \n",
              "6                    0  2015      7  ...           a               1270.0   \n",
              "7                    0  2015      7  ...           a               1270.0   \n",
              "8                    0  2015      7  ...           a               1270.0   \n",
              "9                    0  2015      7  ...           a               1270.0   \n",
              "...                ...   ...    ...  ...         ...                  ...   \n",
              "1017204              1  2013      1  ...           c               5350.0   \n",
              "1017205              1  2013      1  ...           c               5350.0   \n",
              "1017206              1  2013      1  ...           c               5350.0   \n",
              "1017207              1  2013      1  ...           c               5350.0   \n",
              "1017208              1  2013      1  ...           c               5350.0   \n",
              "\n",
              "         CompetitionOpenSinceMonth CompetitionOpenSinceYear Promo2  \\\n",
              "5                              9.0                   2008.0      0   \n",
              "6                              9.0                   2008.0      0   \n",
              "7                              9.0                   2008.0      0   \n",
              "8                              9.0                   2008.0      0   \n",
              "9                              9.0                   2008.0      0   \n",
              "...                            ...                      ...    ...   \n",
              "1017204                        9.0                   2013.0      1   \n",
              "1017205                        9.0                   2013.0      1   \n",
              "1017206                        9.0                   2013.0      1   \n",
              "1017207                        9.0                   2013.0      1   \n",
              "1017208                        9.0                   2013.0      1   \n",
              "\n",
              "         Promo2SinceWeek  Promo2SinceYear     PromoInterval  CompetitionOpen  \\\n",
              "5                    0.0              0.0                 0             82.0   \n",
              "6                    0.0              0.0                 0             82.0   \n",
              "7                    0.0              0.0                 0             82.0   \n",
              "8                    0.0              0.0                 0             82.0   \n",
              "9                    0.0              0.0                 0             82.0   \n",
              "...                  ...              ...               ...              ...   \n",
              "1017204             22.0           2012.0  Mar,Jun,Sept,Dec              0.0   \n",
              "1017205             22.0           2012.0  Mar,Jun,Sept,Dec              0.0   \n",
              "1017206             22.0           2012.0  Mar,Jun,Sept,Dec              0.0   \n",
              "1017207             22.0           2012.0  Mar,Jun,Sept,Dec              0.0   \n",
              "1017208             22.0           2012.0  Mar,Jun,Sept,Dec              0.0   \n",
              "\n",
              "         PromoOpen  \n",
              "5          24187.0  \n",
              "6          24187.0  \n",
              "7          24187.0  \n",
              "8          24187.0  \n",
              "9          24187.0  \n",
              "...            ...  \n",
              "1017204        7.5  \n",
              "1017205        7.5  \n",
              "1017206        7.5  \n",
              "1017207        7.5  \n",
              "1017208        7.5  \n",
              "\n",
              "[629129 rows x 24 columns]"
            ]
          },
          "execution_count": 143,
          "metadata": {},
          "output_type": "execute_result"
        }
      ],
      "source": [
        "final_df[final_df['Promo'] == 0]"
      ]
    },
    {
      "cell_type": "code",
      "execution_count": null,
      "metadata": {
        "id": "uXg1qTmymCAc"
      },
      "outputs": [],
      "source": [
        "final_df.loc[final_df['Promo'] == 0, 'PromoOpen'] = 0"
      ]
    },
    {
      "cell_type": "code",
      "execution_count": null,
      "metadata": {
        "colab": {
          "base_uri": "https://localhost:8080/",
          "height": 488
        },
        "id": "wreFRGpJmsSg",
        "outputId": "4c2d1cb8-d92a-45f9-84af-05abf8ab63d8"
      },
      "outputs": [
        {
          "data": {
            "text/html": [
              "<div>\n",
              "<style scoped>\n",
              "    .dataframe tbody tr th:only-of-type {\n",
              "        vertical-align: middle;\n",
              "    }\n",
              "\n",
              "    .dataframe tbody tr th {\n",
              "        vertical-align: top;\n",
              "    }\n",
              "\n",
              "    .dataframe thead th {\n",
              "        text-align: right;\n",
              "    }\n",
              "</style>\n",
              "<table border=\"1\" class=\"dataframe\">\n",
              "  <thead>\n",
              "    <tr style=\"text-align: right;\">\n",
              "      <th></th>\n",
              "      <th>Store</th>\n",
              "      <th>DayOfWeek</th>\n",
              "      <th>Sales</th>\n",
              "      <th>Customers</th>\n",
              "      <th>Open</th>\n",
              "      <th>Promo</th>\n",
              "      <th>StateHoliday</th>\n",
              "      <th>SchoolHoliday</th>\n",
              "      <th>Year</th>\n",
              "      <th>Month</th>\n",
              "      <th>...</th>\n",
              "      <th>Assortment</th>\n",
              "      <th>CompetitionDistance</th>\n",
              "      <th>CompetitionOpenSinceMonth</th>\n",
              "      <th>CompetitionOpenSinceYear</th>\n",
              "      <th>Promo2</th>\n",
              "      <th>Promo2SinceWeek</th>\n",
              "      <th>Promo2SinceYear</th>\n",
              "      <th>PromoInterval</th>\n",
              "      <th>CompetitionOpen</th>\n",
              "      <th>PromoOpen</th>\n",
              "    </tr>\n",
              "  </thead>\n",
              "  <tbody>\n",
              "    <tr>\n",
              "      <th>5</th>\n",
              "      <td>1</td>\n",
              "      <td>7</td>\n",
              "      <td>0</td>\n",
              "      <td>0</td>\n",
              "      <td>0</td>\n",
              "      <td>0</td>\n",
              "      <td>0</td>\n",
              "      <td>0</td>\n",
              "      <td>2015</td>\n",
              "      <td>7</td>\n",
              "      <td>...</td>\n",
              "      <td>a</td>\n",
              "      <td>1270.0</td>\n",
              "      <td>9.0</td>\n",
              "      <td>2008.0</td>\n",
              "      <td>0</td>\n",
              "      <td>0.0</td>\n",
              "      <td>0.0</td>\n",
              "      <td>0</td>\n",
              "      <td>82.0</td>\n",
              "      <td>0.0</td>\n",
              "    </tr>\n",
              "    <tr>\n",
              "      <th>6</th>\n",
              "      <td>1</td>\n",
              "      <td>6</td>\n",
              "      <td>4364</td>\n",
              "      <td>500</td>\n",
              "      <td>1</td>\n",
              "      <td>0</td>\n",
              "      <td>0</td>\n",
              "      <td>0</td>\n",
              "      <td>2015</td>\n",
              "      <td>7</td>\n",
              "      <td>...</td>\n",
              "      <td>a</td>\n",
              "      <td>1270.0</td>\n",
              "      <td>9.0</td>\n",
              "      <td>2008.0</td>\n",
              "      <td>0</td>\n",
              "      <td>0.0</td>\n",
              "      <td>0.0</td>\n",
              "      <td>0</td>\n",
              "      <td>82.0</td>\n",
              "      <td>0.0</td>\n",
              "    </tr>\n",
              "    <tr>\n",
              "      <th>7</th>\n",
              "      <td>1</td>\n",
              "      <td>5</td>\n",
              "      <td>3706</td>\n",
              "      <td>459</td>\n",
              "      <td>1</td>\n",
              "      <td>0</td>\n",
              "      <td>0</td>\n",
              "      <td>0</td>\n",
              "      <td>2015</td>\n",
              "      <td>7</td>\n",
              "      <td>...</td>\n",
              "      <td>a</td>\n",
              "      <td>1270.0</td>\n",
              "      <td>9.0</td>\n",
              "      <td>2008.0</td>\n",
              "      <td>0</td>\n",
              "      <td>0.0</td>\n",
              "      <td>0.0</td>\n",
              "      <td>0</td>\n",
              "      <td>82.0</td>\n",
              "      <td>0.0</td>\n",
              "    </tr>\n",
              "    <tr>\n",
              "      <th>8</th>\n",
              "      <td>1</td>\n",
              "      <td>4</td>\n",
              "      <td>3769</td>\n",
              "      <td>503</td>\n",
              "      <td>1</td>\n",
              "      <td>0</td>\n",
              "      <td>0</td>\n",
              "      <td>0</td>\n",
              "      <td>2015</td>\n",
              "      <td>7</td>\n",
              "      <td>...</td>\n",
              "      <td>a</td>\n",
              "      <td>1270.0</td>\n",
              "      <td>9.0</td>\n",
              "      <td>2008.0</td>\n",
              "      <td>0</td>\n",
              "      <td>0.0</td>\n",
              "      <td>0.0</td>\n",
              "      <td>0</td>\n",
              "      <td>82.0</td>\n",
              "      <td>0.0</td>\n",
              "    </tr>\n",
              "    <tr>\n",
              "      <th>9</th>\n",
              "      <td>1</td>\n",
              "      <td>3</td>\n",
              "      <td>3464</td>\n",
              "      <td>463</td>\n",
              "      <td>1</td>\n",
              "      <td>0</td>\n",
              "      <td>0</td>\n",
              "      <td>0</td>\n",
              "      <td>2015</td>\n",
              "      <td>7</td>\n",
              "      <td>...</td>\n",
              "      <td>a</td>\n",
              "      <td>1270.0</td>\n",
              "      <td>9.0</td>\n",
              "      <td>2008.0</td>\n",
              "      <td>0</td>\n",
              "      <td>0.0</td>\n",
              "      <td>0.0</td>\n",
              "      <td>0</td>\n",
              "      <td>82.0</td>\n",
              "      <td>0.0</td>\n",
              "    </tr>\n",
              "    <tr>\n",
              "      <th>...</th>\n",
              "      <td>...</td>\n",
              "      <td>...</td>\n",
              "      <td>...</td>\n",
              "      <td>...</td>\n",
              "      <td>...</td>\n",
              "      <td>...</td>\n",
              "      <td>...</td>\n",
              "      <td>...</td>\n",
              "      <td>...</td>\n",
              "      <td>...</td>\n",
              "      <td>...</td>\n",
              "      <td>...</td>\n",
              "      <td>...</td>\n",
              "      <td>...</td>\n",
              "      <td>...</td>\n",
              "      <td>...</td>\n",
              "      <td>...</td>\n",
              "      <td>...</td>\n",
              "      <td>...</td>\n",
              "      <td>...</td>\n",
              "      <td>...</td>\n",
              "    </tr>\n",
              "    <tr>\n",
              "      <th>1017204</th>\n",
              "      <td>1115</td>\n",
              "      <td>6</td>\n",
              "      <td>4771</td>\n",
              "      <td>339</td>\n",
              "      <td>1</td>\n",
              "      <td>0</td>\n",
              "      <td>0</td>\n",
              "      <td>1</td>\n",
              "      <td>2013</td>\n",
              "      <td>1</td>\n",
              "      <td>...</td>\n",
              "      <td>c</td>\n",
              "      <td>5350.0</td>\n",
              "      <td>9.0</td>\n",
              "      <td>2013.0</td>\n",
              "      <td>1</td>\n",
              "      <td>22.0</td>\n",
              "      <td>2012.0</td>\n",
              "      <td>Mar,Jun,Sept,Dec</td>\n",
              "      <td>0.0</td>\n",
              "      <td>0.0</td>\n",
              "    </tr>\n",
              "    <tr>\n",
              "      <th>1017205</th>\n",
              "      <td>1115</td>\n",
              "      <td>5</td>\n",
              "      <td>4540</td>\n",
              "      <td>326</td>\n",
              "      <td>1</td>\n",
              "      <td>0</td>\n",
              "      <td>0</td>\n",
              "      <td>1</td>\n",
              "      <td>2013</td>\n",
              "      <td>1</td>\n",
              "      <td>...</td>\n",
              "      <td>c</td>\n",
              "      <td>5350.0</td>\n",
              "      <td>9.0</td>\n",
              "      <td>2013.0</td>\n",
              "      <td>1</td>\n",
              "      <td>22.0</td>\n",
              "      <td>2012.0</td>\n",
              "      <td>Mar,Jun,Sept,Dec</td>\n",
              "      <td>0.0</td>\n",
              "      <td>0.0</td>\n",
              "    </tr>\n",
              "    <tr>\n",
              "      <th>1017206</th>\n",
              "      <td>1115</td>\n",
              "      <td>4</td>\n",
              "      <td>4297</td>\n",
              "      <td>300</td>\n",
              "      <td>1</td>\n",
              "      <td>0</td>\n",
              "      <td>0</td>\n",
              "      <td>1</td>\n",
              "      <td>2013</td>\n",
              "      <td>1</td>\n",
              "      <td>...</td>\n",
              "      <td>c</td>\n",
              "      <td>5350.0</td>\n",
              "      <td>9.0</td>\n",
              "      <td>2013.0</td>\n",
              "      <td>1</td>\n",
              "      <td>22.0</td>\n",
              "      <td>2012.0</td>\n",
              "      <td>Mar,Jun,Sept,Dec</td>\n",
              "      <td>0.0</td>\n",
              "      <td>0.0</td>\n",
              "    </tr>\n",
              "    <tr>\n",
              "      <th>1017207</th>\n",
              "      <td>1115</td>\n",
              "      <td>3</td>\n",
              "      <td>3697</td>\n",
              "      <td>305</td>\n",
              "      <td>1</td>\n",
              "      <td>0</td>\n",
              "      <td>0</td>\n",
              "      <td>1</td>\n",
              "      <td>2013</td>\n",
              "      <td>1</td>\n",
              "      <td>...</td>\n",
              "      <td>c</td>\n",
              "      <td>5350.0</td>\n",
              "      <td>9.0</td>\n",
              "      <td>2013.0</td>\n",
              "      <td>1</td>\n",
              "      <td>22.0</td>\n",
              "      <td>2012.0</td>\n",
              "      <td>Mar,Jun,Sept,Dec</td>\n",
              "      <td>0.0</td>\n",
              "      <td>0.0</td>\n",
              "    </tr>\n",
              "    <tr>\n",
              "      <th>1017208</th>\n",
              "      <td>1115</td>\n",
              "      <td>2</td>\n",
              "      <td>0</td>\n",
              "      <td>0</td>\n",
              "      <td>0</td>\n",
              "      <td>0</td>\n",
              "      <td>a</td>\n",
              "      <td>1</td>\n",
              "      <td>2013</td>\n",
              "      <td>1</td>\n",
              "      <td>...</td>\n",
              "      <td>c</td>\n",
              "      <td>5350.0</td>\n",
              "      <td>9.0</td>\n",
              "      <td>2013.0</td>\n",
              "      <td>1</td>\n",
              "      <td>22.0</td>\n",
              "      <td>2012.0</td>\n",
              "      <td>Mar,Jun,Sept,Dec</td>\n",
              "      <td>0.0</td>\n",
              "      <td>0.0</td>\n",
              "    </tr>\n",
              "  </tbody>\n",
              "</table>\n",
              "<p>629129 rows × 24 columns</p>\n",
              "</div>"
            ],
            "text/plain": [
              "         Store  DayOfWeek  Sales  Customers  Open  Promo StateHoliday  \\\n",
              "5            1          7      0          0     0      0            0   \n",
              "6            1          6   4364        500     1      0            0   \n",
              "7            1          5   3706        459     1      0            0   \n",
              "8            1          4   3769        503     1      0            0   \n",
              "9            1          3   3464        463     1      0            0   \n",
              "...        ...        ...    ...        ...   ...    ...          ...   \n",
              "1017204   1115          6   4771        339     1      0            0   \n",
              "1017205   1115          5   4540        326     1      0            0   \n",
              "1017206   1115          4   4297        300     1      0            0   \n",
              "1017207   1115          3   3697        305     1      0            0   \n",
              "1017208   1115          2      0          0     0      0            a   \n",
              "\n",
              "         SchoolHoliday  Year  Month  ...  Assortment  CompetitionDistance  \\\n",
              "5                    0  2015      7  ...           a               1270.0   \n",
              "6                    0  2015      7  ...           a               1270.0   \n",
              "7                    0  2015      7  ...           a               1270.0   \n",
              "8                    0  2015      7  ...           a               1270.0   \n",
              "9                    0  2015      7  ...           a               1270.0   \n",
              "...                ...   ...    ...  ...         ...                  ...   \n",
              "1017204              1  2013      1  ...           c               5350.0   \n",
              "1017205              1  2013      1  ...           c               5350.0   \n",
              "1017206              1  2013      1  ...           c               5350.0   \n",
              "1017207              1  2013      1  ...           c               5350.0   \n",
              "1017208              1  2013      1  ...           c               5350.0   \n",
              "\n",
              "         CompetitionOpenSinceMonth CompetitionOpenSinceYear Promo2  \\\n",
              "5                              9.0                   2008.0      0   \n",
              "6                              9.0                   2008.0      0   \n",
              "7                              9.0                   2008.0      0   \n",
              "8                              9.0                   2008.0      0   \n",
              "9                              9.0                   2008.0      0   \n",
              "...                            ...                      ...    ...   \n",
              "1017204                        9.0                   2013.0      1   \n",
              "1017205                        9.0                   2013.0      1   \n",
              "1017206                        9.0                   2013.0      1   \n",
              "1017207                        9.0                   2013.0      1   \n",
              "1017208                        9.0                   2013.0      1   \n",
              "\n",
              "         Promo2SinceWeek  Promo2SinceYear     PromoInterval  CompetitionOpen  \\\n",
              "5                    0.0              0.0                 0             82.0   \n",
              "6                    0.0              0.0                 0             82.0   \n",
              "7                    0.0              0.0                 0             82.0   \n",
              "8                    0.0              0.0                 0             82.0   \n",
              "9                    0.0              0.0                 0             82.0   \n",
              "...                  ...              ...               ...              ...   \n",
              "1017204             22.0           2012.0  Mar,Jun,Sept,Dec              0.0   \n",
              "1017205             22.0           2012.0  Mar,Jun,Sept,Dec              0.0   \n",
              "1017206             22.0           2012.0  Mar,Jun,Sept,Dec              0.0   \n",
              "1017207             22.0           2012.0  Mar,Jun,Sept,Dec              0.0   \n",
              "1017208             22.0           2012.0  Mar,Jun,Sept,Dec              0.0   \n",
              "\n",
              "         PromoOpen  \n",
              "5              0.0  \n",
              "6              0.0  \n",
              "7              0.0  \n",
              "8              0.0  \n",
              "9              0.0  \n",
              "...            ...  \n",
              "1017204        0.0  \n",
              "1017205        0.0  \n",
              "1017206        0.0  \n",
              "1017207        0.0  \n",
              "1017208        0.0  \n",
              "\n",
              "[629129 rows x 24 columns]"
            ]
          },
          "execution_count": 145,
          "metadata": {},
          "output_type": "execute_result"
        }
      ],
      "source": [
        "final_df[final_df['Promo'] == 0]"
      ]
    },
    {
      "cell_type": "markdown",
      "metadata": {
        "id": "r3EfAAcPladt"
      },
      "source": [
        "###*now we can remove the `CompetitionOpenSinceMonth`\t`CompetitionOpenSinceYear`\t`Promo2`\t`Promo2SinceWeek`\t`Promo2SinceYear`*"
      ]
    },
    {
      "cell_type": "code",
      "execution_count": null,
      "metadata": {
        "id": "293SxSf8k8fs"
      },
      "outputs": [],
      "source": [
        "final_df.drop(['CompetitionOpenSinceMonth', 'CompetitionOpenSinceYear', 'Promo2', 'Promo2SinceWeek', 'Promo2SinceYear'], axis = 1, inplace = True)"
      ]
    },
    {
      "cell_type": "code",
      "execution_count": null,
      "metadata": {
        "colab": {
          "base_uri": "https://localhost:8080/",
          "height": 270
        },
        "id": "0l0UKiaEnrgI",
        "outputId": "e30c1c63-721c-4d69-a5d5-3827393f69ae"
      },
      "outputs": [
        {
          "data": {
            "text/html": [
              "<div>\n",
              "<style scoped>\n",
              "    .dataframe tbody tr th:only-of-type {\n",
              "        vertical-align: middle;\n",
              "    }\n",
              "\n",
              "    .dataframe tbody tr th {\n",
              "        vertical-align: top;\n",
              "    }\n",
              "\n",
              "    .dataframe thead th {\n",
              "        text-align: right;\n",
              "    }\n",
              "</style>\n",
              "<table border=\"1\" class=\"dataframe\">\n",
              "  <thead>\n",
              "    <tr style=\"text-align: right;\">\n",
              "      <th></th>\n",
              "      <th>Store</th>\n",
              "      <th>DayOfWeek</th>\n",
              "      <th>Sales</th>\n",
              "      <th>Customers</th>\n",
              "      <th>Open</th>\n",
              "      <th>Promo</th>\n",
              "      <th>StateHoliday</th>\n",
              "      <th>SchoolHoliday</th>\n",
              "      <th>Year</th>\n",
              "      <th>Month</th>\n",
              "      <th>Day</th>\n",
              "      <th>Week</th>\n",
              "      <th>WeekOfYear</th>\n",
              "      <th>StoreType</th>\n",
              "      <th>Assortment</th>\n",
              "      <th>CompetitionDistance</th>\n",
              "      <th>PromoInterval</th>\n",
              "      <th>CompetitionOpen</th>\n",
              "      <th>PromoOpen</th>\n",
              "    </tr>\n",
              "  </thead>\n",
              "  <tbody>\n",
              "    <tr>\n",
              "      <th>0</th>\n",
              "      <td>1</td>\n",
              "      <td>5</td>\n",
              "      <td>5263</td>\n",
              "      <td>555</td>\n",
              "      <td>1</td>\n",
              "      <td>1</td>\n",
              "      <td>0</td>\n",
              "      <td>1</td>\n",
              "      <td>2015</td>\n",
              "      <td>7</td>\n",
              "      <td>31</td>\n",
              "      <td>3</td>\n",
              "      <td>31</td>\n",
              "      <td>c</td>\n",
              "      <td>a</td>\n",
              "      <td>1270.0</td>\n",
              "      <td>0</td>\n",
              "      <td>82.0</td>\n",
              "      <td>24187.0</td>\n",
              "    </tr>\n",
              "    <tr>\n",
              "      <th>1</th>\n",
              "      <td>1</td>\n",
              "      <td>4</td>\n",
              "      <td>5020</td>\n",
              "      <td>546</td>\n",
              "      <td>1</td>\n",
              "      <td>1</td>\n",
              "      <td>0</td>\n",
              "      <td>1</td>\n",
              "      <td>2015</td>\n",
              "      <td>7</td>\n",
              "      <td>30</td>\n",
              "      <td>3</td>\n",
              "      <td>31</td>\n",
              "      <td>c</td>\n",
              "      <td>a</td>\n",
              "      <td>1270.0</td>\n",
              "      <td>0</td>\n",
              "      <td>82.0</td>\n",
              "      <td>24187.0</td>\n",
              "    </tr>\n",
              "    <tr>\n",
              "      <th>2</th>\n",
              "      <td>1</td>\n",
              "      <td>3</td>\n",
              "      <td>4782</td>\n",
              "      <td>523</td>\n",
              "      <td>1</td>\n",
              "      <td>1</td>\n",
              "      <td>0</td>\n",
              "      <td>1</td>\n",
              "      <td>2015</td>\n",
              "      <td>7</td>\n",
              "      <td>29</td>\n",
              "      <td>3</td>\n",
              "      <td>31</td>\n",
              "      <td>c</td>\n",
              "      <td>a</td>\n",
              "      <td>1270.0</td>\n",
              "      <td>0</td>\n",
              "      <td>82.0</td>\n",
              "      <td>24187.0</td>\n",
              "    </tr>\n",
              "    <tr>\n",
              "      <th>3</th>\n",
              "      <td>1</td>\n",
              "      <td>2</td>\n",
              "      <td>5011</td>\n",
              "      <td>560</td>\n",
              "      <td>1</td>\n",
              "      <td>1</td>\n",
              "      <td>0</td>\n",
              "      <td>1</td>\n",
              "      <td>2015</td>\n",
              "      <td>7</td>\n",
              "      <td>28</td>\n",
              "      <td>3</td>\n",
              "      <td>31</td>\n",
              "      <td>c</td>\n",
              "      <td>a</td>\n",
              "      <td>1270.0</td>\n",
              "      <td>0</td>\n",
              "      <td>82.0</td>\n",
              "      <td>24187.0</td>\n",
              "    </tr>\n",
              "    <tr>\n",
              "      <th>4</th>\n",
              "      <td>1</td>\n",
              "      <td>1</td>\n",
              "      <td>6102</td>\n",
              "      <td>612</td>\n",
              "      <td>1</td>\n",
              "      <td>1</td>\n",
              "      <td>0</td>\n",
              "      <td>1</td>\n",
              "      <td>2015</td>\n",
              "      <td>7</td>\n",
              "      <td>27</td>\n",
              "      <td>3</td>\n",
              "      <td>31</td>\n",
              "      <td>c</td>\n",
              "      <td>a</td>\n",
              "      <td>1270.0</td>\n",
              "      <td>0</td>\n",
              "      <td>82.0</td>\n",
              "      <td>24187.0</td>\n",
              "    </tr>\n",
              "  </tbody>\n",
              "</table>\n",
              "</div>"
            ],
            "text/plain": [
              "   Store  DayOfWeek  Sales  Customers  Open  Promo StateHoliday  \\\n",
              "0      1          5   5263        555     1      1            0   \n",
              "1      1          4   5020        546     1      1            0   \n",
              "2      1          3   4782        523     1      1            0   \n",
              "3      1          2   5011        560     1      1            0   \n",
              "4      1          1   6102        612     1      1            0   \n",
              "\n",
              "   SchoolHoliday  Year  Month  Day  Week  WeekOfYear StoreType Assortment  \\\n",
              "0              1  2015      7   31     3          31         c          a   \n",
              "1              1  2015      7   30     3          31         c          a   \n",
              "2              1  2015      7   29     3          31         c          a   \n",
              "3              1  2015      7   28     3          31         c          a   \n",
              "4              1  2015      7   27     3          31         c          a   \n",
              "\n",
              "   CompetitionDistance PromoInterval  CompetitionOpen  PromoOpen  \n",
              "0               1270.0             0             82.0    24187.0  \n",
              "1               1270.0             0             82.0    24187.0  \n",
              "2               1270.0             0             82.0    24187.0  \n",
              "3               1270.0             0             82.0    24187.0  \n",
              "4               1270.0             0             82.0    24187.0  "
            ]
          },
          "execution_count": 147,
          "metadata": {},
          "output_type": "execute_result"
        }
      ],
      "source": [
        "final_df.head()"
      ]
    },
    {
      "cell_type": "code",
      "execution_count": null,
      "metadata": {
        "colab": {
          "base_uri": "https://localhost:8080/"
        },
        "id": "SJX4jTi4owEj",
        "outputId": "b1bca2f7-7e90-4591-bfc1-4cfda01e474c"
      },
      "outputs": [
        {
          "data": {
            "text/plain": [
              "(1017209, 19)"
            ]
          },
          "execution_count": 148,
          "metadata": {},
          "output_type": "execute_result"
        }
      ],
      "source": [
        "final_df.shape"
      ]
    },
    {
      "cell_type": "code",
      "execution_count": null,
      "metadata": {
        "colab": {
          "base_uri": "https://localhost:8080/"
        },
        "id": "8Sh4JDw-rYfX",
        "outputId": "bc9d693a-717e-46fe-c4cb-cd91c5756fa5"
      },
      "outputs": [
        {
          "data": {
            "text/plain": [
              "0    855087\n",
              "0    131072\n",
              "a     20260\n",
              "b      6690\n",
              "c      4100\n",
              "Name: StateHoliday, dtype: int64"
            ]
          },
          "execution_count": 149,
          "metadata": {},
          "output_type": "execute_result"
        }
      ],
      "source": [
        "#calculation value counts using value_counts() funtion\n",
        "final_df['StateHoliday'].value_counts()"
      ]
    },
    {
      "cell_type": "code",
      "execution_count": null,
      "metadata": {
        "colab": {
          "base_uri": "https://localhost:8080/"
        },
        "id": "vNy-zAQxteu0",
        "outputId": "f970e607-5be1-4c5d-d069-9aca2bdde3be"
      },
      "outputs": [
        {
          "data": {
            "text/plain": [
              "0    986159\n",
              "a     20260\n",
              "b      6690\n",
              "c      4100\n",
              "Name: StateHoliday, dtype: int64"
            ]
          },
          "execution_count": 150,
          "metadata": {},
          "output_type": "execute_result"
        }
      ],
      "source": [
        "final_df.loc[final_df['StateHoliday'] == '0', 'StateHoliday'] = 0\n",
        "\n",
        "final_df['StateHoliday'].value_counts()"
      ]
    },
    {
      "cell_type": "markdown",
      "metadata": {
        "id": "NGXvePOws997"
      },
      "source": [
        "###*So as we have catagorical values in `StateHoliday` so we can do One Hot Encoding by using pandas `pd.get_dummies` to create dummy variables.*"
      ]
    },
    {
      "cell_type": "code",
      "execution_count": null,
      "metadata": {
        "id": "hSbwi4oIs43P"
      },
      "outputs": [],
      "source": [
        "final_df = pd.get_dummies(final_df, columns = ['StateHoliday'], drop_first = True)"
      ]
    },
    {
      "cell_type": "markdown",
      "metadata": {
        "id": "F-CA1-QuQT40"
      },
      "source": [
        "###*Now in `Assortment` column we have to levelized the catagorical value in a form of `0,1,2` which it will give some weightage to model predictions.*"
      ]
    },
    {
      "cell_type": "code",
      "execution_count": null,
      "metadata": {
        "colab": {
          "base_uri": "https://localhost:8080/"
        },
        "id": "hTxeT-4iu5v7",
        "outputId": "6742291e-7e8d-455e-a1b6-6008362d083e"
      },
      "outputs": [
        {
          "data": {
            "text/plain": [
              "a    537445\n",
              "c    471470\n",
              "b      8294\n",
              "Name: Assortment, dtype: int64"
            ]
          },
          "execution_count": 152,
          "metadata": {},
          "output_type": "execute_result"
        }
      ],
      "source": [
        "final_df['Assortment'].value_counts()"
      ]
    },
    {
      "cell_type": "code",
      "execution_count": null,
      "metadata": {
        "id": "I9TsPefSwEWB"
      },
      "outputs": [],
      "source": [
        "final_df['Assortment'] = np.where((final_df['Assortment'] == 'a'),0,final_df['Assortment'])\n",
        "\n",
        "final_df['Assortment'] = np.where((final_df['Assortment'] == 'b'), 1, final_df['Assortment'])\n",
        "\n",
        "final_df['Assortment'] = np.where((final_df['Assortment'] == 'c'), 2, final_df['Assortment'])"
      ]
    },
    {
      "cell_type": "markdown",
      "metadata": {
        "id": "0zSBCszIdrTW"
      },
      "source": [
        "###Now in `StoreType` we did not use One hot encoding because if we done OHE encoding which give equal weightage to our model. so as per domain knowledge we can labeled as 0,1,2,3 as store type.\n",
        "\n",
        "\n",
        "*   store_type 0 means small store_type.\n",
        "*   store_type 1 means medium store_type.\n",
        "\n",
        "*   store_type 2 means large store_type.\n",
        "*   store_type 3 means huge store_type."
      ]
    },
    {
      "cell_type": "code",
      "execution_count": null,
      "metadata": {
        "colab": {
          "base_uri": "https://localhost:8080/"
        },
        "id": "pocRjujQdd8n",
        "outputId": "cc190713-c698-4f0e-fb5c-0988c371a33e"
      },
      "outputs": [
        {
          "data": {
            "text/plain": [
              "a    551627\n",
              "d    312912\n",
              "c    136840\n",
              "b     15830\n",
              "Name: StoreType, dtype: int64"
            ]
          },
          "execution_count": 154,
          "metadata": {},
          "output_type": "execute_result"
        }
      ],
      "source": [
        "final_df['StoreType'].value_counts()"
      ]
    },
    {
      "cell_type": "code",
      "execution_count": null,
      "metadata": {
        "id": "3Z5qsbcOeMZN"
      },
      "outputs": [],
      "source": [
        "#converting catagorical value into interger values based on store type class.\n",
        "\n",
        "final_df['StoreType'] = np.where((final_df['StoreType'] == 'a'), 0, final_df['StoreType'])\n",
        "\n",
        "final_df['StoreType'] = np.where((final_df['StoreType'] == 'b'), 1, final_df['StoreType'])\n",
        "\n",
        "final_df['StoreType'] = np.where((final_df['StoreType'] == 'c'), 2, final_df['StoreType'])\n",
        "\n",
        "final_df['StoreType'] = np.where((final_df['StoreType'] == 'd'), 3, final_df['StoreType'])"
      ]
    },
    {
      "cell_type": "code",
      "execution_count": null,
      "metadata": {
        "colab": {
          "base_uri": "https://localhost:8080/",
          "height": 299
        },
        "id": "TzK9Q86tfFlC",
        "outputId": "e024882c-96c4-45e1-b6e9-9f708d503c44"
      },
      "outputs": [
        {
          "data": {
            "text/html": [
              "<div>\n",
              "<style scoped>\n",
              "    .dataframe tbody tr th:only-of-type {\n",
              "        vertical-align: middle;\n",
              "    }\n",
              "\n",
              "    .dataframe tbody tr th {\n",
              "        vertical-align: top;\n",
              "    }\n",
              "\n",
              "    .dataframe thead th {\n",
              "        text-align: right;\n",
              "    }\n",
              "</style>\n",
              "<table border=\"1\" class=\"dataframe\">\n",
              "  <thead>\n",
              "    <tr style=\"text-align: right;\">\n",
              "      <th></th>\n",
              "      <th>Store</th>\n",
              "      <th>DayOfWeek</th>\n",
              "      <th>Sales</th>\n",
              "      <th>Customers</th>\n",
              "      <th>Open</th>\n",
              "      <th>Promo</th>\n",
              "      <th>SchoolHoliday</th>\n",
              "      <th>Year</th>\n",
              "      <th>Month</th>\n",
              "      <th>Day</th>\n",
              "      <th>...</th>\n",
              "      <th>WeekOfYear</th>\n",
              "      <th>StoreType</th>\n",
              "      <th>Assortment</th>\n",
              "      <th>CompetitionDistance</th>\n",
              "      <th>PromoInterval</th>\n",
              "      <th>CompetitionOpen</th>\n",
              "      <th>PromoOpen</th>\n",
              "      <th>StateHoliday_a</th>\n",
              "      <th>StateHoliday_b</th>\n",
              "      <th>StateHoliday_c</th>\n",
              "    </tr>\n",
              "  </thead>\n",
              "  <tbody>\n",
              "    <tr>\n",
              "      <th>0</th>\n",
              "      <td>1</td>\n",
              "      <td>5</td>\n",
              "      <td>5263</td>\n",
              "      <td>555</td>\n",
              "      <td>1</td>\n",
              "      <td>1</td>\n",
              "      <td>1</td>\n",
              "      <td>2015</td>\n",
              "      <td>7</td>\n",
              "      <td>31</td>\n",
              "      <td>...</td>\n",
              "      <td>31</td>\n",
              "      <td>2</td>\n",
              "      <td>0</td>\n",
              "      <td>1270.0</td>\n",
              "      <td>0</td>\n",
              "      <td>82.0</td>\n",
              "      <td>24187.0</td>\n",
              "      <td>0</td>\n",
              "      <td>0</td>\n",
              "      <td>0</td>\n",
              "    </tr>\n",
              "    <tr>\n",
              "      <th>1</th>\n",
              "      <td>1</td>\n",
              "      <td>4</td>\n",
              "      <td>5020</td>\n",
              "      <td>546</td>\n",
              "      <td>1</td>\n",
              "      <td>1</td>\n",
              "      <td>1</td>\n",
              "      <td>2015</td>\n",
              "      <td>7</td>\n",
              "      <td>30</td>\n",
              "      <td>...</td>\n",
              "      <td>31</td>\n",
              "      <td>2</td>\n",
              "      <td>0</td>\n",
              "      <td>1270.0</td>\n",
              "      <td>0</td>\n",
              "      <td>82.0</td>\n",
              "      <td>24187.0</td>\n",
              "      <td>0</td>\n",
              "      <td>0</td>\n",
              "      <td>0</td>\n",
              "    </tr>\n",
              "    <tr>\n",
              "      <th>2</th>\n",
              "      <td>1</td>\n",
              "      <td>3</td>\n",
              "      <td>4782</td>\n",
              "      <td>523</td>\n",
              "      <td>1</td>\n",
              "      <td>1</td>\n",
              "      <td>1</td>\n",
              "      <td>2015</td>\n",
              "      <td>7</td>\n",
              "      <td>29</td>\n",
              "      <td>...</td>\n",
              "      <td>31</td>\n",
              "      <td>2</td>\n",
              "      <td>0</td>\n",
              "      <td>1270.0</td>\n",
              "      <td>0</td>\n",
              "      <td>82.0</td>\n",
              "      <td>24187.0</td>\n",
              "      <td>0</td>\n",
              "      <td>0</td>\n",
              "      <td>0</td>\n",
              "    </tr>\n",
              "    <tr>\n",
              "      <th>3</th>\n",
              "      <td>1</td>\n",
              "      <td>2</td>\n",
              "      <td>5011</td>\n",
              "      <td>560</td>\n",
              "      <td>1</td>\n",
              "      <td>1</td>\n",
              "      <td>1</td>\n",
              "      <td>2015</td>\n",
              "      <td>7</td>\n",
              "      <td>28</td>\n",
              "      <td>...</td>\n",
              "      <td>31</td>\n",
              "      <td>2</td>\n",
              "      <td>0</td>\n",
              "      <td>1270.0</td>\n",
              "      <td>0</td>\n",
              "      <td>82.0</td>\n",
              "      <td>24187.0</td>\n",
              "      <td>0</td>\n",
              "      <td>0</td>\n",
              "      <td>0</td>\n",
              "    </tr>\n",
              "    <tr>\n",
              "      <th>4</th>\n",
              "      <td>1</td>\n",
              "      <td>1</td>\n",
              "      <td>6102</td>\n",
              "      <td>612</td>\n",
              "      <td>1</td>\n",
              "      <td>1</td>\n",
              "      <td>1</td>\n",
              "      <td>2015</td>\n",
              "      <td>7</td>\n",
              "      <td>27</td>\n",
              "      <td>...</td>\n",
              "      <td>31</td>\n",
              "      <td>2</td>\n",
              "      <td>0</td>\n",
              "      <td>1270.0</td>\n",
              "      <td>0</td>\n",
              "      <td>82.0</td>\n",
              "      <td>24187.0</td>\n",
              "      <td>0</td>\n",
              "      <td>0</td>\n",
              "      <td>0</td>\n",
              "    </tr>\n",
              "  </tbody>\n",
              "</table>\n",
              "<p>5 rows × 21 columns</p>\n",
              "</div>"
            ],
            "text/plain": [
              "   Store  DayOfWeek  Sales  Customers  Open  Promo  SchoolHoliday  Year  \\\n",
              "0      1          5   5263        555     1      1              1  2015   \n",
              "1      1          4   5020        546     1      1              1  2015   \n",
              "2      1          3   4782        523     1      1              1  2015   \n",
              "3      1          2   5011        560     1      1              1  2015   \n",
              "4      1          1   6102        612     1      1              1  2015   \n",
              "\n",
              "   Month  Day  ...  WeekOfYear  StoreType Assortment CompetitionDistance  \\\n",
              "0      7   31  ...          31          2          0              1270.0   \n",
              "1      7   30  ...          31          2          0              1270.0   \n",
              "2      7   29  ...          31          2          0              1270.0   \n",
              "3      7   28  ...          31          2          0              1270.0   \n",
              "4      7   27  ...          31          2          0              1270.0   \n",
              "\n",
              "   PromoInterval CompetitionOpen  PromoOpen  StateHoliday_a  StateHoliday_b  \\\n",
              "0              0            82.0    24187.0               0               0   \n",
              "1              0            82.0    24187.0               0               0   \n",
              "2              0            82.0    24187.0               0               0   \n",
              "3              0            82.0    24187.0               0               0   \n",
              "4              0            82.0    24187.0               0               0   \n",
              "\n",
              "   StateHoliday_c  \n",
              "0               0  \n",
              "1               0  \n",
              "2               0  \n",
              "3               0  \n",
              "4               0  \n",
              "\n",
              "[5 rows x 21 columns]"
            ]
          },
          "execution_count": 156,
          "metadata": {},
          "output_type": "execute_result"
        }
      ],
      "source": [
        "final_df.head()"
      ]
    },
    {
      "cell_type": "code",
      "execution_count": null,
      "metadata": {
        "colab": {
          "base_uri": "https://localhost:8080/"
        },
        "id": "AblHDZ9KfbmC",
        "outputId": "a74bf2dc-5ffb-4fa7-f513-9243156719ed"
      },
      "outputs": [
        {
          "data": {
            "text/plain": [
              "<bound method IndexOpsMixin.value_counts of 0                         0\n",
              "1                         0\n",
              "2                         0\n",
              "3                         0\n",
              "4                         0\n",
              "                 ...       \n",
              "1017204    Mar,Jun,Sept,Dec\n",
              "1017205    Mar,Jun,Sept,Dec\n",
              "1017206    Mar,Jun,Sept,Dec\n",
              "1017207    Mar,Jun,Sept,Dec\n",
              "1017208    Mar,Jun,Sept,Dec\n",
              "Name: PromoInterval, Length: 1017209, dtype: object>"
            ]
          },
          "execution_count": 157,
          "metadata": {},
          "output_type": "execute_result"
        }
      ],
      "source": [
        "final_df['PromoInterval'].value_counts"
      ]
    },
    {
      "cell_type": "markdown",
      "metadata": {
        "id": "Z4WFid-LrW_s"
      },
      "source": [
        "We can see above in `PromoInterval` column there are also some categorial values we need to give them One Hot Encoding"
      ]
    },
    {
      "cell_type": "code",
      "execution_count": null,
      "metadata": {
        "id": "WQqd-C6yqUiU"
      },
      "outputs": [],
      "source": [
        "final_df = pd.get_dummies(final_df, columns = ['PromoInterval'], drop_first = True)"
      ]
    },
    {
      "cell_type": "code",
      "execution_count": null,
      "metadata": {
        "colab": {
          "base_uri": "https://localhost:8080/",
          "height": 299
        },
        "id": "_-H3Kq4qsNQj",
        "outputId": "8d472387-1030-4b0c-db8c-5cf6690052fe"
      },
      "outputs": [
        {
          "data": {
            "text/html": [
              "<div>\n",
              "<style scoped>\n",
              "    .dataframe tbody tr th:only-of-type {\n",
              "        vertical-align: middle;\n",
              "    }\n",
              "\n",
              "    .dataframe tbody tr th {\n",
              "        vertical-align: top;\n",
              "    }\n",
              "\n",
              "    .dataframe thead th {\n",
              "        text-align: right;\n",
              "    }\n",
              "</style>\n",
              "<table border=\"1\" class=\"dataframe\">\n",
              "  <thead>\n",
              "    <tr style=\"text-align: right;\">\n",
              "      <th></th>\n",
              "      <th>Store</th>\n",
              "      <th>DayOfWeek</th>\n",
              "      <th>Sales</th>\n",
              "      <th>Customers</th>\n",
              "      <th>Open</th>\n",
              "      <th>Promo</th>\n",
              "      <th>SchoolHoliday</th>\n",
              "      <th>Year</th>\n",
              "      <th>Month</th>\n",
              "      <th>Day</th>\n",
              "      <th>...</th>\n",
              "      <th>Assortment</th>\n",
              "      <th>CompetitionDistance</th>\n",
              "      <th>CompetitionOpen</th>\n",
              "      <th>PromoOpen</th>\n",
              "      <th>StateHoliday_a</th>\n",
              "      <th>StateHoliday_b</th>\n",
              "      <th>StateHoliday_c</th>\n",
              "      <th>PromoInterval_Feb,May,Aug,Nov</th>\n",
              "      <th>PromoInterval_Jan,Apr,Jul,Oct</th>\n",
              "      <th>PromoInterval_Mar,Jun,Sept,Dec</th>\n",
              "    </tr>\n",
              "  </thead>\n",
              "  <tbody>\n",
              "    <tr>\n",
              "      <th>0</th>\n",
              "      <td>1</td>\n",
              "      <td>5</td>\n",
              "      <td>5263</td>\n",
              "      <td>555</td>\n",
              "      <td>1</td>\n",
              "      <td>1</td>\n",
              "      <td>1</td>\n",
              "      <td>2015</td>\n",
              "      <td>7</td>\n",
              "      <td>31</td>\n",
              "      <td>...</td>\n",
              "      <td>0</td>\n",
              "      <td>1270.0</td>\n",
              "      <td>82.0</td>\n",
              "      <td>24187.0</td>\n",
              "      <td>0</td>\n",
              "      <td>0</td>\n",
              "      <td>0</td>\n",
              "      <td>0</td>\n",
              "      <td>0</td>\n",
              "      <td>0</td>\n",
              "    </tr>\n",
              "    <tr>\n",
              "      <th>1</th>\n",
              "      <td>1</td>\n",
              "      <td>4</td>\n",
              "      <td>5020</td>\n",
              "      <td>546</td>\n",
              "      <td>1</td>\n",
              "      <td>1</td>\n",
              "      <td>1</td>\n",
              "      <td>2015</td>\n",
              "      <td>7</td>\n",
              "      <td>30</td>\n",
              "      <td>...</td>\n",
              "      <td>0</td>\n",
              "      <td>1270.0</td>\n",
              "      <td>82.0</td>\n",
              "      <td>24187.0</td>\n",
              "      <td>0</td>\n",
              "      <td>0</td>\n",
              "      <td>0</td>\n",
              "      <td>0</td>\n",
              "      <td>0</td>\n",
              "      <td>0</td>\n",
              "    </tr>\n",
              "    <tr>\n",
              "      <th>2</th>\n",
              "      <td>1</td>\n",
              "      <td>3</td>\n",
              "      <td>4782</td>\n",
              "      <td>523</td>\n",
              "      <td>1</td>\n",
              "      <td>1</td>\n",
              "      <td>1</td>\n",
              "      <td>2015</td>\n",
              "      <td>7</td>\n",
              "      <td>29</td>\n",
              "      <td>...</td>\n",
              "      <td>0</td>\n",
              "      <td>1270.0</td>\n",
              "      <td>82.0</td>\n",
              "      <td>24187.0</td>\n",
              "      <td>0</td>\n",
              "      <td>0</td>\n",
              "      <td>0</td>\n",
              "      <td>0</td>\n",
              "      <td>0</td>\n",
              "      <td>0</td>\n",
              "    </tr>\n",
              "    <tr>\n",
              "      <th>3</th>\n",
              "      <td>1</td>\n",
              "      <td>2</td>\n",
              "      <td>5011</td>\n",
              "      <td>560</td>\n",
              "      <td>1</td>\n",
              "      <td>1</td>\n",
              "      <td>1</td>\n",
              "      <td>2015</td>\n",
              "      <td>7</td>\n",
              "      <td>28</td>\n",
              "      <td>...</td>\n",
              "      <td>0</td>\n",
              "      <td>1270.0</td>\n",
              "      <td>82.0</td>\n",
              "      <td>24187.0</td>\n",
              "      <td>0</td>\n",
              "      <td>0</td>\n",
              "      <td>0</td>\n",
              "      <td>0</td>\n",
              "      <td>0</td>\n",
              "      <td>0</td>\n",
              "    </tr>\n",
              "    <tr>\n",
              "      <th>4</th>\n",
              "      <td>1</td>\n",
              "      <td>1</td>\n",
              "      <td>6102</td>\n",
              "      <td>612</td>\n",
              "      <td>1</td>\n",
              "      <td>1</td>\n",
              "      <td>1</td>\n",
              "      <td>2015</td>\n",
              "      <td>7</td>\n",
              "      <td>27</td>\n",
              "      <td>...</td>\n",
              "      <td>0</td>\n",
              "      <td>1270.0</td>\n",
              "      <td>82.0</td>\n",
              "      <td>24187.0</td>\n",
              "      <td>0</td>\n",
              "      <td>0</td>\n",
              "      <td>0</td>\n",
              "      <td>0</td>\n",
              "      <td>0</td>\n",
              "      <td>0</td>\n",
              "    </tr>\n",
              "  </tbody>\n",
              "</table>\n",
              "<p>5 rows × 23 columns</p>\n",
              "</div>"
            ],
            "text/plain": [
              "   Store  DayOfWeek  Sales  Customers  Open  Promo  SchoolHoliday  Year  \\\n",
              "0      1          5   5263        555     1      1              1  2015   \n",
              "1      1          4   5020        546     1      1              1  2015   \n",
              "2      1          3   4782        523     1      1              1  2015   \n",
              "3      1          2   5011        560     1      1              1  2015   \n",
              "4      1          1   6102        612     1      1              1  2015   \n",
              "\n",
              "   Month  Day  ...  Assortment  CompetitionDistance CompetitionOpen PromoOpen  \\\n",
              "0      7   31  ...           0               1270.0            82.0   24187.0   \n",
              "1      7   30  ...           0               1270.0            82.0   24187.0   \n",
              "2      7   29  ...           0               1270.0            82.0   24187.0   \n",
              "3      7   28  ...           0               1270.0            82.0   24187.0   \n",
              "4      7   27  ...           0               1270.0            82.0   24187.0   \n",
              "\n",
              "   StateHoliday_a  StateHoliday_b  StateHoliday_c  \\\n",
              "0               0               0               0   \n",
              "1               0               0               0   \n",
              "2               0               0               0   \n",
              "3               0               0               0   \n",
              "4               0               0               0   \n",
              "\n",
              "   PromoInterval_Feb,May,Aug,Nov  PromoInterval_Jan,Apr,Jul,Oct  \\\n",
              "0                              0                              0   \n",
              "1                              0                              0   \n",
              "2                              0                              0   \n",
              "3                              0                              0   \n",
              "4                              0                              0   \n",
              "\n",
              "   PromoInterval_Mar,Jun,Sept,Dec  \n",
              "0                               0  \n",
              "1                               0  \n",
              "2                               0  \n",
              "3                               0  \n",
              "4                               0  \n",
              "\n",
              "[5 rows x 23 columns]"
            ]
          },
          "execution_count": 159,
          "metadata": {},
          "output_type": "execute_result"
        }
      ],
      "source": [
        "final_df.head()"
      ]
    },
    {
      "cell_type": "code",
      "execution_count": null,
      "metadata": {
        "colab": {
          "base_uri": "https://localhost:8080/"
        },
        "id": "7L4GDr4qsTIl",
        "outputId": "18388e63-29a9-473d-f0f1-3ae1661d80ab"
      },
      "outputs": [
        {
          "name": "stdout",
          "output_type": "stream",
          "text": [
            "<class 'pandas.core.frame.DataFrame'>\n",
            "Int64Index: 1017209 entries, 0 to 1017208\n",
            "Data columns (total 23 columns):\n",
            " #   Column                          Non-Null Count    Dtype  \n",
            "---  ------                          --------------    -----  \n",
            " 0   Store                           1017209 non-null  int64  \n",
            " 1   DayOfWeek                       1017209 non-null  int64  \n",
            " 2   Sales                           1017209 non-null  int64  \n",
            " 3   Customers                       1017209 non-null  int64  \n",
            " 4   Open                            1017209 non-null  int64  \n",
            " 5   Promo                           1017209 non-null  int64  \n",
            " 6   SchoolHoliday                   1017209 non-null  int64  \n",
            " 7   Year                            1017209 non-null  int64  \n",
            " 8   Month                           1017209 non-null  int64  \n",
            " 9   Day                             1017209 non-null  int64  \n",
            " 10  Week                            1017209 non-null  int64  \n",
            " 11  WeekOfYear                      1017209 non-null  int64  \n",
            " 12  StoreType                       1017209 non-null  object \n",
            " 13  Assortment                      1017209 non-null  object \n",
            " 14  CompetitionDistance             1017209 non-null  float64\n",
            " 15  CompetitionOpen                 1017209 non-null  float64\n",
            " 16  PromoOpen                       1017209 non-null  float64\n",
            " 17  StateHoliday_a                  1017209 non-null  uint8  \n",
            " 18  StateHoliday_b                  1017209 non-null  uint8  \n",
            " 19  StateHoliday_c                  1017209 non-null  uint8  \n",
            " 20  PromoInterval_Feb,May,Aug,Nov   1017209 non-null  uint8  \n",
            " 21  PromoInterval_Jan,Apr,Jul,Oct   1017209 non-null  uint8  \n",
            " 22  PromoInterval_Mar,Jun,Sept,Dec  1017209 non-null  uint8  \n",
            "dtypes: float64(3), int64(12), object(2), uint8(6)\n",
            "memory usage: 145.5+ MB\n"
          ]
        }
      ],
      "source": [
        "final_df.info()"
      ]
    },
    {
      "cell_type": "markdown",
      "metadata": {
        "id": "wE-Av9Yjwgfp"
      },
      "source": [
        "###As we can see that some of our features are in object datatype so we have to first convert into interger or float. so that our machine learning algorithm will understand these feature."
      ]
    },
    {
      "cell_type": "code",
      "execution_count": null,
      "metadata": {
        "id": "_EyAhUfWwaQw"
      },
      "outputs": [],
      "source": [
        "#converting object dtype to integer.\n",
        "\n",
        "final_df['StoreType']= final_df['StoreType'].astype(int)\n",
        "\n",
        "final_df['Assortment']= final_df['Assortment'].astype(int)"
      ]
    },
    {
      "cell_type": "code",
      "execution_count": null,
      "metadata": {
        "colab": {
          "base_uri": "https://localhost:8080/"
        },
        "id": "u5S2f26tw9Gg",
        "outputId": "6c3d0bf9-d56f-4488-df95-bb6b1affebe4"
      },
      "outputs": [
        {
          "name": "stdout",
          "output_type": "stream",
          "text": [
            "<class 'pandas.core.frame.DataFrame'>\n",
            "Int64Index: 1017209 entries, 0 to 1017208\n",
            "Data columns (total 23 columns):\n",
            " #   Column                          Non-Null Count    Dtype  \n",
            "---  ------                          --------------    -----  \n",
            " 0   Store                           1017209 non-null  int64  \n",
            " 1   DayOfWeek                       1017209 non-null  int64  \n",
            " 2   Sales                           1017209 non-null  int64  \n",
            " 3   Customers                       1017209 non-null  int64  \n",
            " 4   Open                            1017209 non-null  int64  \n",
            " 5   Promo                           1017209 non-null  int64  \n",
            " 6   SchoolHoliday                   1017209 non-null  int64  \n",
            " 7   Year                            1017209 non-null  int64  \n",
            " 8   Month                           1017209 non-null  int64  \n",
            " 9   Day                             1017209 non-null  int64  \n",
            " 10  Week                            1017209 non-null  int64  \n",
            " 11  WeekOfYear                      1017209 non-null  int64  \n",
            " 12  StoreType                       1017209 non-null  int32  \n",
            " 13  Assortment                      1017209 non-null  int32  \n",
            " 14  CompetitionDistance             1017209 non-null  float64\n",
            " 15  CompetitionOpen                 1017209 non-null  float64\n",
            " 16  PromoOpen                       1017209 non-null  float64\n",
            " 17  StateHoliday_a                  1017209 non-null  uint8  \n",
            " 18  StateHoliday_b                  1017209 non-null  uint8  \n",
            " 19  StateHoliday_c                  1017209 non-null  uint8  \n",
            " 20  PromoInterval_Feb,May,Aug,Nov   1017209 non-null  uint8  \n",
            " 21  PromoInterval_Jan,Apr,Jul,Oct   1017209 non-null  uint8  \n",
            " 22  PromoInterval_Mar,Jun,Sept,Dec  1017209 non-null  uint8  \n",
            "dtypes: float64(3), int32(2), int64(12), uint8(6)\n",
            "memory usage: 137.8 MB\n"
          ]
        }
      ],
      "source": [
        "final_df.info()"
      ]
    },
    {
      "cell_type": "code",
      "execution_count": null,
      "metadata": {
        "colab": {
          "base_uri": "https://localhost:8080/"
        },
        "id": "RvgPV2tFxLih",
        "outputId": "cfad0473-5e9b-4c7e-fc8b-803860a1d5f5"
      },
      "outputs": [
        {
          "name": "stdout",
          "output_type": "stream",
          "text": [
            "The number of duplicate values in the data set is =  0\n"
          ]
        }
      ],
      "source": [
        "# Checking Duplicate Values\n",
        "value=len(final_df[final_df.duplicated()])\n",
        "print(\"The number of duplicate values in the data set is = \",value)"
      ]
    },
    {
      "cell_type": "markdown",
      "metadata": {
        "id": "uuGc7XOjOmtI"
      },
      "source": [
        "#**EXPLORATORY DATA ANALYSIS**\n",
        "\n",
        "---\n",
        "\n"
      ]
    },
    {
      "cell_type": "code",
      "execution_count": null,
      "metadata": {
        "colab": {
          "base_uri": "https://localhost:8080/",
          "height": 299
        },
        "id": "qbiP0TkJSM6T",
        "outputId": "bbcd1f37-05a7-4967-9402-96b967605298"
      },
      "outputs": [
        {
          "data": {
            "text/html": [
              "<div>\n",
              "<style scoped>\n",
              "    .dataframe tbody tr th:only-of-type {\n",
              "        vertical-align: middle;\n",
              "    }\n",
              "\n",
              "    .dataframe tbody tr th {\n",
              "        vertical-align: top;\n",
              "    }\n",
              "\n",
              "    .dataframe thead th {\n",
              "        text-align: right;\n",
              "    }\n",
              "</style>\n",
              "<table border=\"1\" class=\"dataframe\">\n",
              "  <thead>\n",
              "    <tr style=\"text-align: right;\">\n",
              "      <th></th>\n",
              "      <th>Store</th>\n",
              "      <th>DayOfWeek</th>\n",
              "      <th>Sales</th>\n",
              "      <th>Customers</th>\n",
              "      <th>Open</th>\n",
              "      <th>Promo</th>\n",
              "      <th>SchoolHoliday</th>\n",
              "      <th>Year</th>\n",
              "      <th>Month</th>\n",
              "      <th>Day</th>\n",
              "      <th>...</th>\n",
              "      <th>Assortment</th>\n",
              "      <th>CompetitionDistance</th>\n",
              "      <th>CompetitionOpen</th>\n",
              "      <th>PromoOpen</th>\n",
              "      <th>StateHoliday_a</th>\n",
              "      <th>StateHoliday_b</th>\n",
              "      <th>StateHoliday_c</th>\n",
              "      <th>PromoInterval_Feb,May,Aug,Nov</th>\n",
              "      <th>PromoInterval_Jan,Apr,Jul,Oct</th>\n",
              "      <th>PromoInterval_Mar,Jun,Sept,Dec</th>\n",
              "    </tr>\n",
              "  </thead>\n",
              "  <tbody>\n",
              "    <tr>\n",
              "      <th>0</th>\n",
              "      <td>1</td>\n",
              "      <td>5</td>\n",
              "      <td>5263</td>\n",
              "      <td>555</td>\n",
              "      <td>1</td>\n",
              "      <td>1</td>\n",
              "      <td>1</td>\n",
              "      <td>2015</td>\n",
              "      <td>7</td>\n",
              "      <td>31</td>\n",
              "      <td>...</td>\n",
              "      <td>0</td>\n",
              "      <td>1270.0</td>\n",
              "      <td>82.0</td>\n",
              "      <td>24187.0</td>\n",
              "      <td>0</td>\n",
              "      <td>0</td>\n",
              "      <td>0</td>\n",
              "      <td>0</td>\n",
              "      <td>0</td>\n",
              "      <td>0</td>\n",
              "    </tr>\n",
              "    <tr>\n",
              "      <th>1</th>\n",
              "      <td>1</td>\n",
              "      <td>4</td>\n",
              "      <td>5020</td>\n",
              "      <td>546</td>\n",
              "      <td>1</td>\n",
              "      <td>1</td>\n",
              "      <td>1</td>\n",
              "      <td>2015</td>\n",
              "      <td>7</td>\n",
              "      <td>30</td>\n",
              "      <td>...</td>\n",
              "      <td>0</td>\n",
              "      <td>1270.0</td>\n",
              "      <td>82.0</td>\n",
              "      <td>24187.0</td>\n",
              "      <td>0</td>\n",
              "      <td>0</td>\n",
              "      <td>0</td>\n",
              "      <td>0</td>\n",
              "      <td>0</td>\n",
              "      <td>0</td>\n",
              "    </tr>\n",
              "    <tr>\n",
              "      <th>2</th>\n",
              "      <td>1</td>\n",
              "      <td>3</td>\n",
              "      <td>4782</td>\n",
              "      <td>523</td>\n",
              "      <td>1</td>\n",
              "      <td>1</td>\n",
              "      <td>1</td>\n",
              "      <td>2015</td>\n",
              "      <td>7</td>\n",
              "      <td>29</td>\n",
              "      <td>...</td>\n",
              "      <td>0</td>\n",
              "      <td>1270.0</td>\n",
              "      <td>82.0</td>\n",
              "      <td>24187.0</td>\n",
              "      <td>0</td>\n",
              "      <td>0</td>\n",
              "      <td>0</td>\n",
              "      <td>0</td>\n",
              "      <td>0</td>\n",
              "      <td>0</td>\n",
              "    </tr>\n",
              "    <tr>\n",
              "      <th>3</th>\n",
              "      <td>1</td>\n",
              "      <td>2</td>\n",
              "      <td>5011</td>\n",
              "      <td>560</td>\n",
              "      <td>1</td>\n",
              "      <td>1</td>\n",
              "      <td>1</td>\n",
              "      <td>2015</td>\n",
              "      <td>7</td>\n",
              "      <td>28</td>\n",
              "      <td>...</td>\n",
              "      <td>0</td>\n",
              "      <td>1270.0</td>\n",
              "      <td>82.0</td>\n",
              "      <td>24187.0</td>\n",
              "      <td>0</td>\n",
              "      <td>0</td>\n",
              "      <td>0</td>\n",
              "      <td>0</td>\n",
              "      <td>0</td>\n",
              "      <td>0</td>\n",
              "    </tr>\n",
              "    <tr>\n",
              "      <th>4</th>\n",
              "      <td>1</td>\n",
              "      <td>1</td>\n",
              "      <td>6102</td>\n",
              "      <td>612</td>\n",
              "      <td>1</td>\n",
              "      <td>1</td>\n",
              "      <td>1</td>\n",
              "      <td>2015</td>\n",
              "      <td>7</td>\n",
              "      <td>27</td>\n",
              "      <td>...</td>\n",
              "      <td>0</td>\n",
              "      <td>1270.0</td>\n",
              "      <td>82.0</td>\n",
              "      <td>24187.0</td>\n",
              "      <td>0</td>\n",
              "      <td>0</td>\n",
              "      <td>0</td>\n",
              "      <td>0</td>\n",
              "      <td>0</td>\n",
              "      <td>0</td>\n",
              "    </tr>\n",
              "  </tbody>\n",
              "</table>\n",
              "<p>5 rows × 23 columns</p>\n",
              "</div>"
            ],
            "text/plain": [
              "   Store  DayOfWeek  Sales  Customers  Open  Promo  SchoolHoliday  Year  \\\n",
              "0      1          5   5263        555     1      1              1  2015   \n",
              "1      1          4   5020        546     1      1              1  2015   \n",
              "2      1          3   4782        523     1      1              1  2015   \n",
              "3      1          2   5011        560     1      1              1  2015   \n",
              "4      1          1   6102        612     1      1              1  2015   \n",
              "\n",
              "   Month  Day  ...  Assortment  CompetitionDistance  CompetitionOpen  \\\n",
              "0      7   31  ...           0               1270.0             82.0   \n",
              "1      7   30  ...           0               1270.0             82.0   \n",
              "2      7   29  ...           0               1270.0             82.0   \n",
              "3      7   28  ...           0               1270.0             82.0   \n",
              "4      7   27  ...           0               1270.0             82.0   \n",
              "\n",
              "   PromoOpen  StateHoliday_a  StateHoliday_b  StateHoliday_c  \\\n",
              "0    24187.0               0               0               0   \n",
              "1    24187.0               0               0               0   \n",
              "2    24187.0               0               0               0   \n",
              "3    24187.0               0               0               0   \n",
              "4    24187.0               0               0               0   \n",
              "\n",
              "   PromoInterval_Feb,May,Aug,Nov  PromoInterval_Jan,Apr,Jul,Oct  \\\n",
              "0                              0                              0   \n",
              "1                              0                              0   \n",
              "2                              0                              0   \n",
              "3                              0                              0   \n",
              "4                              0                              0   \n",
              "\n",
              "   PromoInterval_Mar,Jun,Sept,Dec  \n",
              "0                               0  \n",
              "1                               0  \n",
              "2                               0  \n",
              "3                               0  \n",
              "4                               0  \n",
              "\n",
              "[5 rows x 23 columns]"
            ]
          },
          "execution_count": 164,
          "metadata": {},
          "output_type": "execute_result"
        }
      ],
      "source": [
        "final_df.head()"
      ]
    },
    {
      "cell_type": "code",
      "execution_count": null,
      "metadata": {
        "colab": {
          "base_uri": "https://localhost:8080/"
        },
        "id": "aKgVVTZ-GixK",
        "outputId": "f69ec755-eec6-4b6e-de98-ee1c19c08b21"
      },
      "outputs": [
        {
          "data": {
            "text/plain": [
              "Index(['Store', 'DayOfWeek', 'Sales', 'Customers', 'Open', 'Promo',\n",
              "       'SchoolHoliday', 'Year', 'Month', 'Day', 'Week', 'WeekOfYear',\n",
              "       'StoreType', 'Assortment', 'CompetitionDistance', 'CompetitionOpen',\n",
              "       'PromoOpen', 'StateHoliday_a', 'StateHoliday_b', 'StateHoliday_c',\n",
              "       'PromoInterval_Feb,May,Aug,Nov', 'PromoInterval_Jan,Apr,Jul,Oct',\n",
              "       'PromoInterval_Mar,Jun,Sept,Dec'],\n",
              "      dtype='object')"
            ]
          },
          "execution_count": 165,
          "metadata": {},
          "output_type": "execute_result"
        }
      ],
      "source": [
        "final_df.columns"
      ]
    },
    {
      "cell_type": "markdown",
      "metadata": {
        "id": "E7V2CnIxPnIg"
      },
      "source": [
        "### Here we Know that our Target Variable is `Sales` So will visualize it how it can help us out through."
      ]
    },
    {
      "cell_type": "code",
      "execution_count": null,
      "metadata": {
        "colab": {
          "base_uri": "https://localhost:8080/",
          "height": 513
        },
        "id": "grDtqNnJxbC5",
        "outputId": "bc9a72ad-3692-411d-a174-cd6be1caa77e"
      },
      "outputs": [
        {
          "data": {
            "image/png": "[encoded data removed]",
            "text/plain": [
              "<Figure size 1080x576 with 1 Axes>"
            ]
          },
          "metadata": {
            "needs_background": "light"
          },
          "output_type": "display_data"
        }
      ],
      "source": [
        "#anlysis of data by vizualisation\n",
        "fig,ax=plt.subplots(figsize=(15,8))\n",
        "sns.barplot(data=final_df,x='Month',y='Sales',ax=ax,capsize=.2)\n",
        "ax.set(title='Sales according to Month ')\n",
        "plt.show()"
      ]
    },
    {
      "cell_type": "markdown",
      "metadata": {
        "id": "rll2sw_cVM6j"
      },
      "source": [
        "###In the above chart The sales in the month of December is high beacuse of winter holidays and Christmas festival and also new year so. Lots of stores start many offers on some products so people will more buy discounted items."
      ]
    },
    {
      "cell_type": "markdown",
      "metadata": {
        "id": "eOTzsdGTGXjj"
      },
      "source": [
        "## Sales over week"
      ]
    },
    {
      "cell_type": "code",
      "execution_count": null,
      "metadata": {
        "colab": {
          "base_uri": "https://localhost:8080/",
          "height": 530
        },
        "id": "t17C-QPBGWOs",
        "outputId": "1cdd7fca-9b5f-48f2-dbea-4d0dd6c6c63e"
      },
      "outputs": [
        {
          "data": {
            "text/plain": [
              "Text(0.5, 1.0, 'Sales Over Weeks')"
            ]
          },
          "execution_count": 167,
          "metadata": {},
          "output_type": "execute_result"
        },
        {
          "data": {
            "image/png": "[encoded data removed]",
            "text/plain": [
              "<Figure size 1080x576 with 1 Axes>"
            ]
          },
          "metadata": {
            "needs_background": "light"
          },
          "output_type": "display_data"
        }
      ],
      "source": [
        "plt.figure(figsize=(15,8))\n",
        "sns.barplot(x=final_df['WeekOfYear'],y=final_df['Sales'],data=final_df)\n",
        "plt.xlabel('Week Of Year')\n",
        "plt.ylabel('Total Sales')\n",
        "plt.title('Sales Over Weeks')"
      ]
    },
    {
      "cell_type": "markdown",
      "metadata": {
        "id": "K384wCsOLxJp"
      },
      "source": [
        "Here we can see that in every year there week of 45 to 52 having with highest Sales. Because at the end of the year sales always gets High."
      ]
    },
    {
      "cell_type": "markdown",
      "metadata": {
        "id": "nVlFX-8742N3"
      },
      "source": [
        "## Sales Distribution"
      ]
    },
    {
      "cell_type": "code",
      "execution_count": null,
      "metadata": {
        "id": "iZALdzxO9TUc"
      },
      "outputs": [],
      "source": [
        "\n",
        "# remove this part of data to avoid bias\n",
        "final_df = final_df[final_df.Sales != 0]"
      ]
    },
    {
      "cell_type": "code",
      "execution_count": null,
      "metadata": {
        "colab": {
          "base_uri": "https://localhost:8080/"
        },
        "id": "_JJbd64P7ho1",
        "outputId": "09f790f3-f70f-490c-dc92-e77ed6d8b105"
      },
      "outputs": [
        {
          "data": {
            "text/plain": [
              "{'Mean': 6955.959133664481, 'Median': 6369.0}"
            ]
          },
          "execution_count": 169,
          "metadata": {},
          "output_type": "execute_result"
        }
      ],
      "source": [
        "{\"Mean\":np.mean(final_df.Sales),\"Median\":np.median(final_df.Sales)}\n"
      ]
    },
    {
      "cell_type": "code",
      "execution_count": null,
      "metadata": {
        "colab": {
          "base_uri": "https://localhost:8080/",
          "height": 530
        },
        "id": "AAgYg0g3SHbh",
        "outputId": "bae5f280-8835-431b-a6ef-b64ee5ef59c9"
      },
      "outputs": [
        {
          "data": {
            "text/plain": [
              "Text(0.5, 1.0, 'Sales Distribution')"
            ]
          },
          "execution_count": 170,
          "metadata": {},
          "output_type": "execute_result"
        },
        {
          "data": {
            "image/png": "[encoded data removed]",
            "text/plain": [
              "<Figure size 1080x576 with 1 Axes>"
            ]
          },
          "metadata": {
            "needs_background": "light"
          },
          "output_type": "display_data"
        }
      ],
      "source": [
        "\n",
        "plt.figure(figsize=(15,8))\n",
        "plt.hist(x=final_df.Sales, bins=30,color = \"green\",rwidth=0.7)\n",
        "plt.ylabel('number of observations')\n",
        "plt.xlabel('daily sales in $')\n",
        "plt.title('Sales Distribution')"
      ]
    },
    {
      "cell_type": "markdown",
      "metadata": {
        "id": "jJyjnW0g2cPB"
      },
      "source": [
        "###*The amount in $ on daily basis based on sales and no of observations made*"
      ]
    },
    {
      "cell_type": "markdown",
      "metadata": {
        "id": "PtzqS9PQ5C6p"
      },
      "source": [
        "## Customer Distribution"
      ]
    },
    {
      "cell_type": "code",
      "execution_count": null,
      "metadata": {
        "colab": {
          "base_uri": "https://localhost:8080/"
        },
        "id": "TO6WlkHI7TgG",
        "outputId": "9418e3db-e34c-41c6-8fac-e736b2bfc19f"
      },
      "outputs": [
        {
          "data": {
            "text/plain": [
              "2013    337924\n",
              "2014    310385\n",
              "2015    196029\n",
              "Name: Year, dtype: int64"
            ]
          },
          "execution_count": 171,
          "metadata": {},
          "output_type": "execute_result"
        }
      ],
      "source": [
        "final_df['Year'].value_counts()"
      ]
    },
    {
      "cell_type": "code",
      "execution_count": null,
      "metadata": {
        "colab": {
          "base_uri": "https://localhost:8080/"
        },
        "id": "thJMT-rT5HS7",
        "outputId": "b29dcd79-cb3b-4893-9d2b-f556a331f98c"
      },
      "outputs": [
        {
          "data": {
            "text/plain": [
              "{'Mean': 762.777166253325, 'Median': 676.0}"
            ]
          },
          "execution_count": 172,
          "metadata": {},
          "output_type": "execute_result"
        }
      ],
      "source": [
        "{\"Mean\":np.mean(final_df.Customers),\"Median\":np.median(final_df.Customers)}"
      ]
    },
    {
      "cell_type": "code",
      "execution_count": null,
      "metadata": {
        "colab": {
          "base_uri": "https://localhost:8080/",
          "height": 530
        },
        "id": "MrlGU9v75NMU",
        "outputId": "55deab0b-0bfc-45b5-d2d8-37bc76888f5d"
      },
      "outputs": [
        {
          "data": {
            "text/plain": [
              "Text(0.5, 1.0, 'Customer Distribution')"
            ]
          },
          "execution_count": 173,
          "metadata": {},
          "output_type": "execute_result"
        },
        {
          "data": {
            "image/png": "[encoded data removed]",
            "text/plain": [
              "<Figure size 1080x576 with 1 Axes>"
            ]
          },
          "metadata": {
            "needs_background": "light"
          },
          "output_type": "display_data"
        }
      ],
      "source": [
        "\n",
        "plt.figure(figsize=(15,8))\n",
        "\n",
        "plt.hist(x=final_df.Customers , bins=20,color = \"dodgerblue\", rwidth=0.9)\n",
        "\n",
        "plt.ylabel('number of observations')\n",
        "\n",
        "plt.xlabel('daily total number of customers')\n",
        "\n",
        "plt.title('Customer Distribution')\n"
      ]
    },
    {
      "cell_type": "markdown",
      "metadata": {
        "id": "jtOFUHkBAvlO"
      },
      "source": [
        "## Sales over a Years"
      ]
    },
    {
      "cell_type": "code",
      "execution_count": null,
      "metadata": {
        "colab": {
          "base_uri": "https://localhost:8080/",
          "height": 514
        },
        "id": "Y-5wp9AbHc2O",
        "outputId": "844a3d38-ec4e-4a5a-a0bf-1119e3d36ee2"
      },
      "outputs": [
        {
          "data": {
            "text/plain": [
              "<AxesSubplot:xlabel='Year', ylabel='count'>"
            ]
          },
          "execution_count": 174,
          "metadata": {},
          "output_type": "execute_result"
        },
        {
          "data": {
            "image/png": "[encoded data removed]",
            "text/plain": [
              "<Figure size 1080x576 with 1 Axes>"
            ]
          },
          "metadata": {
            "needs_background": "light"
          },
          "output_type": "display_data"
        }
      ],
      "source": [
        "#anlysis of data by vizualisation\n",
        "fig,ax=plt.subplots(figsize=(15,8))\n",
        "\n",
        "sns.countplot(final_df['Year'], ax =ax)"
      ]
    },
    {
      "cell_type": "markdown",
      "metadata": {
        "id": "4MKG6zcNK004"
      },
      "source": [
        "###In this chart of sales according to years shows that in `2013` have the highest sales through out the year but in `2015` there is slightly low sales. "
      ]
    },
    {
      "cell_type": "markdown",
      "metadata": {
        "id": "Df9I-I8IMjJR"
      },
      "source": [
        "## Sales by store type"
      ]
    },
    {
      "cell_type": "code",
      "execution_count": null,
      "metadata": {
        "colab": {
          "base_uri": "https://localhost:8080/",
          "height": 530
        },
        "id": "LRG23CIRA6lS",
        "outputId": "1df27a04-7dec-4df0-e69f-2efb5c3233de"
      },
      "outputs": [
        {
          "data": {
            "text/plain": [
              "Text(0.5, 1.0, 'Sales By Store Type')"
            ]
          },
          "execution_count": 175,
          "metadata": {},
          "output_type": "execute_result"
        },
        {
          "data": {
            "image/png": "[encoded data removed]",
            "text/plain": [
              "<Figure size 1080x576 with 1 Axes>"
            ]
          },
          "metadata": {
            "needs_background": "light"
          },
          "output_type": "display_data"
        }
      ],
      "source": [
        "# StoreType - differentiates between 4 different store models: a, b, c, d\n",
        "plt.figure(figsize=(15,8))\n",
        "sns.boxplot(x=final_df.StoreType, y=final_df.Sales, data=final_df)\n",
        "plt.ylabel('Total Sales')\n",
        "plt.title('Sales By Store Type')\n"
      ]
    },
    {
      "cell_type": "markdown",
      "metadata": {
        "id": "VJSWaGtRNOQI"
      },
      "source": [
        "###In the above chart The sales in the store type 1 have higher sales as compare to other store catagory. the rest of store having almost same sales."
      ]
    },
    {
      "cell_type": "code",
      "execution_count": null,
      "metadata": {
        "colab": {
          "base_uri": "https://localhost:8080/",
          "height": 350
        },
        "id": "o_sKhPGBN32Q",
        "outputId": "b971f239-48d6-4755-8656-aa1d3f7ede36"
      },
      "outputs": [
        {
          "data": {
            "image/png": "[encoded data removed]",
            "text/plain": [
              "<Figure size 1080x360 with 1 Axes>"
            ]
          },
          "metadata": {
            "needs_background": "light"
          },
          "output_type": "display_data"
        }
      ],
      "source": [
        "#anlysis of data by vizualisation\n",
        "fig,ax=plt.subplots(figsize=(15,5))\n",
        "sns.barplot(data=final_df,x='Assortment',y='Sales',ax=ax,capsize=.2)\n",
        "ax.set(title='Sales according to Assortment ')\n",
        "plt.show()"
      ]
    },
    {
      "cell_type": "code",
      "execution_count": null,
      "metadata": {
        "colab": {
          "base_uri": "https://localhost:8080/",
          "height": 386
        },
        "id": "HOBHHBb7OkGA",
        "outputId": "9d6fd478-aa35-4f3a-d2e2-fe2e49441462"
      },
      "outputs": [
        {
          "data": {
            "text/plain": [
              "<seaborn.axisgrid.FacetGrid at 0x261fdbfa820>"
            ]
          },
          "execution_count": 177,
          "metadata": {},
          "output_type": "execute_result"
        },
        {
          "data": {
            "image/png": "[encoded data removed]",
            "text/plain": [
              "<Figure size 1136.88x360 with 3 Axes>"
            ]
          },
          "metadata": {
            "needs_background": "light"
          },
          "output_type": "display_data"
        }
      ],
      "source": [
        "sns.factorplot(data = final_df, x = 'Month', y = \"Sales\", \n",
        "               col = 'Assortment',\n",
        "               palette = 'plasma',\n",
        "               hue = 'StoreType')"
      ]
    },
    {
      "cell_type": "markdown",
      "metadata": {
        "id": "6VchhmDdOwlM"
      },
      "source": [
        "### In the above chart The sales in which product assortment type 1 have higher sales as compare to other assortment catagory. the rest of assortment having almost same sales."
      ]
    },
    {
      "cell_type": "markdown",
      "metadata": {
        "id": "4duLydpaW3E1"
      },
      "source": [
        "## Sales Over SchoolHoliday"
      ]
    },
    {
      "cell_type": "code",
      "execution_count": null,
      "metadata": {
        "colab": {
          "base_uri": "https://localhost:8080/",
          "height": 482
        },
        "id": "5JfVEdBWBAXR",
        "outputId": "5dfd95b0-676a-4c05-f6c1-40c1bc855f1a"
      },
      "outputs": [
        {
          "data": {
            "image/png": "[encoded data removed]",
            "text/plain": [
              "<Figure size 576x576 with 1 Axes>"
            ]
          },
          "metadata": {},
          "output_type": "display_data"
        }
      ],
      "source": [
        "labels = 'Not-Affected' , 'Affected'\n",
        "sizes = final_df.SchoolHoliday.value_counts()\n",
        "colors = ['gold', 'silver']\n",
        "explode = (0.1, 0.0)\n",
        "plt.pie(sizes, explode=explode, labels=labels, colors=colors,\n",
        "        autopct='%1.1f%%', shadow=True, startangle=180)\n",
        "plt.axis('equal')\n",
        "plt.title(\"Sales Affected by Schoolholiday or Not ?\")\n",
        "plt.plot()\n",
        "fig=plt.gcf()\n",
        "fig.set_size_inches(8,8)\n",
        "plt.show()"
      ]
    },
    {
      "cell_type": "markdown",
      "metadata": {
        "id": "BJT15bz0Xb46"
      },
      "source": [
        "## Sale of Store over the Weekends"
      ]
    },
    {
      "cell_type": "code",
      "execution_count": null,
      "metadata": {
        "colab": {
          "base_uri": "https://localhost:8080/",
          "height": 470
        },
        "id": "3ULjk-0AXArj",
        "outputId": "e128e1a6-bd7e-4d40-9634-078e6146cb6b"
      },
      "outputs": [
        {
          "data": {
            "text/plain": [
              "<AxesSubplot:>"
            ]
          },
          "execution_count": 179,
          "metadata": {},
          "output_type": "execute_result"
        },
        {
          "data": {
            "image/png": "[encoded data removed]",
            "text/plain": [
              "<Figure size 1440x504 with 4 Axes>"
            ]
          },
          "metadata": {
            "needs_background": "light"
          },
          "output_type": "display_data"
        }
      ],
      "source": [
        "plt.figure(figsize=(20,7))\n",
        "aux1 = final_df[['DayOfWeek','Sales']].groupby('DayOfWeek').sum().reset_index()\n",
        "\n",
        "plt.subplot(1,3,1)\n",
        "sns.barplot(x = 'DayOfWeek',y = 'Sales', data = aux1)\n",
        "\n",
        "plt.subplot(1,3,2)\n",
        "sns.regplot(x = 'DayOfWeek',y = 'Sales', data = aux1)\n",
        "\n",
        "plt.subplot(1,3,3)\n",
        "sns.heatmap(aux1.corr(method = 'pearson'), annot = True)"
      ]
    },
    {
      "cell_type": "markdown",
      "metadata": {
        "id": "lWTIq1zrXtGk"
      },
      "source": [
        "### Here We can See that `Stores` sell less on weekends."
      ]
    },
    {
      "cell_type": "markdown",
      "metadata": {
        "id": "J-0p1pJFYq9K"
      },
      "source": [
        "##As we can see that our target variable '`Sales`' look like normal distribution. "
      ]
    },
    {
      "cell_type": "markdown",
      "metadata": {
        "id": "RwBKMyL_Yw95"
      },
      "source": [
        "###*Now check the distribution of our each features*"
      ]
    },
    {
      "cell_type": "code",
      "execution_count": null,
      "metadata": {
        "id": "M2nheTAGXls9"
      },
      "outputs": [],
      "source": [
        "\n",
        "numeric_feature = ['Sales', 'Customers', 'CompetitionDistance','CompetitionOpen', 'PromoOpen','SchoolHoliday','StoreType','Assortment','Year']"
      ]
    },
    {
      "cell_type": "code",
      "execution_count": null,
      "metadata": {
        "colab": {
          "base_uri": "https://localhost:8080/",
          "height": 1000
        },
        "id": "hFE-iIRnZdTu",
        "outputId": "7ff13b82-8e2d-4d23-e42b-5d66b627aa1c"
      },
      "outputs": [
        {
          "data": {
            "image/png": "[encoded data removed]",
            "text/plain": [
              "<Figure size 648x432 with 1 Axes>"
            ]
          },
          "metadata": {
            "needs_background": "light"
          },
          "output_type": "display_data"
        },
        {
          "data": {
            "image/png": "[encoded data removed]",
            "text/plain": [
              "<Figure size 648x432 with 1 Axes>"
            ]
          },
          "metadata": {
            "needs_background": "light"
          },
          "output_type": "display_data"
        },
        {
          "data": {
            "image/png": "[encoded data removed]",
            "text/plain": [
              "<Figure size 648x432 with 1 Axes>"
            ]
          },
          "metadata": {
            "needs_background": "light"
          },
          "output_type": "display_data"
        },
        {
          "data": {
            "image/png": "[encoded data removed]",
            "text/plain": [
              "<Figure size 648x432 with 1 Axes>"
            ]
          },
          "metadata": {
            "needs_background": "light"
          },
          "output_type": "display_data"
        },
        {
          "data": {
            "image/png": "[encoded data removed]",
            "text/plain": [
              "<Figure size 648x432 with 1 Axes>"
            ]
          },
          "metadata": {
            "needs_background": "light"
          },
          "output_type": "display_data"
        },
        {
          "data": {
            "image/png": "[encoded data removed]",
            "text/plain": [
              "<Figure size 648x432 with 1 Axes>"
            ]
          },
          "metadata": {
            "needs_background": "light"
          },
          "output_type": "display_data"
        },
        {
          "data": {
            "image/png": "[encoded data removed]",
            "text/plain": [
              "<Figure size 648x432 with 1 Axes>"
            ]
          },
          "metadata": {
            "needs_background": "light"
          },
          "output_type": "display_data"
        },
        {
          "data": {
            "image/png": "[encoded data removed]",
            "text/plain": [
              "<Figure size 648x432 with 1 Axes>"
            ]
          },
          "metadata": {
            "needs_background": "light"
          },
          "output_type": "display_data"
        },
        {
          "data": {
            "image/png": "[encoded data removed]",
            "text/plain": [
              "<Figure size 648x432 with 1 Axes>"
            ]
          },
          "metadata": {
            "needs_background": "light"
          },
          "output_type": "display_data"
        }
      ],
      "source": [
        "for col in numeric_feature:\n",
        "  fig = plt.figure(figsize=(9, 6))\n",
        "  ax = fig.gca()\n",
        "  final_df[col].hist(bins=50, ax = ax, color = 'skyblue')\n",
        "  ax.axvline(final_df[col].mean(), color = 'black',linestyle='dashed', linewidth=2)\n",
        "  ax.axvline(final_df[col].median(), color = 'red',linestyle='dashed', linewidth=2)\n",
        "  ax.set_title(col)"
      ]
    },
    {
      "cell_type": "markdown",
      "metadata": {
        "id": "Xyi8SZvucNZu"
      },
      "source": [
        "###In the above charts we see that many features has catogorical value so its more look like skewed chart and rest of the feature also not normaly distributed. So by using log1p transformation we are able to make our distribution more closer to look like normal distribution.\n"
      ]
    },
    {
      "cell_type": "code",
      "execution_count": null,
      "metadata": {
        "id": "qUPW6A4_bOGN"
      },
      "outputs": [],
      "source": [
        "final_df['Sales_sqrt'] = final_df['Sales'].map(lambda x : np.sqrt(x) if x != 0 else 0)\n",
        "\n",
        "final_df['Customer_ln'] = final_df['Customers'].map(lambda x : np.log(x) if x != 0 else 0)\n",
        "\n",
        "final_df['CompetitionDistance_ln'] = final_df['CompetitionDistance'].map(lambda x : np.log(x) if x != 0 else 0)\n",
        "\n",
        "final_df['CompetitionOpen_ln'] = final_df['CompetitionOpen'].map(lambda x : np.log(x) if x != 0 else 0)\n",
        "\n",
        "final_df['PromoOpen_ln'] = final_df['PromoOpen'].map(lambda x : np.log(x) if x != 0 else 0)\n",
        "\n",
        "final_df['SchoolHoliday_ln'] = final_df['SchoolHoliday'].map(lambda x : np.log(x) if x != 0 else 0)\n",
        "\n",
        "final_df['StoreType_ln'] = final_df['StoreType'].map(lambda x : np.log(x) if x != 0 else 0)\n",
        "\n",
        "final_df['Assortment_ln'] = final_df['Assortment'].map(lambda x : np.log(x) if x != 0 else 0)\n",
        "\n",
        "final_df['Year_ln'] = final_df['Year'].map(lambda x : np.log(x) if x != 0 else 0)\n"
      ]
    },
    {
      "cell_type": "code",
      "execution_count": null,
      "metadata": {
        "id": "T4_WFqWveTY4"
      },
      "outputs": [],
      "source": [
        "numeric_feature_ln = ['Sales_sqrt', 'Customer_ln', 'CompetitionDistance_ln','CompetitionOpen_ln', 'PromoOpen_ln','SchoolHoliday_ln','StoreType_ln','Assortment_ln','Year_ln']"
      ]
    },
    {
      "cell_type": "code",
      "execution_count": null,
      "metadata": {
        "colab": {
          "base_uri": "https://localhost:8080/",
          "height": 1000
        },
        "id": "itmfu-GcejJi",
        "outputId": "30eb9b8f-bdec-41a3-baae-e93f318a9769"
      },
      "outputs": [
        {
          "data": {
            "image/png": "[encoded data removed]",
            "text/plain": [
              "<Figure size 648x432 with 1 Axes>"
            ]
          },
          "metadata": {
            "needs_background": "light"
          },
          "output_type": "display_data"
        },
        {
          "data": {
            "image/png": "[encoded data removed]",
            "text/plain": [
              "<Figure size 648x432 with 1 Axes>"
            ]
          },
          "metadata": {
            "needs_background": "light"
          },
          "output_type": "display_data"
        },
        {
          "data": {
            "image/png": "[encoded data removed]",
            "text/plain": [
              "<Figure size 648x432 with 1 Axes>"
            ]
          },
          "metadata": {
            "needs_background": "light"
          },
          "output_type": "display_data"
        },
        {
          "data": {
            "image/png": "[encoded data removed]",
            "text/plain": [
              "<Figure size 648x432 with 1 Axes>"
            ]
          },
          "metadata": {
            "needs_background": "light"
          },
          "output_type": "display_data"
        },
        {
          "data": {
            "image/png": "[encoded data removed]",
            "text/plain": [
              "<Figure size 648x432 with 1 Axes>"
            ]
          },
          "metadata": {
            "needs_background": "light"
          },
          "output_type": "display_data"
        },
        {
          "data": {
            "image/png": "[encoded data removed]",
            "text/plain": [
              "<Figure size 648x432 with 1 Axes>"
            ]
          },
          "metadata": {
            "needs_background": "light"
          },
          "output_type": "display_data"
        },
        {
          "data": {
            "image/png": "[encoded data removed]",
            "text/plain": [
              "<Figure size 648x432 with 1 Axes>"
            ]
          },
          "metadata": {
            "needs_background": "light"
          },
          "output_type": "display_data"
        },
        {
          "data": {
            "image/png": "[encoded data removed]",
            "text/plain": [
              "<Figure size 648x432 with 1 Axes>"
            ]
          },
          "metadata": {
            "needs_background": "light"
          },
          "output_type": "display_data"
        },
        {
          "data": {
            "image/png": "[encoded data removed]",
            "text/plain": [
              "<Figure size 648x432 with 1 Axes>"
            ]
          },
          "metadata": {
            "needs_background": "light"
          },
          "output_type": "display_data"
        }
      ],
      "source": [
        "for col in numeric_feature_ln:\n",
        "  fig = plt.figure(figsize=(9, 6))\n",
        "  ax = fig.gca()\n",
        "  final_df[col].hist(bins=50, ax = ax)\n",
        "  ax.axvline(final_df[col].mean(), color = 'black',linestyle='dashed', linewidth=2)\n",
        "  ax.axvline(final_df[col].median(), color = 'red',linestyle='dashed', linewidth=2)\n",
        "  ax.set_title(col)"
      ]
    },
    {
      "cell_type": "markdown",
      "metadata": {
        "id": "_OzUIA3Xjp42"
      },
      "source": [
        "###now we can see that some of our features like `CompititionDistance` now more look like normal distribution. rest of our feature still not normaly distributed some of feature has multi mode. beacuse of some features have catagorical values like 1,0."
      ]
    },
    {
      "cell_type": "code",
      "execution_count": null,
      "metadata": {
        "colab": {
          "base_uri": "https://localhost:8080/",
          "height": 299
        },
        "id": "VTuhYm_TlyZ_",
        "outputId": "37365827-c976-4987-8335-ab57b812e20c"
      },
      "outputs": [
        {
          "data": {
            "text/html": [
              "<div>\n",
              "<style scoped>\n",
              "    .dataframe tbody tr th:only-of-type {\n",
              "        vertical-align: middle;\n",
              "    }\n",
              "\n",
              "    .dataframe tbody tr th {\n",
              "        vertical-align: top;\n",
              "    }\n",
              "\n",
              "    .dataframe thead th {\n",
              "        text-align: right;\n",
              "    }\n",
              "</style>\n",
              "<table border=\"1\" class=\"dataframe\">\n",
              "  <thead>\n",
              "    <tr style=\"text-align: right;\">\n",
              "      <th></th>\n",
              "      <th>Store</th>\n",
              "      <th>DayOfWeek</th>\n",
              "      <th>Sales</th>\n",
              "      <th>Customers</th>\n",
              "      <th>Open</th>\n",
              "      <th>Promo</th>\n",
              "      <th>SchoolHoliday</th>\n",
              "      <th>Year</th>\n",
              "      <th>Month</th>\n",
              "      <th>Day</th>\n",
              "      <th>...</th>\n",
              "      <th>PromoInterval_Mar,Jun,Sept,Dec</th>\n",
              "      <th>Sales_sqrt</th>\n",
              "      <th>Customer_ln</th>\n",
              "      <th>CompetitionDistance_ln</th>\n",
              "      <th>CompetitionOpen_ln</th>\n",
              "      <th>PromoOpen_ln</th>\n",
              "      <th>SchoolHoliday_ln</th>\n",
              "      <th>StoreType_ln</th>\n",
              "      <th>Assortment_ln</th>\n",
              "      <th>Year_ln</th>\n",
              "    </tr>\n",
              "  </thead>\n",
              "  <tbody>\n",
              "    <tr>\n",
              "      <th>0</th>\n",
              "      <td>1</td>\n",
              "      <td>5</td>\n",
              "      <td>5263</td>\n",
              "      <td>555</td>\n",
              "      <td>1</td>\n",
              "      <td>1</td>\n",
              "      <td>1</td>\n",
              "      <td>2015</td>\n",
              "      <td>7</td>\n",
              "      <td>31</td>\n",
              "      <td>...</td>\n",
              "      <td>0</td>\n",
              "      <td>72.546537</td>\n",
              "      <td>6.318968</td>\n",
              "      <td>7.146772</td>\n",
              "      <td>4.406719</td>\n",
              "      <td>10.093571</td>\n",
              "      <td>0.0</td>\n",
              "      <td>0.693147</td>\n",
              "      <td>0.0</td>\n",
              "      <td>7.608374</td>\n",
              "    </tr>\n",
              "    <tr>\n",
              "      <th>1</th>\n",
              "      <td>1</td>\n",
              "      <td>4</td>\n",
              "      <td>5020</td>\n",
              "      <td>546</td>\n",
              "      <td>1</td>\n",
              "      <td>1</td>\n",
              "      <td>1</td>\n",
              "      <td>2015</td>\n",
              "      <td>7</td>\n",
              "      <td>30</td>\n",
              "      <td>...</td>\n",
              "      <td>0</td>\n",
              "      <td>70.851958</td>\n",
              "      <td>6.302619</td>\n",
              "      <td>7.146772</td>\n",
              "      <td>4.406719</td>\n",
              "      <td>10.093571</td>\n",
              "      <td>0.0</td>\n",
              "      <td>0.693147</td>\n",
              "      <td>0.0</td>\n",
              "      <td>7.608374</td>\n",
              "    </tr>\n",
              "    <tr>\n",
              "      <th>2</th>\n",
              "      <td>1</td>\n",
              "      <td>3</td>\n",
              "      <td>4782</td>\n",
              "      <td>523</td>\n",
              "      <td>1</td>\n",
              "      <td>1</td>\n",
              "      <td>1</td>\n",
              "      <td>2015</td>\n",
              "      <td>7</td>\n",
              "      <td>29</td>\n",
              "      <td>...</td>\n",
              "      <td>0</td>\n",
              "      <td>69.152006</td>\n",
              "      <td>6.259581</td>\n",
              "      <td>7.146772</td>\n",
              "      <td>4.406719</td>\n",
              "      <td>10.093571</td>\n",
              "      <td>0.0</td>\n",
              "      <td>0.693147</td>\n",
              "      <td>0.0</td>\n",
              "      <td>7.608374</td>\n",
              "    </tr>\n",
              "    <tr>\n",
              "      <th>3</th>\n",
              "      <td>1</td>\n",
              "      <td>2</td>\n",
              "      <td>5011</td>\n",
              "      <td>560</td>\n",
              "      <td>1</td>\n",
              "      <td>1</td>\n",
              "      <td>1</td>\n",
              "      <td>2015</td>\n",
              "      <td>7</td>\n",
              "      <td>28</td>\n",
              "      <td>...</td>\n",
              "      <td>0</td>\n",
              "      <td>70.788417</td>\n",
              "      <td>6.327937</td>\n",
              "      <td>7.146772</td>\n",
              "      <td>4.406719</td>\n",
              "      <td>10.093571</td>\n",
              "      <td>0.0</td>\n",
              "      <td>0.693147</td>\n",
              "      <td>0.0</td>\n",
              "      <td>7.608374</td>\n",
              "    </tr>\n",
              "    <tr>\n",
              "      <th>4</th>\n",
              "      <td>1</td>\n",
              "      <td>1</td>\n",
              "      <td>6102</td>\n",
              "      <td>612</td>\n",
              "      <td>1</td>\n",
              "      <td>1</td>\n",
              "      <td>1</td>\n",
              "      <td>2015</td>\n",
              "      <td>7</td>\n",
              "      <td>27</td>\n",
              "      <td>...</td>\n",
              "      <td>0</td>\n",
              "      <td>78.115299</td>\n",
              "      <td>6.416732</td>\n",
              "      <td>7.146772</td>\n",
              "      <td>4.406719</td>\n",
              "      <td>10.093571</td>\n",
              "      <td>0.0</td>\n",
              "      <td>0.693147</td>\n",
              "      <td>0.0</td>\n",
              "      <td>7.608374</td>\n",
              "    </tr>\n",
              "  </tbody>\n",
              "</table>\n",
              "<p>5 rows × 32 columns</p>\n",
              "</div>"
            ],
            "text/plain": [
              "   Store  DayOfWeek  Sales  Customers  Open  Promo  SchoolHoliday  Year  \\\n",
              "0      1          5   5263        555     1      1              1  2015   \n",
              "1      1          4   5020        546     1      1              1  2015   \n",
              "2      1          3   4782        523     1      1              1  2015   \n",
              "3      1          2   5011        560     1      1              1  2015   \n",
              "4      1          1   6102        612     1      1              1  2015   \n",
              "\n",
              "   Month  Day  ...  PromoInterval_Mar,Jun,Sept,Dec  Sales_sqrt  Customer_ln  \\\n",
              "0      7   31  ...                               0   72.546537     6.318968   \n",
              "1      7   30  ...                               0   70.851958     6.302619   \n",
              "2      7   29  ...                               0   69.152006     6.259581   \n",
              "3      7   28  ...                               0   70.788417     6.327937   \n",
              "4      7   27  ...                               0   78.115299     6.416732   \n",
              "\n",
              "   CompetitionDistance_ln  CompetitionOpen_ln  PromoOpen_ln  SchoolHoliday_ln  \\\n",
              "0                7.146772            4.406719     10.093571               0.0   \n",
              "1                7.146772            4.406719     10.093571               0.0   \n",
              "2                7.146772            4.406719     10.093571               0.0   \n",
              "3                7.146772            4.406719     10.093571               0.0   \n",
              "4                7.146772            4.406719     10.093571               0.0   \n",
              "\n",
              "   StoreType_ln  Assortment_ln   Year_ln  \n",
              "0      0.693147            0.0  7.608374  \n",
              "1      0.693147            0.0  7.608374  \n",
              "2      0.693147            0.0  7.608374  \n",
              "3      0.693147            0.0  7.608374  \n",
              "4      0.693147            0.0  7.608374  \n",
              "\n",
              "[5 rows x 32 columns]"
            ]
          },
          "execution_count": 185,
          "metadata": {},
          "output_type": "execute_result"
        }
      ],
      "source": [
        "corr_df = final_df.copy()\n",
        "corr_df.head()"
      ]
    },
    {
      "cell_type": "code",
      "execution_count": null,
      "metadata": {
        "colab": {
          "base_uri": "https://localhost:8080/"
        },
        "id": "-2RZXnOxmO5p",
        "outputId": "35129912-a884-4cc2-9998-01d5d1bfbc63"
      },
      "outputs": [
        {
          "data": {
            "text/plain": [
              "Index(['Store', 'DayOfWeek', 'Sales', 'Customers', 'Open', 'Promo',\n",
              "       'SchoolHoliday', 'Year', 'Month', 'Day', 'Week', 'WeekOfYear',\n",
              "       'StoreType', 'Assortment', 'CompetitionDistance', 'CompetitionOpen',\n",
              "       'PromoOpen', 'StateHoliday_a', 'StateHoliday_b', 'StateHoliday_c',\n",
              "       'PromoInterval_Feb,May,Aug,Nov', 'PromoInterval_Jan,Apr,Jul,Oct',\n",
              "       'PromoInterval_Mar,Jun,Sept,Dec', 'Sales_sqrt', 'Customer_ln',\n",
              "       'CompetitionDistance_ln', 'CompetitionOpen_ln', 'PromoOpen_ln',\n",
              "       'SchoolHoliday_ln', 'StoreType_ln', 'Assortment_ln', 'Year_ln'],\n",
              "      dtype='object')"
            ]
          },
          "execution_count": 186,
          "metadata": {},
          "output_type": "execute_result"
        }
      ],
      "source": [
        "corr_df.columns"
      ]
    },
    {
      "cell_type": "code",
      "execution_count": null,
      "metadata": {
        "id": "2aOrn2ifmGn9"
      },
      "outputs": [],
      "source": [
        "corr_df.drop(['PromoInterval_Feb,May,Aug,Nov', 'PromoInterval_Jan,Apr,Jul,Oct',\n",
        "       'PromoInterval_Mar,Jun,Sept,Dec', 'Sales_sqrt', 'Customer_ln',\n",
        "       'CompetitionDistance_ln', 'CompetitionOpen_ln', 'PromoOpen_ln',\n",
        "       'SchoolHoliday_ln', 'StoreType_ln', 'Assortment_ln', 'Year_ln','Open'], axis = 1, inplace = True)"
      ]
    },
    {
      "cell_type": "markdown",
      "source": [
        "## Checking Multicollinearity"
      ],
      "metadata": {
        "id": "j3e5fOGoUjk9"
      }
    },
    {
      "cell_type": "code",
      "execution_count": null,
      "metadata": {
        "colab": {
          "base_uri": "https://localhost:8080/",
          "height": 799
        },
        "id": "pUB0qr14fxv9",
        "outputId": "044395a5-4b89-4b14-cd90-6c7349dd1e5e"
      },
      "outputs": [
        {
          "data": {
            "image/png": "[encoded data removed]",
            "text/plain": [
              "<Figure size 1440x864 with 2 Axes>"
            ]
          },
          "metadata": {
            "needs_background": "light"
          },
          "output_type": "display_data"
        }
      ],
      "source": [
        "## Correlation heatmap\n",
        "plt.figure(figsize=(20,12))\n",
        "correlation = corr_df.corr()\n",
        "sns.heatmap(abs(correlation), annot=True, cmap='YlOrBr')\n",
        "plt.show()"
      ]
    },
    {
      "cell_type": "markdown",
      "source": [
        "**We didn't find any strong correlation between independant variables but we found some correlation with our dependent feature which is a good sign for our model.**\n"
      ],
      "metadata": {
        "id": "cQzcP3gCrUK4"
      }
    },
    {
      "cell_type": "markdown",
      "source": [
        "## Key Findings From EDA\n",
        "\n",
        "\n",
        "---\n",
        "\n",
        "\n",
        "* Store Model 'a'have the maximum number of sales and store counts followed by 'd' while Store Model 'b' have the least number of sales and store counts.\n",
        "\n",
        "* Store model 'b' have least number of store counts and sales still performs quite well on average sales and customers compared to other store models.\n",
        "\n",
        "* Basic Assortment level have the maximum number of sales and store counts followed by Extended level while Extra Assortment have the least number of sales and store counts\n",
        "\n",
        "* Assortment level 'b' with least store counts and sales have perform quite well compared to 'a'. While there is an another surprising fact that assortment level 'c' have maximum number of sales with the least number of customers.\n",
        "\n",
        "* Store Model \"b\" have the maximum number of sales at all assortment level and surprisingly Assortment Level \"b\" is only available in Store Level \"b\".\n",
        "\n",
        "* There is a linear relationship between customer and sales and it is also noticeable that whenever promo was open, the store has higher sales and customer compared to the period when promo was closed, which means promo had good impact on the sales.\n",
        "\n",
        "*  Mostly competitor stores weren't that far and the stores were densely located near each other and also sales were higher when competition was nearer.\n",
        "\n",
        "* Sales are highest on 30th followed by 2nd and 4th date of every month while sales are lowest on the 1st date of every month followed by 25th and 26th date.\n",
        "\n",
        "*  Sales are maximum on Mondays while sales are completely zero on Sundays because it seems like store use to remain closed on Sundays.\n",
        "\n",
        "*  Promo had been provided to the customers throughout the weekdays reason why sales were also high but sales on weekends were very low as promo weren't provided to the customers.\n",
        "\n",
        "* Sales and Customers are at peak during November and December due to festive season like Christmas while sales are at lowest during January and May or we may say these months to be off season.\n",
        "\n",
        "* During public holidays store made more sales compared to Easter and Christmas holidays.\n",
        "\n",
        "* Around 17.8% of the sales gets affected by the school holidays which also means that almost 17% of the sales are oriented from the school students.\n",
        "\n"
      ],
      "metadata": {
        "id": "4TnB111lQrGO"
      }
    },
    {
      "cell_type": "markdown",
      "metadata": {
        "id": "3Yb7OCJ8r8j0"
      },
      "source": [
        "## Now Let's Check Multicollinearity"
      ]
    },
    {
      "cell_type": "code",
      "execution_count": null,
      "metadata": {
        "id": "WKkJTVcfk4fi"
      },
      "outputs": [],
      "source": [
        "def vif_cal(x):\n",
        "  vif = pd.DataFrame()\n",
        "  vif[\"variables\"] = x.columns\n",
        "  vif[\"VIF\"] = [variance_inflation_factor(x.values, i) for i in range(x.shape[1])]\n",
        "  return (vif)"
      ]
    },
    {
      "cell_type": "code",
      "execution_count": null,
      "metadata": {
        "colab": {
          "base_uri": "https://localhost:8080/",
          "height": 582
        },
        "id": "m2DbJXDpr-2h",
        "outputId": "a422e2c4-f00b-46a7-b868-3d3dc36ce790"
      },
      "outputs": [
        {
          "data": {
            "text/html": [
              "<div>\n",
              "<style scoped>\n",
              "    .dataframe tbody tr th:only-of-type {\n",
              "        vertical-align: middle;\n",
              "    }\n",
              "\n",
              "    .dataframe tbody tr th {\n",
              "        vertical-align: top;\n",
              "    }\n",
              "\n",
              "    .dataframe thead th {\n",
              "        text-align: right;\n",
              "    }\n",
              "</style>\n",
              "<table border=\"1\" class=\"dataframe\">\n",
              "  <thead>\n",
              "    <tr style=\"text-align: right;\">\n",
              "      <th></th>\n",
              "      <th>variables</th>\n",
              "      <th>VIF</th>\n",
              "    </tr>\n",
              "  </thead>\n",
              "  <tbody>\n",
              "    <tr>\n",
              "      <th>0</th>\n",
              "      <td>DayOfWeek</td>\n",
              "      <td>5.771702</td>\n",
              "    </tr>\n",
              "    <tr>\n",
              "      <th>1</th>\n",
              "      <td>Customers</td>\n",
              "      <td>5.258131</td>\n",
              "    </tr>\n",
              "    <tr>\n",
              "      <th>2</th>\n",
              "      <td>Promo</td>\n",
              "      <td>3.056977</td>\n",
              "    </tr>\n",
              "    <tr>\n",
              "      <th>3</th>\n",
              "      <td>SchoolHoliday</td>\n",
              "      <td>1.309325</td>\n",
              "    </tr>\n",
              "    <tr>\n",
              "      <th>4</th>\n",
              "      <td>Year</td>\n",
              "      <td>24.573065</td>\n",
              "    </tr>\n",
              "    <tr>\n",
              "      <th>5</th>\n",
              "      <td>Month</td>\n",
              "      <td>57.084453</td>\n",
              "    </tr>\n",
              "    <tr>\n",
              "      <th>6</th>\n",
              "      <td>Day</td>\n",
              "      <td>4.614663</td>\n",
              "    </tr>\n",
              "    <tr>\n",
              "      <th>7</th>\n",
              "      <td>Week</td>\n",
              "      <td>2.901931</td>\n",
              "    </tr>\n",
              "    <tr>\n",
              "      <th>8</th>\n",
              "      <td>WeekOfYear</td>\n",
              "      <td>51.287325</td>\n",
              "    </tr>\n",
              "    <tr>\n",
              "      <th>9</th>\n",
              "      <td>StoreType</td>\n",
              "      <td>1.968832</td>\n",
              "    </tr>\n",
              "    <tr>\n",
              "      <th>10</th>\n",
              "      <td>Assortment</td>\n",
              "      <td>2.061474</td>\n",
              "    </tr>\n",
              "    <tr>\n",
              "      <th>11</th>\n",
              "      <td>CompetitionDistance</td>\n",
              "      <td>1.582101</td>\n",
              "    </tr>\n",
              "    <tr>\n",
              "      <th>12</th>\n",
              "      <td>CompetitionOpen</td>\n",
              "      <td>1.501986</td>\n",
              "    </tr>\n",
              "    <tr>\n",
              "      <th>13</th>\n",
              "      <td>PromoOpen</td>\n",
              "      <td>2.084649</td>\n",
              "    </tr>\n",
              "    <tr>\n",
              "      <th>14</th>\n",
              "      <td>StateHoliday_a</td>\n",
              "      <td>1.002607</td>\n",
              "    </tr>\n",
              "    <tr>\n",
              "      <th>15</th>\n",
              "      <td>StateHoliday_b</td>\n",
              "      <td>1.002166</td>\n",
              "    </tr>\n",
              "    <tr>\n",
              "      <th>16</th>\n",
              "      <td>StateHoliday_c</td>\n",
              "      <td>1.001399</td>\n",
              "    </tr>\n",
              "  </tbody>\n",
              "</table>\n",
              "</div>"
            ],
            "text/plain": [
              "              variables        VIF\n",
              "0             DayOfWeek   5.771702\n",
              "1             Customers   5.258131\n",
              "2                 Promo   3.056977\n",
              "3         SchoolHoliday   1.309325\n",
              "4                  Year  24.573065\n",
              "5                 Month  57.084453\n",
              "6                   Day   4.614663\n",
              "7                  Week   2.901931\n",
              "8            WeekOfYear  51.287325\n",
              "9             StoreType   1.968832\n",
              "10           Assortment   2.061474\n",
              "11  CompetitionDistance   1.582101\n",
              "12      CompetitionOpen   1.501986\n",
              "13            PromoOpen   2.084649\n",
              "14       StateHoliday_a   1.002607\n",
              "15       StateHoliday_b   1.002166\n",
              "16       StateHoliday_c   1.001399"
            ]
          },
          "execution_count": 190,
          "metadata": {},
          "output_type": "execute_result"
        }
      ],
      "source": [
        "from patsy import dmatrices\n",
        "from statsmodels.stats.outliers_influence import variance_inflation_factor\n",
        "\n",
        "vif_cal(corr_df[[i for i in corr_df.describe().columns if i not in ['Store', 'Sales']]])"
      ]
    },
    {
      "cell_type": "markdown",
      "metadata": {
        "id": "G2xAaYmRsHwp"
      },
      "source": [
        "###The Multicollinearity of `Year`, `Month` and `WeekOfYear` are very high so we decided to drop these column for our linear Regression model.\n",
        "###Because the the multicollinearity of each independeble feature should be under 10."
      ]
    },
    {
      "cell_type": "code",
      "execution_count": null,
      "metadata": {
        "colab": {
          "base_uri": "https://localhost:8080/"
        },
        "id": "U8p6P5w5sFhG",
        "outputId": "0e5d8172-5fba-4015-d299-4979401ab771"
      },
      "outputs": [
        {
          "data": {
            "text/plain": [
              "(844338, 19)"
            ]
          },
          "execution_count": 191,
          "metadata": {},
          "output_type": "execute_result"
        }
      ],
      "source": [
        "corr_df.shape"
      ]
    },
    {
      "cell_type": "code",
      "execution_count": null,
      "metadata": {
        "id": "maxkT8S-sQII"
      },
      "outputs": [],
      "source": [
        "final_df1 = corr_df.copy()"
      ]
    },
    {
      "cell_type": "markdown",
      "metadata": {
        "id": "_pSIle0NsVVL"
      },
      "source": [
        "##Creating the `X`, `y` values for our algorithm."
      ]
    },
    {
      "cell_type": "code",
      "execution_count": null,
      "metadata": {
        "id": "0gwJU3fHsYt0"
      },
      "outputs": [],
      "source": [
        "# defining dependent variable\n",
        "dep_var = 'Sales'\n",
        "\n",
        "# defining independent variable\n",
        "indep_var = final_df1.columns.drop(['Store','Sales'])"
      ]
    },
    {
      "cell_type": "markdown",
      "metadata": {
        "id": "kmkKdNKJszMM"
      },
      "source": [
        "#Creating the X,y values for our algorithm."
      ]
    },
    {
      "cell_type": "code",
      "execution_count": null,
      "metadata": {
        "id": "6fktFo7zsweL"
      },
      "outputs": [],
      "source": [
        "# Create the data of independent variables\n",
        "X = final_df1[indep_var].values\n",
        "\n",
        "# Create the dependent variable data\n",
        "y = final_df1[dep_var].values"
      ]
    },
    {
      "cell_type": "code",
      "execution_count": null,
      "metadata": {
        "colab": {
          "base_uri": "https://localhost:8080/",
          "height": 270
        },
        "id": "14fwm-3btSW8",
        "outputId": "2744d5ab-87b2-459e-9c01-d9787d713857"
      },
      "outputs": [
        {
          "data": {
            "text/html": [
              "<div>\n",
              "<style scoped>\n",
              "    .dataframe tbody tr th:only-of-type {\n",
              "        vertical-align: middle;\n",
              "    }\n",
              "\n",
              "    .dataframe tbody tr th {\n",
              "        vertical-align: top;\n",
              "    }\n",
              "\n",
              "    .dataframe thead th {\n",
              "        text-align: right;\n",
              "    }\n",
              "</style>\n",
              "<table border=\"1\" class=\"dataframe\">\n",
              "  <thead>\n",
              "    <tr style=\"text-align: right;\">\n",
              "      <th></th>\n",
              "      <th>Store</th>\n",
              "      <th>DayOfWeek</th>\n",
              "      <th>Sales</th>\n",
              "      <th>Customers</th>\n",
              "      <th>Promo</th>\n",
              "      <th>SchoolHoliday</th>\n",
              "      <th>Year</th>\n",
              "      <th>Month</th>\n",
              "      <th>Day</th>\n",
              "      <th>Week</th>\n",
              "      <th>WeekOfYear</th>\n",
              "      <th>StoreType</th>\n",
              "      <th>Assortment</th>\n",
              "      <th>CompetitionDistance</th>\n",
              "      <th>CompetitionOpen</th>\n",
              "      <th>PromoOpen</th>\n",
              "      <th>StateHoliday_a</th>\n",
              "      <th>StateHoliday_b</th>\n",
              "      <th>StateHoliday_c</th>\n",
              "    </tr>\n",
              "  </thead>\n",
              "  <tbody>\n",
              "    <tr>\n",
              "      <th>0</th>\n",
              "      <td>1</td>\n",
              "      <td>5</td>\n",
              "      <td>5263</td>\n",
              "      <td>555</td>\n",
              "      <td>1</td>\n",
              "      <td>1</td>\n",
              "      <td>2015</td>\n",
              "      <td>7</td>\n",
              "      <td>31</td>\n",
              "      <td>3</td>\n",
              "      <td>31</td>\n",
              "      <td>2</td>\n",
              "      <td>0</td>\n",
              "      <td>1270.0</td>\n",
              "      <td>82.0</td>\n",
              "      <td>24187.0</td>\n",
              "      <td>0</td>\n",
              "      <td>0</td>\n",
              "      <td>0</td>\n",
              "    </tr>\n",
              "    <tr>\n",
              "      <th>1</th>\n",
              "      <td>1</td>\n",
              "      <td>4</td>\n",
              "      <td>5020</td>\n",
              "      <td>546</td>\n",
              "      <td>1</td>\n",
              "      <td>1</td>\n",
              "      <td>2015</td>\n",
              "      <td>7</td>\n",
              "      <td>30</td>\n",
              "      <td>3</td>\n",
              "      <td>31</td>\n",
              "      <td>2</td>\n",
              "      <td>0</td>\n",
              "      <td>1270.0</td>\n",
              "      <td>82.0</td>\n",
              "      <td>24187.0</td>\n",
              "      <td>0</td>\n",
              "      <td>0</td>\n",
              "      <td>0</td>\n",
              "    </tr>\n",
              "    <tr>\n",
              "      <th>2</th>\n",
              "      <td>1</td>\n",
              "      <td>3</td>\n",
              "      <td>4782</td>\n",
              "      <td>523</td>\n",
              "      <td>1</td>\n",
              "      <td>1</td>\n",
              "      <td>2015</td>\n",
              "      <td>7</td>\n",
              "      <td>29</td>\n",
              "      <td>3</td>\n",
              "      <td>31</td>\n",
              "      <td>2</td>\n",
              "      <td>0</td>\n",
              "      <td>1270.0</td>\n",
              "      <td>82.0</td>\n",
              "      <td>24187.0</td>\n",
              "      <td>0</td>\n",
              "      <td>0</td>\n",
              "      <td>0</td>\n",
              "    </tr>\n",
              "    <tr>\n",
              "      <th>3</th>\n",
              "      <td>1</td>\n",
              "      <td>2</td>\n",
              "      <td>5011</td>\n",
              "      <td>560</td>\n",
              "      <td>1</td>\n",
              "      <td>1</td>\n",
              "      <td>2015</td>\n",
              "      <td>7</td>\n",
              "      <td>28</td>\n",
              "      <td>3</td>\n",
              "      <td>31</td>\n",
              "      <td>2</td>\n",
              "      <td>0</td>\n",
              "      <td>1270.0</td>\n",
              "      <td>82.0</td>\n",
              "      <td>24187.0</td>\n",
              "      <td>0</td>\n",
              "      <td>0</td>\n",
              "      <td>0</td>\n",
              "    </tr>\n",
              "    <tr>\n",
              "      <th>4</th>\n",
              "      <td>1</td>\n",
              "      <td>1</td>\n",
              "      <td>6102</td>\n",
              "      <td>612</td>\n",
              "      <td>1</td>\n",
              "      <td>1</td>\n",
              "      <td>2015</td>\n",
              "      <td>7</td>\n",
              "      <td>27</td>\n",
              "      <td>3</td>\n",
              "      <td>31</td>\n",
              "      <td>2</td>\n",
              "      <td>0</td>\n",
              "      <td>1270.0</td>\n",
              "      <td>82.0</td>\n",
              "      <td>24187.0</td>\n",
              "      <td>0</td>\n",
              "      <td>0</td>\n",
              "      <td>0</td>\n",
              "    </tr>\n",
              "  </tbody>\n",
              "</table>\n",
              "</div>"
            ],
            "text/plain": [
              "   Store  DayOfWeek  Sales  Customers  Promo  SchoolHoliday  Year  Month  Day  \\\n",
              "0      1          5   5263        555      1              1  2015      7   31   \n",
              "1      1          4   5020        546      1              1  2015      7   30   \n",
              "2      1          3   4782        523      1              1  2015      7   29   \n",
              "3      1          2   5011        560      1              1  2015      7   28   \n",
              "4      1          1   6102        612      1              1  2015      7   27   \n",
              "\n",
              "   Week  WeekOfYear  StoreType  Assortment  CompetitionDistance  \\\n",
              "0     3          31          2           0               1270.0   \n",
              "1     3          31          2           0               1270.0   \n",
              "2     3          31          2           0               1270.0   \n",
              "3     3          31          2           0               1270.0   \n",
              "4     3          31          2           0               1270.0   \n",
              "\n",
              "   CompetitionOpen  PromoOpen  StateHoliday_a  StateHoliday_b  StateHoliday_c  \n",
              "0             82.0    24187.0               0               0               0  \n",
              "1             82.0    24187.0               0               0               0  \n",
              "2             82.0    24187.0               0               0               0  \n",
              "3             82.0    24187.0               0               0               0  \n",
              "4             82.0    24187.0               0               0               0  "
            ]
          },
          "execution_count": 195,
          "metadata": {},
          "output_type": "execute_result"
        }
      ],
      "source": [
        "final_df1.head()"
      ]
    },
    {
      "cell_type": "markdown",
      "metadata": {
        "id": "ZyemXXj1tEio"
      },
      "source": [
        "###Before, fitting any model it is a rule of thumb to split the dataset into a training and test set. This means some proportions of the data will go into training the model and some portion will be used to evaluate how our model is performing on any unseen data. The proportions may vary from 60:40, 70:30, 75:25 depending on the person but mostly used is 80:20 for training and testing respectively. In this step we will split our data into training and testing set using scikit learn library."
      ]
    },
    {
      "cell_type": "code",
      "execution_count": null,
      "metadata": {
        "id": "ZyUj1s_FtAvc"
      },
      "outputs": [],
      "source": [
        "# Splitting the dataset into the Training set and Test set\n",
        "X_train, X_test, y_train, y_test = train_test_split(X, y, test_size = 0.2, random_state = 48)"
      ]
    },
    {
      "cell_type": "code",
      "execution_count": null,
      "metadata": {
        "colab": {
          "base_uri": "https://localhost:8080/"
        },
        "id": "ryjreUj8tiHo",
        "outputId": "ba2c7436-e913-4e7c-9dcc-48383dd0197d"
      },
      "outputs": [
        {
          "name": "stdout",
          "output_type": "stream",
          "text": [
            "(675470, 17)\n",
            "(168868, 17)\n"
          ]
        }
      ],
      "source": [
        "print(X_train.shape)\n",
        "\n",
        "print(X_test.shape)"
      ]
    },
    {
      "cell_type": "code",
      "execution_count": null,
      "metadata": {
        "id": "mLVEq0cGtjxL"
      },
      "outputs": [],
      "source": [
        "# Transforming data\n",
        "from sklearn.preprocessing import StandardScaler\n",
        "\n",
        "scaler = StandardScaler()\n",
        "X_train = scaler.fit_transform(X_train)\n",
        "X_test = scaler.transform(X_test)"
      ]
    },
    {
      "cell_type": "markdown",
      "metadata": {
        "id": "ozZJ9WvCuUSQ"
      },
      "source": [
        "#**Machine Learning Model**"
      ]
    },
    {
      "cell_type": "markdown",
      "metadata": {
        "id": "E3vV3EY_xIuj"
      },
      "source": [
        "##**1. Linear Regression**"
      ]
    },
    {
      "cell_type": "code",
      "execution_count": null,
      "metadata": {
        "colab": {
          "base_uri": "https://localhost:8080/"
        },
        "id": "OtwkbU4MtsQx",
        "outputId": "8c7ffe3d-b511-4a9e-86c2-1ca8b0f764b5"
      },
      "outputs": [
        {
          "data": {
            "text/plain": [
              "LinearRegression()"
            ]
          },
          "execution_count": 199,
          "metadata": {},
          "output_type": "execute_result"
        }
      ],
      "source": [
        "# Fitting the data into Linear Regression Model\n",
        "reg = LinearRegression()\n",
        "reg.fit(X_train,y_train)"
      ]
    },
    {
      "cell_type": "code",
      "execution_count": null,
      "metadata": {
        "colab": {
          "base_uri": "https://localhost:8080/"
        },
        "id": "0HY45y_txWph",
        "outputId": "e3798667-c05f-4252-b42c-e021bb1d4d61"
      },
      "outputs": [
        {
          "data": {
            "text/plain": [
              "0.6880542568431682"
            ]
          },
          "execution_count": 200,
          "metadata": {},
          "output_type": "execute_result"
        }
      ],
      "source": [
        "# Model Prediction\n",
        "y_pred = reg.predict(X_test)\n",
        "r2_score(y_pred,y_test)"
      ]
    },
    {
      "cell_type": "code",
      "execution_count": null,
      "metadata": {
        "id": "3AtG9IHBxemV"
      },
      "outputs": [],
      "source": [
        "# Storing Mean Of Dependant Variable\n",
        "sales_mean=final_df1[\"Sales\"].mean()"
      ]
    },
    {
      "cell_type": "code",
      "execution_count": null,
      "metadata": {
        "colab": {
          "base_uri": "https://localhost:8080/"
        },
        "id": "pY4F6tUVxput",
        "outputId": "d7543c83-d6b5-4c91-f8ae-c2aadbec2a4c"
      },
      "outputs": [
        {
          "name": "stdout",
          "output_type": "stream",
          "text": [
            "MAE : 1047.74523\n",
            "MSE : 2275750.827228\n",
            "RMSE : 1508.559189\n",
            "RMPSE : 0.216873\n",
            "R2 : 0.762571\n",
            "Adjusted R2 : 0.762547\n"
          ]
        }
      ],
      "source": [
        "#Mean Absolute Error or MAE\n",
        "MAE = round(mean_absolute_error(y_test,y_pred),6)\n",
        "print(\"MAE :\" , MAE)\n",
        "\n",
        "# Mean Squared Error or MSE\n",
        "MSE  = round(mean_squared_error(y_test, y_pred),6)\n",
        "print(\"MSE :\" , MSE)\n",
        "\n",
        "# Root Mean Squared Error or RMSE\n",
        "RMSE = round(np.sqrt(MSE),6)\n",
        "print(\"RMSE :\" ,RMSE)\n",
        "\n",
        "# Root Mean Squared Error or RMSE\n",
        "RMPSE = round((RMSE/sales_mean),6)\n",
        "print(\"RMPSE :\",RMPSE)\n",
        "\n",
        "# R2\n",
        "r2 = round(r2_score(y_test, y_pred),6)\n",
        "print(\"R2 :\" ,r2)\n",
        "\n",
        "# Adjusted_r\n",
        "Adjusted_r2 = round(1 - (1-r2_score(y_test, y_pred)) * (len(y_test)-1)/(len(y_test)-X_test.shape[1]-1),6)\n",
        "print(\"Adjusted R2 :\" , Adjusted_r2)"
      ]
    },
    {
      "cell_type": "markdown",
      "metadata": {
        "id": "4oZXBZHux6nl"
      },
      "source": [
        "###**CROSS VALIDATION**"
      ]
    },
    {
      "cell_type": "markdown",
      "metadata": {
        "id": "-BJlzTc6yUi8"
      },
      "source": [
        "\n",
        "\n",
        "As you know in KNN method we use `train test split` with `random_state` that split exactly same at each time. However, if we do not use random_state, data is split differently at each time and according to split accuracy will be different. Therefore, we can conclude that model performance is dependent on train_test_split. For example you split, fit and predict data 5 times and accuracies are `0.89, 0.9, 0.91, 0.92` and `0.93`, respectively. Which accuracy do you use? Do you know what accuracy will be at 6th times split, train and predict. The answer is I do not know but if I use cross validation I can find acceptable accuracy.\n",
        "\n",
        "Cross Validation (CV)\n",
        "\n",
        "* K folds = K fold CV.\n",
        "\n",
        "* When K is increase, computationally cost is increase\n",
        "\n",
        "* cross_val_score(LR_model,x,y,cv=5): use reg(linear regression) with x and y that we define at above and K is 5. It means 5 times(split, train,predict)"
      ]
    },
    {
      "cell_type": "code",
      "execution_count": null,
      "metadata": {
        "colab": {
          "base_uri": "https://localhost:8080/"
        },
        "id": "TwHNPZfwx0Bc",
        "outputId": "3fac9e64-f635-4e08-ec62-7ed901c5baf1"
      },
      "outputs": [
        {
          "name": "stdout",
          "output_type": "stream",
          "text": [
            "CV Scores:  [0.77332459 0.78638011 0.81299321 0.6837669  0.73120157]\n",
            "CV scores average:  0.7575332756231032\n"
          ]
        }
      ],
      "source": [
        "# Importing \n",
        "from sklearn.model_selection import cross_val_score\n",
        "\n",
        "# Cross validation\n",
        "k = 5\n",
        "cv_result = cross_val_score(reg,X,y,cv=k) # uses R^2 as score \n",
        "print('CV Scores: ',cv_result)\n",
        "print('CV scores average: ',np.sum(cv_result)/k)"
      ]
    },
    {
      "cell_type": "markdown",
      "metadata": {
        "id": "diyLPYyMysNd"
      },
      "source": [
        "**Regularized Regression with Hyper parameter Tunning.**\n",
        "\n",
        "As we learn linear regression choose parameters (coefficients) while minimizing lost function. If linear regression thinks that one of the feature is important, it gives high coefficient to this feature. However, this can cause overfitting that is like memorizing in KNN. In order to avoid overfitting, we use regularization that penalize large coefficients.\n",
        "\n",
        "**Ridge regression**: First regularization technique. Also it is called L2 regularization.\n",
        "\n",
        "**Ridge regression lost fuction** = OLS + alpha * sum(parameter^2)\n",
        "alpha is parameter we need to choose to fit and predict. alpha is hyperparameter that we need to choose for best accuracy and model complexity. This process is called **hyperparameter tuning.**\n",
        "\n",
        "**What if alpha is zero? lost function**= OLS so that is linear rigression\n",
        "If alpha is small that can cause overfitting\n",
        "If alpha is big that can cause underfitting.\n",
        "Lasso regression: Second regularization technique. Also it is called L1 regularization.\n",
        "\n",
        "**Lasso regression lost fuction**= OLS + alpha * sum(absolute_value(parameter))\n",
        "It can be used to select important features od the data. Because features whose values are not shrinked to zero, is chosen by lasso regression"
      ]
    },
    {
      "cell_type": "markdown",
      "metadata": {
        "id": "OtqW1jOP0v3E"
      },
      "source": [
        "## **2. Lasso Regression**"
      ]
    },
    {
      "cell_type": "markdown",
      "metadata": {
        "id": "nL0qEgCR0yvV"
      },
      "source": [
        "**Lasso regression** is a regularization technique. It is used over regression methods for a more accurate prediction. This model uses shrinkage. Shrinkage is where data values are shrunk towards a central point as the mean. The lasso procedure encourages simple, sparse models (i.e. models with fewer parameters). This particular type of regression is well-suited for models showing high levels of multicollinearity or when you want to automate certain parts of model selection, like variable selection/parameter elimination."
      ]
    },
    {
      "cell_type": "code",
      "execution_count": null,
      "metadata": {
        "colab": {
          "base_uri": "https://localhost:8080/"
        },
        "id": "nHgNWvokym-7",
        "outputId": "1a2fd6d6-a3f4-4797-bc22-619d8b069d96"
      },
      "outputs": [
        {
          "data": {
            "text/plain": [
              "Lasso(max_iter=2000)"
            ]
          },
          "execution_count": 204,
          "metadata": {},
          "output_type": "execute_result"
        }
      ],
      "source": [
        "# Model Training\n",
        "lass = Lasso(alpha = 1.0, max_iter = 2000)\n",
        "lass.fit(X_train,y_train)"
      ]
    },
    {
      "cell_type": "code",
      "execution_count": null,
      "metadata": {
        "colab": {
          "base_uri": "https://localhost:8080/"
        },
        "id": "YDZtDdt-1Kp6",
        "outputId": "25d98222-c694-4a27-d2f7-d5bd2ce6461e"
      },
      "outputs": [
        {
          "data": {
            "text/plain": [
              "0.6876388248063005"
            ]
          },
          "execution_count": 205,
          "metadata": {},
          "output_type": "execute_result"
        }
      ],
      "source": [
        "# Model Prediction\n",
        "prediction_lasso = lass.predict(X_test)\n",
        "r2_score(prediction_lasso,y_test)"
      ]
    },
    {
      "cell_type": "code",
      "execution_count": null,
      "metadata": {
        "colab": {
          "base_uri": "https://localhost:8080/"
        },
        "id": "Ilajj3QW1N_q",
        "outputId": "06162756-76fe-4020-88b8-4b76be5d3cc9"
      },
      "outputs": [
        {
          "name": "stdout",
          "output_type": "stream",
          "text": [
            "MAE : 1047.81137\n",
            "MSE : 2275823.1172\n",
            "RMSE : 1508.583149\n",
            "RMPSE : 0.216876\n",
            "R2 : 0.762563\n",
            "Adjusted R2 : 0.762539\n"
          ]
        }
      ],
      "source": [
        "#Mean Absolute Error or MAE\n",
        "MAE = round(mean_absolute_error(y_test, prediction_lasso),6)\n",
        "print(\"MAE :\" , MAE)\n",
        "\n",
        "# Mean Squared Error or MSE\n",
        "MSE  = round(mean_squared_error(y_test, prediction_lasso),6)\n",
        "print(\"MSE :\" , MSE)\n",
        "\n",
        "# Root Mean Squared Error or RMSE\n",
        "RMSE = round(np.sqrt(MSE),6)\n",
        "print(\"RMSE :\" ,RMSE)\n",
        "\n",
        "# Root Mean Squared Error or RMSE\n",
        "RMPSE = round((RMSE/sales_mean),6)\n",
        "print(\"RMPSE :\",RMPSE)\n",
        "\n",
        "# R2\n",
        "r2 = round(r2_score(y_test, prediction_lasso),6)\n",
        "print(\"R2 :\" ,r2)\n",
        "\n",
        "# Adjusted_r\n",
        "Adjusted_r2 = round(1 - (1-r2_score(y_test, prediction_lasso)) * (len(y_test)-1)/(len(y_test)-X_test.shape[1]-1),6)\n",
        "print(\"Adjusted R2 :\" , Adjusted_r2)"
      ]
    },
    {
      "cell_type": "markdown",
      "metadata": {
        "id": "AgYeYD0b1Y-U"
      },
      "source": [
        "## **3. Ridge Regression**"
      ]
    },
    {
      "cell_type": "markdown",
      "metadata": {
        "id": "-3rPr1aH1eTu"
      },
      "source": [
        "**Ridge regression** is a model tuning method that is used to analyse any data that suffers from multicollinearity. This method performs L2 regularization. When the issue of multicollinearity occurs, least-squares are unbiased, and variances are large, this results in predicted values being far away from the actual values."
      ]
    },
    {
      "cell_type": "code",
      "execution_count": null,
      "metadata": {
        "colab": {
          "base_uri": "https://localhost:8080/"
        },
        "id": "U1YB83n51T5_",
        "outputId": "f438990e-d8e0-4415-e8aa-0689038baa0b"
      },
      "outputs": [
        {
          "data": {
            "text/plain": [
              "Ridge(alpha=0.5, random_state=0)"
            ]
          },
          "execution_count": 207,
          "metadata": {},
          "output_type": "execute_result"
        }
      ],
      "source": [
        "# Model Training\n",
        "ridge = Ridge(alpha = 0.5, fit_intercept = True,random_state=0)\n",
        "ridge.fit(X_train, y_train)"
      ]
    },
    {
      "cell_type": "code",
      "execution_count": null,
      "metadata": {
        "colab": {
          "base_uri": "https://localhost:8080/"
        },
        "id": "YihaVFaI1xld",
        "outputId": "33798317-472c-47ec-d625-bb4d46662fa0"
      },
      "outputs": [
        {
          "data": {
            "text/plain": [
              "0.6880537967350555"
            ]
          },
          "execution_count": 208,
          "metadata": {},
          "output_type": "execute_result"
        }
      ],
      "source": [
        "# Model Prediction\n",
        "pred_ridge =ridge.predict(X_test)\n",
        "r2_score(pred_ridge, y_test)"
      ]
    },
    {
      "cell_type": "code",
      "execution_count": null,
      "metadata": {
        "colab": {
          "base_uri": "https://localhost:8080/"
        },
        "id": "CmmmHcjh13Hn",
        "outputId": "8c23b124-dca6-4ac5-e148-013960950355"
      },
      "outputs": [
        {
          "name": "stdout",
          "output_type": "stream",
          "text": [
            "MAE : 1047.74544\n",
            "MSE : 2275750.839352\n",
            "RMSE : 1508.559193\n",
            "RMPSE : 0.216873\n",
            "R2 : 0.762571\n",
            "Adjusted R2 : 0.762547\n"
          ]
        }
      ],
      "source": [
        "#Mean Absolute Error or MAE\n",
        "MAE = round(mean_absolute_error(y_test, pred_ridge),6)\n",
        "print(\"MAE :\" , MAE)\n",
        "\n",
        "# Mean Squared Error or MSE\n",
        "MSE  = round(mean_squared_error(y_test, pred_ridge),6)\n",
        "print(\"MSE :\" , MSE)\n",
        "\n",
        "# Root Mean Squared Error or RMSE\n",
        "RMSE = round(np.sqrt(MSE),6)\n",
        "print(\"RMSE :\" ,RMSE)\n",
        "\n",
        "# Root Mean Squared Error or RMSE\n",
        "RMPSE = round((RMSE/sales_mean),6)\n",
        "print(\"RMPSE :\",RMPSE)\n",
        "\n",
        "# R2\n",
        "r2 = round(r2_score(y_test, pred_ridge),6)\n",
        "print(\"R2 :\" ,r2)\n",
        "\n",
        "# Adjusted_r\n",
        "Adjusted_r2 = round(1 - (1-r2_score(y_test, pred_ridge)) * (len(y_test)-1)/(len(y_test)-X_test.shape[1]-1),6)\n",
        "print(\"Adjusted R2 :\" , Adjusted_r2)"
      ]
    },
    {
      "cell_type": "markdown",
      "metadata": {
        "id": "AFjmYy3L2TMf"
      },
      "source": [
        "## **4. Decision Tree Regression**"
      ]
    },
    {
      "cell_type": "markdown",
      "metadata": {
        "id": "QiMjqWXn2Wsi"
      },
      "source": [
        "**Decision tree** builds regression or classification models in the form of a tree structure. It breaks down a dataset into smaller and smaller subsets while at the same time an associated decision tree is incrementally developed. The final result is a tree with decision nodes and leaf nodes. A decision node (e.g., Outlook) has two or more branches (e.g., Sunny, Overcast and Rainy), each representing values for the attribute tested. Leaf node (e.g., Hours Played) represents a decision on the numerical target. The topmost decision node in a tree which corresponds to the best predictor called root node. Decision trees can handle both categorical and numerical data."
      ]
    },
    {
      "cell_type": "code",
      "execution_count": null,
      "metadata": {
        "colab": {
          "base_uri": "https://localhost:8080/"
        },
        "id": "UHl8Wicp2BzK",
        "outputId": "18e2c56d-5944-41cc-d62a-0b96b0d15730"
      },
      "outputs": [
        {
          "data": {
            "text/plain": [
              "DecisionTreeRegressor(random_state=0)"
            ]
          },
          "execution_count": 210,
          "metadata": {},
          "output_type": "execute_result"
        }
      ],
      "source": [
        "# Model Training\n",
        "des_regressor = DecisionTreeRegressor(random_state=0)\n",
        "des_regressor.fit(X_train,y_train)"
      ]
    },
    {
      "cell_type": "code",
      "execution_count": null,
      "metadata": {
        "colab": {
          "base_uri": "https://localhost:8080/"
        },
        "id": "fHXTL7h12dyo",
        "outputId": "793fb799-a5df-4ea5-f7d6-e0917c432da2"
      },
      "outputs": [
        {
          "data": {
            "text/plain": [
              "0.9376665512835598"
            ]
          },
          "execution_count": 211,
          "metadata": {},
          "output_type": "execute_result"
        }
      ],
      "source": [
        "# Model Prediction\n",
        "y_pred_des = des_regressor.predict(X_test)\n",
        "r2_score(y_pred_des, y_test)"
      ]
    },
    {
      "cell_type": "code",
      "execution_count": null,
      "metadata": {
        "colab": {
          "base_uri": "https://localhost:8080/"
        },
        "id": "uaM0Vd8Q2ipE",
        "outputId": "fad6e851-3178-455b-c6c9-26e068fca822"
      },
      "outputs": [
        {
          "name": "stdout",
          "output_type": "stream",
          "text": [
            "MAE : 495.794405\n",
            "MSE : 596493.291608\n",
            "RMSE : 772.329782\n",
            "RMPSE : 0.111031\n",
            "R2 : 0.937768\n",
            "Adjusted R2 : 0.937762\n"
          ]
        }
      ],
      "source": [
        "#Mean Absolute Error or MAE\n",
        "MAE = round(mean_absolute_error(y_test, y_pred_des),6)\n",
        "print(\"MAE :\" , MAE)\n",
        "\n",
        "# Mean Squared Error or MSE\n",
        "MSE  = round(mean_squared_error(y_test, y_pred_des),6)\n",
        "print(\"MSE :\" , MSE)\n",
        "\n",
        "# Root Mean Squared Error or RMSE\n",
        "RMSE = round(np.sqrt(MSE),6)\n",
        "print(\"RMSE :\" ,RMSE)\n",
        "\n",
        "# Root Mean Squared Error or RMSE\n",
        "RMPSE = round((RMSE/sales_mean),6)\n",
        "print(\"RMPSE :\",RMPSE)\n",
        "\n",
        "# R2\n",
        "r2 = round(r2_score(y_test, y_pred_des),6)\n",
        "print(\"R2 :\" ,r2)\n",
        "\n",
        "# Adjusted_r\n",
        "Adjusted_r2 = round(1 - (1-r2_score(y_test, y_pred_des)) * (len(y_test)-1)/(len(y_test)-X_test.shape[1]-1),6)\n",
        "print(\"Adjusted R2 :\" , Adjusted_r2)"
      ]
    },
    {
      "cell_type": "markdown",
      "metadata": {
        "id": "81FkuUVO2r-M"
      },
      "source": [
        "## **5. Random Forest Regression**"
      ]
    },
    {
      "cell_type": "markdown",
      "metadata": {
        "id": "R86byLmV2uur"
      },
      "source": [
        "**Random Forest Regression** is a supervised learning algorithm that uses ensemble learning method for regression. Ensemble learning method is a technique that combines predictions from multiple machine learning algorithms to make a more accurate prediction than a single model. Random Forest is an ensemble technique capable of performing both regression and classification tasks with the use of multiple decision trees and a technique called Bootstrap and Aggregation, commonly known as bagging. The basic idea behind this is to combine multiple decision trees in determining the final output rather than relying on individual decision trees. \n",
        "Random Forest has multiple decision trees as base learning models. We randomly perform row sampling and feature sampling from the dataset forming sample datasets for every model. This part is called Bootstrap."
      ]
    },
    {
      "cell_type": "code",
      "execution_count": null,
      "metadata": {
        "id": "Pc_vOIJS2oI1"
      },
      "outputs": [],
      "source": [
        "# Model Training And Prediction\n",
        "\n",
        "random_forest=RandomForestRegressor(n_estimators =300,max_depth=8)\n",
        "random_forest.fit(X_train, y_train)\n",
        "v_pred_rf=random_forest.predict(X_test)"
      ]
    },
    {
      "cell_type": "code",
      "execution_count": null,
      "metadata": {
        "colab": {
          "base_uri": "https://localhost:8080/"
        },
        "id": "RKTP_uk926Bs",
        "outputId": "8d880fe5-f778-4d12-cc54-81f2dd25b85e"
      },
      "outputs": [
        {
          "name": "stdout",
          "output_type": "stream",
          "text": [
            "MAE : 832.013724\n",
            "MSE : 1296713.479159\n",
            "RMSE : 1138.733278\n",
            "RMPSE : 0.163706\n",
            "R2 : 0.864714\n",
            "Adjusted R2 : 0.8647\n"
          ]
        }
      ],
      "source": [
        "#Mean Absolute Error or MAE\n",
        "MAE = round(mean_absolute_error(y_test, v_pred_rf),6)\n",
        "print(\"MAE :\" , MAE)\n",
        "\n",
        "# Mean Squared Error or MSE\n",
        "MSE  = round(mean_squared_error(y_test, v_pred_rf),6)\n",
        "print(\"MSE :\" , MSE)\n",
        "\n",
        "# Root Mean Squared Error or RMSE\n",
        "RMSE = round(np.sqrt(MSE),6)\n",
        "print(\"RMSE :\" ,RMSE)\n",
        "\n",
        "# Root Mean Squared Error or RMSE\n",
        "RMPSE = round((RMSE/sales_mean),6)\n",
        "print(\"RMPSE :\",RMPSE)\n",
        "\n",
        "# R2\n",
        "r2 = round(r2_score(y_test, v_pred_rf),6)\n",
        "print(\"R2 :\" ,r2)\n",
        "\n",
        "# Adjusted R2\n",
        "Adjusted_r2 = round(1 - (1-r2_score(y_test, v_pred_rf)) * (len(y_test)-1)/(len(y_test)-X_test.shape[1]-1),6)\n",
        "print(\"Adjusted R2 :\" , Adjusted_r2)"
      ]
    },
    {
      "cell_type": "markdown",
      "metadata": {
        "id": "SRSFdWKF3KGN"
      },
      "source": [
        "## **6. Gradient Boosting Regression**"
      ]
    },
    {
      "cell_type": "markdown",
      "metadata": {
        "id": "RMess6eX3M4x"
      },
      "source": [
        "**Gradient boosting** is a machine learning technique used in regression and classification tasks, among others. It gives a prediction model in the form of an ensemble of weak prediction models, which are typically decision trees. When a decision tree is the weak learner, the resulting algorithm is called gradient-boosted trees; it usually outperforms random forest. A gradient-boosted trees model is built in a stage-wise fashion as in other boosting methods, but it generalizes the other methods by allowing optimization of an arbitrary differentiable loss function."
      ]
    },
    {
      "cell_type": "code",
      "execution_count": null,
      "metadata": {
        "colab": {
          "base_uri": "https://localhost:8080/"
        },
        "id": "uR8R28Ui3Q-d",
        "outputId": "4a15dbb6-589b-4688-adfa-2af64ee18128"
      },
      "outputs": [
        {
          "data": {
            "text/plain": [
              "GradientBoostingRegressor(random_state=42)"
            ]
          },
          "execution_count": 215,
          "metadata": {},
          "output_type": "execute_result"
        }
      ],
      "source": [
        "# Model Training\n",
        "from sklearn.ensemble import GradientBoostingRegressor\n",
        "\n",
        "gbc_reg = GradientBoostingRegressor(random_state =42)\n",
        "gbc_reg.fit(X_train,y_train)"
      ]
    },
    {
      "cell_type": "code",
      "execution_count": null,
      "metadata": {
        "colab": {
          "base_uri": "https://localhost:8080/"
        },
        "id": "DUe50KPF6OgB",
        "outputId": "fadf2ed3-75bb-4710-f4d3-b267361b70ed"
      },
      "outputs": [
        {
          "data": {
            "text/plain": [
              "0.8483810196424195"
            ]
          },
          "execution_count": 216,
          "metadata": {},
          "output_type": "execute_result"
        }
      ],
      "source": [
        "# Model Prediction\n",
        "y_pred_gb =gbc_reg.predict(X_test)\n",
        "r2_score(y_pred_gb,y_test)\n"
      ]
    },
    {
      "cell_type": "code",
      "execution_count": null,
      "metadata": {
        "colab": {
          "base_uri": "https://localhost:8080/"
        },
        "id": "LhdP1hDo67kQ",
        "outputId": "1e20fe71-458b-4e14-8b0f-e643a1963400"
      },
      "outputs": [
        {
          "name": "stdout",
          "output_type": "stream",
          "text": [
            "MAE : 794.237221\n",
            "MSE : 1183113.009297\n",
            "RMSE : 1087.709984\n",
            "RMPSE : 0.156371\n",
            "R2 : 0.876566\n",
            "Adjusted R2 : 0.876553\n"
          ]
        }
      ],
      "source": [
        "#Mean Absolute Error or MAE\n",
        "MAE = round(mean_absolute_error(y_test, y_pred_gb),6)\n",
        "print(\"MAE :\" , MAE)\n",
        "\n",
        "# Mean Squared Error or MSE\n",
        "MSE  = round(mean_squared_error(y_test, y_pred_gb),6)\n",
        "print(\"MSE :\" , MSE)\n",
        "\n",
        "# Root Mean Squared Error or RMSE\n",
        "RMSE = round(np.sqrt(MSE),6)\n",
        "print(\"RMSE :\" ,RMSE)\n",
        "\n",
        "# Root Mean Squared Error or RMSE\n",
        "RMPSE = round((RMSE/sales_mean),6)\n",
        "print(\"RMPSE :\",RMPSE)\n",
        "\n",
        "# R2\n",
        "r2 = round(r2_score(y_test, y_pred_gb),6)\n",
        "print(\"R2 :\" ,r2)\n",
        "\n",
        "# Adjusted R2\n",
        "Adjusted_r2 = round(1 - (1-r2_score(y_test, y_pred_gb)) * (len(y_test)-1)/(len(y_test)-X_test.shape[1]-1),6)\n",
        "print(\"Adjusted R2 :\" , Adjusted_r2)"
      ]
    },
    {
      "cell_type": "markdown",
      "metadata": {
        "id": "xgucpS297KZy"
      },
      "source": [
        "## **7. XGboost Regression**"
      ]
    },
    {
      "cell_type": "markdown",
      "metadata": {
        "id": "bBja_cxZ7NcA"
      },
      "source": [
        "**XGBoost** is a powerful approach for building supervised regression models.The objective function contains loss function and a regularization term.\n",
        "XGBoost is a decision-tree-based ensemble Machine Learning algorithm that uses a gradient boosting framework. In prediction problems involving unstructured data (images, text, etc.) artificial neural networks tend to outperform all other algorithms or frameworks. However, when it comes to small-to-medium structured/tabular data, decision tree based algorithms are considered best-in-class right now. Please see the chart below for the evolution of tree-based algorithms over the years."
      ]
    },
    {
      "cell_type": "code",
      "execution_count": null,
      "metadata": {
        "id": "KfCC70IHqlkC"
      },
      "outputs": [],
      "source": [
        "import xgboost as xgb"
      ]
    },
    {
      "cell_type": "code",
      "execution_count": null,
      "metadata": {
        "colab": {
          "base_uri": "https://localhost:8080/"
        },
        "id": "aU8b6WIa7KHm",
        "outputId": "504e35ae-4f5e-497f-9c62-6a8bc84d309f"
      },
      "outputs": [
        {
          "data": {
            "text/plain": [
              "XGBRegressor(base_score=0.5, booster='gbtree', callbacks=None,\n",
              "             colsample_bylevel=1, colsample_bynode=1, colsample_bytree=1,\n",
              "             early_stopping_rounds=None, enable_categorical=False,\n",
              "             eval_metric=None, feature_types=None, gamma=0, gpu_id=-1,\n",
              "             grow_policy='depthwise', importance_type=None,\n",
              "             interaction_constraints='', learning_rate=0.3, max_bin=256,\n",
              "             max_cat_threshold=64, max_cat_to_onehot=4, max_delta_step=0,\n",
              "             max_depth=5, max_leaves=0, min_child_weight=1, missing=nan,\n",
              "             monotone_constraints='()', n_estimators=100, n_jobs=-1,\n",
              "             num_parallel_tree=1, predictor='auto', random_state=0, ...)"
            ]
          },
          "execution_count": 219,
          "metadata": {},
          "output_type": "execute_result"
        }
      ],
      "source": [
        "# Model Training\n",
        "\n",
        "from xgboost import XGBRegressor\n",
        "\n",
        "xgb_reg=XGBRegressor(max_depth=5,n_estimators=100,learning_rate=0.3,n_jobs=-1)   \n",
        "xgb_reg.fit(X_train,y_train)"
      ]
    },
    {
      "cell_type": "code",
      "execution_count": null,
      "metadata": {
        "id": "Ny3qYvZrqlkD"
      },
      "outputs": [],
      "source": []
    },
    {
      "cell_type": "code",
      "execution_count": null,
      "metadata": {
        "colab": {
          "base_uri": "https://localhost:8080/"
        },
        "id": "HFpEkLc77FlF",
        "outputId": "f3e3b63c-e2b0-4544-fac5-c56a1d16cee2"
      },
      "outputs": [
        {
          "data": {
            "text/plain": [
              "0.9380600624283401"
            ]
          },
          "execution_count": 220,
          "metadata": {},
          "output_type": "execute_result"
        }
      ],
      "source": [
        "# Model Prediction\n",
        "y_pred_xgb =xgb_reg.predict(X_test)\n",
        "r2_score(y_pred_xgb,y_test)\n"
      ]
    },
    {
      "cell_type": "code",
      "execution_count": null,
      "metadata": {
        "colab": {
          "base_uri": "https://localhost:8080/"
        },
        "id": "2gTlnen57_5X",
        "outputId": "6767b7af-d830-4196-b9aa-23cffe05fc4d"
      },
      "outputs": [
        {
          "name": "stdout",
          "output_type": "stream",
          "text": [
            "MAE : 539.791896\n",
            "MSE : 543495.694583\n",
            "RMSE : 737.221605\n",
            "RMPSE : 0.105984\n",
            "R2 : 0.943297\n",
            "Adjusted R2 : 0.943291\n"
          ]
        }
      ],
      "source": [
        "#Mean Absolute Error or MAE\n",
        "MAE = round(mean_absolute_error(y_test, y_pred_xgb),6)\n",
        "print(\"MAE :\" , MAE)\n",
        "\n",
        "# Mean Squared Error or MSE\n",
        "MSE  = round(mean_squared_error(y_test, y_pred_xgb),6)\n",
        "print(\"MSE :\" , MSE)\n",
        "\n",
        "# Root Mean Squared Error or RMSE\n",
        "RMSE = round(np.sqrt(MSE),6)\n",
        "print(\"RMSE :\" ,RMSE)\n",
        "\n",
        "# Root Mean Squared Error or RMSE\n",
        "RMPSE = round((RMSE/sales_mean),6)\n",
        "print(\"RMPSE :\",RMPSE)\n",
        "\n",
        "# R2\n",
        "r2 = round(r2_score(y_test, y_pred_xgb),6)\n",
        "print(\"R2 :\" ,r2)\n",
        "\n",
        "# Adjusted R2\n",
        "Adjusted_r2 = round(1 - (1-r2_score(y_test, y_pred_xgb)) * (len(y_test)-1)/(len(y_test)-X_test.shape[1]-1),6)\n",
        "print(\"Adjusted R2 :\" , Adjusted_r2)"
      ]
    },
    {
      "cell_type": "markdown",
      "metadata": {
        "id": "U4dAZaTb8lbf"
      },
      "source": [
        "###***`OBSERVATION:`*** **After looking at the various regression techniques we came to the conclusion that XGboost have better model performance (`Adjusted R2 : 0.943291`) compared to other regression models.**"
      ]
    },
    {
      "cell_type": "markdown",
      "metadata": {
        "id": "higIMB0S9RfX"
      },
      "source": [
        "# **Hyperparameter Tuning**"
      ]
    },
    {
      "cell_type": "markdown",
      "metadata": {
        "id": "Yb8oLPRf9V6F"
      },
      "source": [
        "Hyperparameters are the knobs or settings that can be tuned before running a training job to control the behavior of an ML algorithm. They can have a big impact on model training as it relates to training time, infrastructure resource requirements (and as a result cost), model convergence and model accuracy.\n",
        "\n",
        "Model parameters are learnt as part of training process, whereas the values of hyperparameters are set before running the training job and they do not change during the training."
      ]
    },
    {
      "cell_type": "markdown",
      "metadata": {
        "id": "FihpHoGp9YjW"
      },
      "source": [
        "## **1. Linear Regression**"
      ]
    },
    {
      "cell_type": "markdown",
      "metadata": {
        "id": "imhrzL-09bBE"
      },
      "source": [
        "Since Linear Regression is the simplest machine learning model it does not have any parameter to tune. Hence we did not perform any hyperparameter tuning."
      ]
    },
    {
      "cell_type": "markdown",
      "metadata": {
        "id": "nyRTI6xp9kAe"
      },
      "source": [
        "## **2. Lasso Regression**"
      ]
    },
    {
      "cell_type": "code",
      "execution_count": null,
      "metadata": {
        "colab": {
          "base_uri": "https://localhost:8080/"
        },
        "id": "aqp43UVv8e2O",
        "outputId": "09eb3212-f165-4a58-f506-dcdc0dbe0eee"
      },
      "outputs": [
        {
          "name": "stdout",
          "output_type": "stream",
          "text": [
            "Fitting 5 folds for each of 21 candidates, totalling 105 fits\n"
          ]
        },
        {
          "data": {
            "text/plain": [
              "GridSearchCV(estimator=Lasso(random_state=42), n_jobs=-1,\n",
              "             param_grid={'alpha': [0.0, 0.25, 0.5, 0.75, 1.0, 1.25, 1.5, 1.75,\n",
              "                                   2.0, 2.25, 2.5, 2.75, 3.0, 3.25, 3.5, 3.75,\n",
              "                                   4.0, 4.25, 4.5, 4.75, 5.0]},\n",
              "             scoring='r2', verbose=10)"
            ]
          },
          "execution_count": 222,
          "metadata": {},
          "output_type": "execute_result"
        }
      ],
      "source": [
        "# Initializing paramter grid for GridSearchCV\n",
        "params_grid={'alpha':[i*0.25 for i in range(21)]}\n",
        "\n",
        "# Defining object for GridSearchCV\n",
        "lass_GCV=Lasso(random_state=42)\n",
        "\n",
        "# Using GridSearchCV that optimizes scoring parameter R2 score\n",
        "lass_GCV=GridSearchCV(lass_GCV,params_grid,n_jobs=-1,scoring='r2',verbose=10)\n",
        "\n",
        "# Fitting data to our GridSearchCV object \n",
        "lass_GCV.fit(X_train,y_train)"
      ]
    },
    {
      "cell_type": "code",
      "execution_count": null,
      "metadata": {
        "colab": {
          "base_uri": "https://localhost:8080/"
        },
        "id": "kQzr5ZYB9o3g",
        "outputId": "eb77b0b3-5c59-4668-f0b4-dee4f99d68bb"
      },
      "outputs": [
        {
          "name": "stdout",
          "output_type": "stream",
          "text": [
            "\u001b[1mBest Parameters for Lasso Regression according to GCV:\u001b[0m {'alpha': 0.0}\n",
            "\u001b[1mTuned Lasso Regression Model Metrics:\u001b[0m\n",
            "MAE :1047.74523\n",
            "MSE :2275750.827228\n",
            "RMSE :1508.559189\n",
            "R2 :0.762571\n",
            "Adjusted R2 :0.762547\n"
          ]
        }
      ],
      "source": [
        "# Predicting Using GridSearchCV\n",
        "lass_pred=lass_GCV.predict(X_test)\n",
        "\n",
        "# Printing the metrics for GridSearchCV\n",
        "print('\\033[1mBest Parameters for Lasso Regression according to GCV:\\033[0m',lass_GCV.best_params_)\n",
        "print('\\033[1mTuned Lasso Regression Model Metrics:\\033[0m')\n",
        "print(f\"MAE :{round(mean_absolute_error(y_test, lass_pred),6)}\\nMSE :{ round(mean_squared_error(y_test, lass_pred),6)}\\nRMSE :{round(np.sqrt(round(mean_squared_error(y_test, lass_pred),6)),6)}\\nR2 :{round(r2_score(y_test, lass_pred),6)}\\nAdjusted R2 :{round(1 - (1-r2_score(y_test, lass_pred)) * (len(y_test)-1)/(len(y_test)-X_test.shape[1]-1),6)}\")"
      ]
    },
    {
      "cell_type": "markdown",
      "metadata": {
        "id": "hkQlN4i-_k5W"
      },
      "source": [
        "## **3. Ridge Regression**"
      ]
    },
    {
      "cell_type": "code",
      "execution_count": null,
      "metadata": {
        "colab": {
          "base_uri": "https://localhost:8080/"
        },
        "id": "RVF_v5cL_n1m",
        "outputId": "65686a07-1ab5-420e-b211-7e3c6c77a9d7"
      },
      "outputs": [
        {
          "name": "stdout",
          "output_type": "stream",
          "text": [
            "Fitting 5 folds for each of 21 candidates, totalling 105 fits\n"
          ]
        },
        {
          "data": {
            "text/plain": [
              "GridSearchCV(estimator=Ridge(random_state=42), n_jobs=-1,\n",
              "             param_grid={'alpha': [0.0, 0.25, 0.5, 0.75, 1.0, 1.25, 1.5, 1.75,\n",
              "                                   2.0, 2.25, 2.5, 2.75, 3.0, 3.25, 3.5, 3.75,\n",
              "                                   4.0, 4.25, 4.5, 4.75, 5.0]},\n",
              "             scoring='r2', verbose=10)"
            ]
          },
          "execution_count": 224,
          "metadata": {},
          "output_type": "execute_result"
        }
      ],
      "source": [
        "# Initializing paramter grid for GridSearchCV\n",
        "params_grid={'alpha':[i*0.25 for i in range(21)]}\n",
        "\n",
        "# Defining object for GridSearchCV\n",
        "rid_GCV=Ridge(random_state=42)\n",
        "\n",
        "# Using GridSearchCV that optimizes scoring parameter R2 score\n",
        "rid_GCV=GridSearchCV(rid_GCV,params_grid,n_jobs=-1,scoring='r2',verbose=10)\n",
        "\n",
        "# Fitting data to our GridSearchCV object \n",
        "rid_GCV.fit(X_train,y_train)"
      ]
    },
    {
      "cell_type": "code",
      "execution_count": null,
      "metadata": {
        "colab": {
          "base_uri": "https://localhost:8080/"
        },
        "id": "iyRCMHlE_OfU",
        "outputId": "5d2d41bf-a3bd-475d-895f-8a412eb1cc18"
      },
      "outputs": [
        {
          "name": "stdout",
          "output_type": "stream",
          "text": [
            "\u001b[1mBest Parameters for Ridge Regression according to GCV:\u001b[0m {'alpha': 5.0}\n",
            "\u001b[1mTuned Ridge Regression Model Metrics:\u001b[0m\n",
            "MAE :1047.747324\n",
            "MSE :2275750.948924\n",
            "RMSE :1508.55923\n",
            "R2 :0.762571\n",
            "Adjusted R2 :0.762547\n"
          ]
        }
      ],
      "source": [
        "# Predicting Using GridSearchCV\n",
        "rid_pred=rid_GCV.predict(X_test)\n",
        "\n",
        "# Printing the metrics for GridSearchCV\n",
        "print('\\033[1mBest Parameters for Ridge Regression according to GCV:\\033[0m',rid_GCV.best_params_)\n",
        "print('\\033[1mTuned Ridge Regression Model Metrics:\\033[0m')\n",
        "print(f\"MAE :{round(mean_absolute_error(y_test, rid_pred),6)}\\nMSE :{ round(mean_squared_error(y_test, rid_pred),6)}\\nRMSE :{round(np.sqrt(round(mean_squared_error(y_test, rid_pred),6)),6)}\\nR2 :{round(r2_score(y_test, rid_pred),6)}\\nAdjusted R2 :{round(1 - (1-r2_score(y_test, rid_pred)) * (len(y_test)-1)/(len(y_test)-X_test.shape[1]-1),6)}\")"
      ]
    },
    {
      "cell_type": "markdown",
      "metadata": {
        "id": "9ZoYMwYN_yiO"
      },
      "source": [
        "## **4. Decision Tree Regression**"
      ]
    },
    {
      "cell_type": "code",
      "execution_count": null,
      "metadata": {
        "colab": {
          "base_uri": "https://localhost:8080/"
        },
        "id": "xYNUFg88_r3H",
        "outputId": "90909a2c-d547-4b70-f6e4-699487224104"
      },
      "outputs": [
        {
          "name": "stdout",
          "output_type": "stream",
          "text": [
            "Fitting 5 folds for each of 40 candidates, totalling 200 fits\n"
          ]
        },
        {
          "data": {
            "text/plain": [
              "GridSearchCV(estimator=DecisionTreeRegressor(random_state=42), n_jobs=-1,\n",
              "             param_grid={'max_depth': [None, 5, 10, 20, 40, 80, 100, 150],\n",
              "                         'min_samples_leaf': range(1, 6)},\n",
              "             scoring='r2', verbose=10)"
            ]
          },
          "execution_count": 226,
          "metadata": {},
          "output_type": "execute_result"
        }
      ],
      "source": [
        "# Initializing paramter grid for GridSearchCV\n",
        "params_grid={'min_samples_leaf':range(1,6),\n",
        "            'max_depth':[None,5,10,20,40,80,100,150]}\n",
        "\n",
        "# Defining object for GridSearchCV\n",
        "dtr_GCV=DecisionTreeRegressor(random_state=42)\n",
        "\n",
        "# Using GridSearchCV that optimizes scoring parameter R2 score\n",
        "dtr_GCV=GridSearchCV(dtr_GCV,params_grid,n_jobs=-1,scoring='r2',verbose=10)\n",
        "\n",
        "# Fitting data to our GridSearchCV object \n",
        "dtr_GCV.fit(X_train,y_train)"
      ]
    },
    {
      "cell_type": "code",
      "execution_count": null,
      "metadata": {
        "colab": {
          "base_uri": "https://localhost:8080/"
        },
        "id": "TXf3tivM_6Ds",
        "outputId": "fdb2e904-cc53-45c2-df47-5f17fe618a40",
        "scrolled": true
      },
      "outputs": [
        {
          "name": "stdout",
          "output_type": "stream",
          "text": [
            "\u001b[1mBest Parameters for Decision Tree Regression according to GCV:\u001b[0m {'max_depth': None, 'min_samples_leaf': 5}\n",
            "\u001b[1mTuned Decision Tree Regression Model Metrics:\u001b[0m\n",
            "MAE :451.78585\n",
            "MSE :479125.290956\n",
            "RMSE :692.188768\n",
            "R2 :0.950013\n",
            "Adjusted R2 :0.950008\n"
          ]
        }
      ],
      "source": [
        "# Predicting Using GridSearchCV\n",
        "dtr_pred=dtr_GCV.predict(X_test)\n",
        "\n",
        "# Printing the metrics for GridSearchCV\n",
        "print('\\033[1mBest Parameters for Decision Tree Regression according to GCV:\\033[0m',dtr_GCV.best_params_)\n",
        "print('\\033[1mTuned Decision Tree Regression Model Metrics:\\033[0m')\n",
        "print(f\"MAE :{round(mean_absolute_error(y_test, dtr_pred),6)}\\nMSE :{ round(mean_squared_error(y_test, dtr_pred),6)}\\nRMSE :{round(np.sqrt(round(mean_squared_error(y_test, dtr_pred),6)),6)}\\nR2 :{round(r2_score(y_test, dtr_pred),6)}\\nAdjusted R2 :{round(1 - (1-r2_score(y_test, dtr_pred)) * (len(y_test)-1)/(len(y_test)-X_test.shape[1]-1),6)}\")"
      ]
    },
    {
      "cell_type": "markdown",
      "metadata": {
        "id": "K37t8K2HC3Nr"
      },
      "source": [
        "## **5. Random Forest Regression**"
      ]
    },
    {
      "cell_type": "code",
      "execution_count": null,
      "metadata": {
        "colab": {
          "base_uri": "https://localhost:8080/"
        },
        "id": "R405xjvfC02o",
        "outputId": "09c47659-f05c-4dd4-80e8-a3920b723250"
      },
      "outputs": [
        {
          "name": "stdout",
          "output_type": "stream",
          "text": [
            "Fitting 5 folds for each of 2 candidates, totalling 10 fits\n"
          ]
        },
        {
          "data": {
            "text/plain": [
              "GridSearchCV(estimator=RandomForestRegressor(random_state=30), n_jobs=-1,\n",
              "             param_grid={'min_samples_split': range(2, 4)}, scoring='r2',\n",
              "             verbose=10)"
            ]
          },
          "execution_count": 228,
          "metadata": {},
          "output_type": "execute_result"
        }
      ],
      "source": [
        "from sklearn.ensemble import RandomForestRegressor\n",
        "\n",
        "# Initializing paramter grid for GridSearchCV  \n",
        "params_grid={'min_samples_split':range(2,4)}\n",
        "          #'min_samples_split':range(2,6)}        ## we had to shorten the range because ram was not supporting\n",
        "\n",
        "# Defining object for GridSearchCV\n",
        "rfr_GCV=RandomForestRegressor(random_state=30)\n",
        "\n",
        "# Using GridSearchCV that optimizes scoring parameter R2 score\n",
        "rfr_GCV=GridSearchCV(rfr_GCV,params_grid,n_jobs=-1,scoring='r2',verbose=10)\n",
        "\n",
        "# Fitting data to our GridSearchCV object \n",
        "rfr_GCV.fit(X_train,y_train)"
      ]
    },
    {
      "cell_type": "code",
      "execution_count": null,
      "metadata": {
        "id": "ztDSUc4VC7TS",
        "outputId": "2cea5f22-e0ca-4572-987b-7f9dd6894559"
      },
      "outputs": [
        {
          "name": "stdout",
          "output_type": "stream",
          "text": [
            "\u001b[1mBest Parameters for Random Forest Regression according to GCV:\u001b[0m {'min_samples_split': 2}\n",
            "\u001b[1mTuned Random Forest Regression Model Metrics:\u001b[0m\n",
            "MAE :353.430831\n",
            "MSE :282081.277009\n",
            "RMSE :531.113243\n",
            "R2 :0.97057\n",
            "Adjusted R2 :0.970567\n"
          ]
        }
      ],
      "source": [
        "# Predicting Using GridSearchCV\n",
        "rfr_pred=rfr_GCV.predict(X_test)\n",
        "\n",
        "# Printing the metrics for GridSearchCV\n",
        "print('\\033[1mBest Parameters for Random Forest Regression according to GCV:\\033[0m',rfr_GCV.best_params_)\n",
        "print('\\033[1mTuned Random Forest Regression Model Metrics:\\033[0m')\n",
        "print(f\"MAE :{round(mean_absolute_error(y_test, rfr_pred),6)}\\nMSE :{ round(mean_squared_error(y_test, rfr_pred),6)}\\nRMSE :{round(np.sqrt(round(mean_squared_error(y_test, rfr_pred),6)),6)}\\nR2 :{round(r2_score(y_test, rfr_pred),6)}\\nAdjusted R2 :{round(1 - (1-r2_score(y_test, rfr_pred)) * (len(y_test)-1)/(len(y_test)-X_test.shape[1]-1),6)}\")"
      ]
    },
    {
      "cell_type": "markdown",
      "metadata": {
        "id": "MsqBd_k5qlkW"
      },
      "source": [
        "### **6. Gradient Boosting Regression**"
      ]
    },
    {
      "cell_type": "code",
      "execution_count": null,
      "metadata": {
        "id": "pGEzZ8bAqlkX",
        "outputId": "40be1565-2a73-41c6-b3ed-dc45a8b83278"
      },
      "outputs": [
        {
          "name": "stdout",
          "output_type": "stream",
          "text": [
            "Fitting 5 folds for each of 3 candidates, totalling 15 fits\n"
          ]
        },
        {
          "data": {
            "text/plain": [
              "GridSearchCV(estimator=GradientBoostingRegressor(random_state=30), n_jobs=-1,\n",
              "             param_grid={'learning_rate': [0.0, 0.1, 0.2]}, scoring='r2',\n",
              "             verbose=10)"
            ]
          },
          "execution_count": 235,
          "metadata": {},
          "output_type": "execute_result"
        }
      ],
      "source": [
        "# Initializing paramter grid for GridSearchCV\n",
        "params_grid={'learning_rate':[i*0.1 for i in range(3)]}\n",
        "            #'min_samples_split':range(2,6)}        ## we have commented out this part because ram is not supporting\n",
        " \n",
        "# Defining object for GridSearchCV\n",
        "gbr_GCV=GradientBoostingRegressor(random_state=30)\n",
        "\n",
        "# Using GridSearchCV that optimizes scoring parameter R2 score\n",
        "gbr_GCV=GridSearchCV(gbr_GCV,params_grid,n_jobs=-1,scoring='r2',verbose=10)\n",
        "\n",
        "# Fitting data to our GridSearchCV object \n",
        "gbr_GCV.fit(X_train,y_train)"
      ]
    },
    {
      "cell_type": "code",
      "execution_count": null,
      "metadata": {
        "id": "JM2kgWWJqlkX",
        "outputId": "3bd5b8fc-9caf-4df9-b4c7-2ef70721025c"
      },
      "outputs": [
        {
          "name": "stdout",
          "output_type": "stream",
          "text": [
            "\u001b[1mBest Parameters for Gradient Boosting Regression according to GCV:\u001b[0m {'learning_rate': 0.2}\n",
            "\u001b[1mTuned Gradient Boosting Regression Model Metrics:\u001b[0m\n",
            "MAE :735.112561\n",
            "MSE :990548.929894\n",
            "RMSE :995.263247\n",
            "R2 :0.896656\n",
            "Adjusted R2 :0.896646\n"
          ]
        }
      ],
      "source": [
        "# Predicting Using GridSearchCV\n",
        "gbr_pred=gbr_GCV.predict(X_test)\n",
        "\n",
        "# Printing the metrics for GridSearchCV\n",
        "print('\\033[1mBest Parameters for Gradient Boosting Regression according to GCV:\\033[0m',gbr_GCV.best_params_)\n",
        "print('\\033[1mTuned Gradient Boosting Regression Model Metrics:\\033[0m')\n",
        "print(f\"MAE :{round(mean_absolute_error(y_test, gbr_pred),6)}\\nMSE :{ round(mean_squared_error(y_test, gbr_pred),6)}\\nRMSE :{round(np.sqrt(round(mean_squared_error(y_test, gbr_pred),6)),6)}\\nR2 :{round(r2_score(y_test, gbr_pred),6)}\\nAdjusted R2 :{round(1 - (1-r2_score(y_test, gbr_pred)) * (len(y_test)-1)/(len(y_test)-X_test.shape[1]-1),6)}\")"
      ]
    },
    {
      "cell_type": "markdown",
      "metadata": {
        "id": "_v16Yb1dqlkX"
      },
      "source": [
        "***`OBSERVATION:`*** **After using hyperparameter tuning on all our regression models we came to our final conclusion that Random Forest Regression have performed much better with `Adjusted R2 : 0.970567` as Random Forest Regression can handle large datasets efficiently and the random forest algorithm provides a higher level of accuracy in predicting outcomes over any other regression algorithm.**"
      ]
    },
    {
      "cell_type": "markdown",
      "metadata": {
        "id": "L8hFJ2tOqlkY"
      },
      "source": [
        "## **Key findings from machine learning**\n",
        "\n",
        "---\n",
        "\n"
      ]
    },
    {
      "cell_type": "markdown",
      "metadata": {
        "id": "AgnrAUDpqlkY"
      },
      "source": [
        "1. Out of all seven Linear Regression Models that we built, it was found that linear regression was the fastest model while Random Forest regression was the slowest followed by Gradient Boosting Algorithm and XGBoost Regression among all the tested algorithms.\n",
        "\n",
        "2. It was found that even though Random Forest Regression model was one of the slowest, it had the higher Adjusted R2 score of 0.99409 among the other models and Best Parameters for Random Forest Regression according to GCV: {'min_samples_split': 3}\n",
        "3. Our random forest model gave the highest importance to the number of customers as it showed correlation of 0.91 with dependent variable Sales in our correlation graph.\n",
        "\n"
      ]
    },
    {
      "cell_type": "markdown",
      "metadata": {
        "id": "SbzSjx0kqlkY"
      },
      "source": [
        "# **7. Conclusions**\n",
        "\n",
        "---\n",
        "\n",
        "\n",
        "1. Store model 'b' have least number of stores in Rossmann yet it performed well and made more sales than other store models so it is advisable to increase the number of 'b' store model. \n",
        "\n",
        "2. Assortment level 'Basic' have the maximum number of stores in Rossmann yet it performed very badly but at the same time 'Extra' and 'Extended' assortment level with a smaller number of stores had performed extra ordinarily so it would be advisable to increase these assortment level.\n",
        "\n",
        "3. Linear relationship has been found among customer, sales and promo.And it has been seen that most of the customers came for shopping during the promo days as the cost was lower on those days. So, promo should be initiated to more stores to increase the sales.\n",
        "\n",
        "4. Sales has been low on the initial days of the month as compared to the end days, it can be assumed that people used to shop for the next month at the end of the previous month. Those products can be mainly be of basic necessities of a person's daily life.\n",
        "\n",
        "5. Average sales on weekdays were more as compared to weekends because  promos were provided to the customers during weekdays to increase the sales and not to weekends and reason might be that store use to remain close on Sundays.\n",
        "\n",
        "6. Sales during November and December month was higher compared to other months and that can be due to festive season in western European countries.\n",
        "\n",
        "7. Mostly competitor stores weren't that far and the stores were densely located near each other and also sales were higher when competition was nearer. So when competition was not there and sales were also low that might be because of the location factor like rural area.\n",
        "\n",
        "7. School holidays also influence the sales a lot as it can be observed that 17.8% of the sales gets affected by the school holidays which also means that around 17% of the sales are oriented from the school students. \n",
        "\n",
        "8. Performing various regression techniques, we found that XGboost Regression model have the better performance (with R2 : 0.988409) but after applying hyperparameter tuning on all our models we finally came to the conclusion that Random Forest Regression model have even higher performance (with R2 :0.994091) among the other models, as Random Forest Regression can handle large datasets efficiently and it's algorithm provides a higher level of accuracy in predicting outcomes over any other regression algorithm.\n",
        "\n"
      ]
    },
    {
      "cell_type": "code",
      "execution_count": null,
      "metadata": {
        "id": "8637I_M1qlkY"
      },
      "outputs": [],
      "source": []
    }
  ],
  "metadata": {
    "colab": {
      "collapsed_sections": [
        "v3FhfxoJjnVf"
      ],
      "provenance": [],
      "include_colab_link": true
    },
    "kernelspec": {
      "display_name": "Python 3 (ipykernel)",
      "language": "python",
      "name": "python3"
    },
    "language_info": {
      "codemirror_mode": {
        "name": "ipython",
        "version": 3
      },
      "file_extension": ".py",
      "mimetype": "text/x-python",
      "name": "python",
      "nbconvert_exporter": "python",
      "pygments_lexer": "ipython3",
      "version": "3.9.12"
    }
  },
  "nbformat": 4,
  "nbformat_minor": 0
}